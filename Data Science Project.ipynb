{
 "cells": [
  {
   "cell_type": "markdown",
   "metadata": {},
   "source": [
    "# Data Science Project \"Navigating Missed Hospital Visits\""
   ]
  },
  {
   "cell_type": "markdown",
   "metadata": {},
   "source": [
    "git add .\n",
    "git commit -m „what you edited“\n",
    "git push"
   ]
  },
  {
   "cell_type": "markdown",
   "metadata": {},
   "source": [
    "# 1. General Information\n",
    "Used dataset: Dataset_Hospital_Visits.csv\n",
    "\n",
    "Group 7:\n",
    "Yaren Sever, Kira Duske, Jinlin Chen"
   ]
  },
  {
   "cell_type": "markdown",
   "metadata": {},
   "source": [
    "# 2.Business Understanding\n",
    "\n",
    "Missed appointments, or 'No-shows', lead to considerable inefficiencies, including wasted resources and financial losses. They also negatively impact patient health outcomes due to delays in cases requiring earlier intervention. The aim of this project is to tackle the issue of missed hospital appointments by developing a machine learning model that predicts which patients are likely to miss their appointments. This enables hospitals to implement targeted inventories/strategies, optimizing resource use, reducing idle time and costs, enhancing schedule flexibility, and most importantly, improving patient care.\n",
    "\n",
    "Upon examining the dataset, the following assumptions are made:\n",
    "\n",
    "1. Impact of waiting time: Longer waiting times between scheduling and the appointment might increase the chances of a no-show. \n",
    "\n",
    "2. Patient Age and No-Show Correlation: Different age groups might exhibit varied tendencies in missing appointments. Typically, older patients, often dealing with more urgent health issues, may be less likely to miss appointments compared to younger patients. Conversely, younger patients, often having more unpredictable schedules, could demonstrate a higher propensity for no-shows.\n",
    "\n",
    "3. Health Conditions Influence: Certain health conditions like handicaps or chronic illnesses like diabetes might also affect a patient's ability to keep appointments.\n",
    "\n",
    "4. Effectiveness of SMS Reminders: The reception of SMS reminders might significantly reduce the probability of missing appointments.\n",
    "\n",
    "In this project, the correlation between these features, as well as other features in the data set and appointment no-shows will be shown, determining which features are most predictive and therefore should be included in the machine learning model.\n"
   ]
  },
  {
   "cell_type": "code",
   "execution_count": 1,
   "metadata": {},
   "outputs": [],
   "source": [
    "import pandas as pd\n",
    "import numpy as np\n",
    "from sklearn.model_selection import train_test_split\n",
    "import matplotlib.pyplot as plt\n",
    "import seaborn as sns\n",
    "%matplotlib inline\n",
    "import pandas as pd\n",
    "from sklearn import set_config\n",
    "import matplotlib.pyplot as plt\n",
    "import seaborn as sns\n",
    "from sklearn.impute import SimpleImputer\n",
    "from sklearn.preprocessing import OneHotEncoder\n",
    "from sklearn.experimental import enable_iterative_imputer\n",
    "from sklearn.impute import IterativeImputer\n",
    "from sklearn.compose import ColumnTransformer\n",
    "from sklearn.metrics import r2_score\n",
    "from sklearn.metrics import mean_absolute_error\n",
    "from sklearn.metrics import mean_squared_error\n",
    "from sklearn.ensemble import RandomForestRegressor\n",
    "from sklearn.tree import DecisionTreeRegressor\n",
    "from sklearn.model_selection import GridSearchCV\n",
    "from sklearn.metrics import make_scorer\n",
    "import numpy as np\n",
    "from sklearn.pipeline import Pipeline\n",
    "from sklearn.model_selection import train_test_split\n",
    "from sklearn.linear_model import LinearRegression\n",
    "from sklearn.preprocessing import OneHotEncoder, StandardScaler\n",
    "from sklearn import metrics\n",
    "from sklearn.pipeline import Pipeline\n",
    "from sklearn.ensemble import RandomForestClassifier"
   ]
  },
  {
   "cell_type": "code",
   "execution_count": 2,
   "metadata": {},
   "outputs": [],
   "source": [
    "# Read csv file and import data.\n",
    "df=pd.read_csv(\"Dataset_Hospital_Visits.csv\")"
   ]
  },
  {
   "cell_type": "markdown",
   "metadata": {},
   "source": [
    "# 3.Exploratory Data Analysis"
   ]
  },
  {
   "cell_type": "markdown",
   "metadata": {},
   "source": [
    "In order to gain detailed information about our dataset, we looked at the description, missing data and possible relationships between columns such as age, gender, no-shows and so on.\n",
    "\n",
    "The first step is to get an overview of all the columns and data types in the dataset. We identified 14 columns such as PatientID, AppointmentID, Gender and Age.\n",
    "\n",
    "The dataset contains, for example, integers, floats, objects and strings.\n",
    "\n",
    "We also checked for duplicates within the dataset and for null values."
   ]
  },
  {
   "cell_type": "code",
   "execution_count": 3,
   "metadata": {},
   "outputs": [
    {
     "name": "stdout",
     "output_type": "stream",
     "text": [
      "<class 'pandas.core.frame.DataFrame'>\n",
      "RangeIndex: 88421 entries, 0 to 88420\n",
      "Data columns (total 14 columns):\n",
      " #   Column           Non-Null Count  Dtype  \n",
      "---  ------           --------------  -----  \n",
      " 0   PatientId        88421 non-null  float64\n",
      " 1   AppointmentID    88421 non-null  int64  \n",
      " 2   Sex              88421 non-null  object \n",
      " 3   ScheduledDate    88421 non-null  object \n",
      " 4   AppointmentDate  88421 non-null  object \n",
      " 5   Age              79614 non-null  float64\n",
      " 6   Community        77708 non-null  object \n",
      " 7   SocialWelfare    75902 non-null  object \n",
      " 8   Hipertension     80400 non-null  object \n",
      " 9   Diabetes         88421 non-null  object \n",
      " 10  Alcoholism       73532 non-null  object \n",
      " 11  Handcap          88421 non-null  object \n",
      " 12  SMS_received     88421 non-null  object \n",
      " 13  No-show          88421 non-null  object \n",
      "dtypes: float64(2), int64(1), object(11)\n",
      "memory usage: 9.4+ MB\n"
     ]
    }
   ],
   "source": [
    "# To gain information of the dataframe such as included colums, number of non-null for each columns and data types\n",
    "df.info()\n"
   ]
  },
  {
   "cell_type": "code",
   "execution_count": 4,
   "metadata": {},
   "outputs": [
    {
     "data": {
      "text/html": [
       "<div>\n",
       "<style scoped>\n",
       "    .dataframe tbody tr th:only-of-type {\n",
       "        vertical-align: middle;\n",
       "    }\n",
       "\n",
       "    .dataframe tbody tr th {\n",
       "        vertical-align: top;\n",
       "    }\n",
       "\n",
       "    .dataframe thead th {\n",
       "        text-align: right;\n",
       "    }\n",
       "</style>\n",
       "<table border=\"1\" class=\"dataframe\">\n",
       "  <thead>\n",
       "    <tr style=\"text-align: right;\">\n",
       "      <th></th>\n",
       "      <th>PatientId</th>\n",
       "      <th>AppointmentID</th>\n",
       "      <th>Age</th>\n",
       "    </tr>\n",
       "  </thead>\n",
       "  <tbody>\n",
       "    <tr>\n",
       "      <th>count</th>\n",
       "      <td>8.842100e+04</td>\n",
       "      <td>8.842100e+04</td>\n",
       "      <td>79614.000000</td>\n",
       "    </tr>\n",
       "    <tr>\n",
       "      <th>mean</th>\n",
       "      <td>1.485355e+14</td>\n",
       "      <td>5.675199e+06</td>\n",
       "      <td>37.067903</td>\n",
       "    </tr>\n",
       "    <tr>\n",
       "      <th>std</th>\n",
       "      <td>2.572424e+14</td>\n",
       "      <td>7.145639e+04</td>\n",
       "      <td>23.140942</td>\n",
       "    </tr>\n",
       "    <tr>\n",
       "      <th>min</th>\n",
       "      <td>3.921784e+04</td>\n",
       "      <td>5.030230e+06</td>\n",
       "      <td>0.000000</td>\n",
       "    </tr>\n",
       "    <tr>\n",
       "      <th>25%</th>\n",
       "      <td>4.194616e+12</td>\n",
       "      <td>5.640214e+06</td>\n",
       "      <td>18.000000</td>\n",
       "    </tr>\n",
       "    <tr>\n",
       "      <th>50%</th>\n",
       "      <td>3.189960e+13</td>\n",
       "      <td>5.680520e+06</td>\n",
       "      <td>37.000000</td>\n",
       "    </tr>\n",
       "    <tr>\n",
       "      <th>75%</th>\n",
       "      <td>9.465347e+13</td>\n",
       "      <td>5.725486e+06</td>\n",
       "      <td>55.000000</td>\n",
       "    </tr>\n",
       "    <tr>\n",
       "      <th>max</th>\n",
       "      <td>9.999816e+14</td>\n",
       "      <td>5.790484e+06</td>\n",
       "      <td>115.000000</td>\n",
       "    </tr>\n",
       "  </tbody>\n",
       "</table>\n",
       "</div>"
      ],
      "text/plain": [
       "          PatientId  AppointmentID           Age\n",
       "count  8.842100e+04   8.842100e+04  79614.000000\n",
       "mean   1.485355e+14   5.675199e+06     37.067903\n",
       "std    2.572424e+14   7.145639e+04     23.140942\n",
       "min    3.921784e+04   5.030230e+06      0.000000\n",
       "25%    4.194616e+12   5.640214e+06     18.000000\n",
       "50%    3.189960e+13   5.680520e+06     37.000000\n",
       "75%    9.465347e+13   5.725486e+06     55.000000\n",
       "max    9.999816e+14   5.790484e+06    115.000000"
      ]
     },
     "execution_count": 4,
     "metadata": {},
     "output_type": "execute_result"
    }
   ],
   "source": [
    "# Provide statistics of the dataframe\n",
    "df.describe()"
   ]
  },
  {
   "cell_type": "code",
   "execution_count": 5,
   "metadata": {},
   "outputs": [
    {
     "name": "stdout",
     "output_type": "stream",
     "text": [
      "0\n"
     ]
    }
   ],
   "source": [
    "# Check for duplicated values. \n",
    "# In this data frame there is 0 duplicated value.\n",
    "print(df.duplicated().sum())"
   ]
  },
  {
   "cell_type": "code",
   "execution_count": 6,
   "metadata": {},
   "outputs": [
    {
     "name": "stdout",
     "output_type": "stream",
     "text": [
      "Initial length: 88421 rows\n",
      "PatientId              0\n",
      "AppointmentID          0\n",
      "Sex                    0\n",
      "ScheduledDate          0\n",
      "AppointmentDate        0\n",
      "Age                 8807\n",
      "Community          10713\n",
      "SocialWelfare      12519\n",
      "Hipertension        8021\n",
      "Diabetes               0\n",
      "Alcoholism         14889\n",
      "Handcap                0\n",
      "SMS_received           0\n",
      "No-show                0\n",
      "dtype: int64\n"
     ]
    }
   ],
   "source": [
    "# Showing how many null values each column contains\n",
    "print(\"Initial length:\", len(df), \"rows\")\n",
    "print(df.isnull().sum())"
   ]
  },
  {
   "cell_type": "code",
   "execution_count": 7,
   "metadata": {},
   "outputs": [
    {
     "name": "stdout",
     "output_type": "stream",
     "text": [
      "<class 'pandas.core.frame.DataFrame'>\n",
      "RangeIndex: 88421 entries, 0 to 88420\n",
      "Data columns (total 14 columns):\n",
      " #   Column           Non-Null Count  Dtype              \n",
      "---  ------           --------------  -----              \n",
      " 0   PatientId        88421 non-null  float64            \n",
      " 1   AppointmentID    88421 non-null  int64              \n",
      " 2   Sex              88421 non-null  object             \n",
      " 3   ScheduledDate    88421 non-null  datetime64[ns, UTC]\n",
      " 4   AppointmentDate  88421 non-null  datetime64[ns, UTC]\n",
      " 5   Age              79614 non-null  float64            \n",
      " 6   Community        77708 non-null  object             \n",
      " 7   SocialWelfare    75902 non-null  object             \n",
      " 8   Hipertension     80400 non-null  object             \n",
      " 9   Diabetes         88421 non-null  object             \n",
      " 10  Alcoholism       73532 non-null  object             \n",
      " 11  Handcap          88421 non-null  object             \n",
      " 12  SMS_received     88421 non-null  object             \n",
      " 13  No-show          88421 non-null  object             \n",
      "dtypes: datetime64[ns, UTC](2), float64(2), int64(1), object(9)\n",
      "memory usage: 9.4+ MB\n",
      "None\n"
     ]
    },
    {
     "data": {
      "text/html": [
       "<div>\n",
       "<style scoped>\n",
       "    .dataframe tbody tr th:only-of-type {\n",
       "        vertical-align: middle;\n",
       "    }\n",
       "\n",
       "    .dataframe tbody tr th {\n",
       "        vertical-align: top;\n",
       "    }\n",
       "\n",
       "    .dataframe thead th {\n",
       "        text-align: right;\n",
       "    }\n",
       "</style>\n",
       "<table border=\"1\" class=\"dataframe\">\n",
       "  <thead>\n",
       "    <tr style=\"text-align: right;\">\n",
       "      <th></th>\n",
       "      <th>PatientId</th>\n",
       "      <th>AppointmentID</th>\n",
       "      <th>Sex</th>\n",
       "      <th>ScheduledDate</th>\n",
       "      <th>AppointmentDate</th>\n",
       "      <th>Age</th>\n",
       "      <th>Community</th>\n",
       "      <th>SocialWelfare</th>\n",
       "      <th>Hipertension</th>\n",
       "      <th>Diabetes</th>\n",
       "      <th>Alcoholism</th>\n",
       "      <th>Handcap</th>\n",
       "      <th>SMS_received</th>\n",
       "      <th>No-show</th>\n",
       "    </tr>\n",
       "  </thead>\n",
       "  <tbody>\n",
       "    <tr>\n",
       "      <th>0</th>\n",
       "      <td>4.738527e+13</td>\n",
       "      <td>5387604</td>\n",
       "      <td>F</td>\n",
       "      <td>2016-02-24 07:53:17+00:00</td>\n",
       "      <td>2016-05-13 00:00:00+00:00</td>\n",
       "      <td>NaN</td>\n",
       "      <td>RESISTÊNCIA</td>\n",
       "      <td>no</td>\n",
       "      <td>no</td>\n",
       "      <td>no</td>\n",
       "      <td>no</td>\n",
       "      <td>no</td>\n",
       "      <td>no</td>\n",
       "      <td>No</td>\n",
       "    </tr>\n",
       "    <tr>\n",
       "      <th>1</th>\n",
       "      <td>6.557495e+13</td>\n",
       "      <td>5655266</td>\n",
       "      <td>M</td>\n",
       "      <td>2016-05-03 16:29:14+00:00</td>\n",
       "      <td>2016-05-12 00:00:00+00:00</td>\n",
       "      <td>4.0</td>\n",
       "      <td>NaN</td>\n",
       "      <td>NaN</td>\n",
       "      <td>NaN</td>\n",
       "      <td>no</td>\n",
       "      <td>no</td>\n",
       "      <td>no</td>\n",
       "      <td>no</td>\n",
       "      <td>No</td>\n",
       "    </tr>\n",
       "    <tr>\n",
       "      <th>2</th>\n",
       "      <td>1.265473e+11</td>\n",
       "      <td>5745855</td>\n",
       "      <td>F</td>\n",
       "      <td>2016-05-30 12:54:18+00:00</td>\n",
       "      <td>2016-05-30 00:00:00+00:00</td>\n",
       "      <td>19.0</td>\n",
       "      <td>JARDIM DA PENHA</td>\n",
       "      <td>no</td>\n",
       "      <td>no</td>\n",
       "      <td>no</td>\n",
       "      <td>no</td>\n",
       "      <td>no</td>\n",
       "      <td>no</td>\n",
       "      <td>No</td>\n",
       "    </tr>\n",
       "    <tr>\n",
       "      <th>3</th>\n",
       "      <td>2.681769e+13</td>\n",
       "      <td>5700247</td>\n",
       "      <td>F</td>\n",
       "      <td>2016-05-16 09:15:51+00:00</td>\n",
       "      <td>2016-05-16 00:00:00+00:00</td>\n",
       "      <td>55.0</td>\n",
       "      <td>JESUS DE NAZARETH</td>\n",
       "      <td>no</td>\n",
       "      <td>yes</td>\n",
       "      <td>no</td>\n",
       "      <td>no</td>\n",
       "      <td>no</td>\n",
       "      <td>no</td>\n",
       "      <td>No</td>\n",
       "    </tr>\n",
       "    <tr>\n",
       "      <th>4</th>\n",
       "      <td>7.813565e+13</td>\n",
       "      <td>5656211</td>\n",
       "      <td>F</td>\n",
       "      <td>2016-05-04 07:46:23+00:00</td>\n",
       "      <td>2016-05-04 00:00:00+00:00</td>\n",
       "      <td>0.0</td>\n",
       "      <td>ITARARÉ</td>\n",
       "      <td>NaN</td>\n",
       "      <td>no</td>\n",
       "      <td>no</td>\n",
       "      <td>no</td>\n",
       "      <td>no</td>\n",
       "      <td>no</td>\n",
       "      <td>No</td>\n",
       "    </tr>\n",
       "  </tbody>\n",
       "</table>\n",
       "</div>"
      ],
      "text/plain": [
       "      PatientId  AppointmentID Sex             ScheduledDate  \\\n",
       "0  4.738527e+13        5387604   F 2016-02-24 07:53:17+00:00   \n",
       "1  6.557495e+13        5655266   M 2016-05-03 16:29:14+00:00   \n",
       "2  1.265473e+11        5745855   F 2016-05-30 12:54:18+00:00   \n",
       "3  2.681769e+13        5700247   F 2016-05-16 09:15:51+00:00   \n",
       "4  7.813565e+13        5656211   F 2016-05-04 07:46:23+00:00   \n",
       "\n",
       "            AppointmentDate   Age          Community SocialWelfare  \\\n",
       "0 2016-05-13 00:00:00+00:00   NaN        RESISTÊNCIA            no   \n",
       "1 2016-05-12 00:00:00+00:00   4.0                NaN           NaN   \n",
       "2 2016-05-30 00:00:00+00:00  19.0    JARDIM DA PENHA            no   \n",
       "3 2016-05-16 00:00:00+00:00  55.0  JESUS DE NAZARETH            no   \n",
       "4 2016-05-04 00:00:00+00:00   0.0            ITARARÉ           NaN   \n",
       "\n",
       "  Hipertension Diabetes Alcoholism Handcap SMS_received No-show  \n",
       "0           no       no         no      no           no      No  \n",
       "1          NaN       no         no      no           no      No  \n",
       "2           no       no         no      no           no      No  \n",
       "3          yes       no         no      no           no      No  \n",
       "4           no       no         no      no           no      No  "
      ]
     },
     "execution_count": 7,
     "metadata": {},
     "output_type": "execute_result"
    }
   ],
   "source": [
    "# Change data type of a column \n",
    "# Patient Id is changed from float to integer as integer is a more appropriate data type for patient id. \n",
    "# Scheduled date and Appointment Date are changed from object to data type of date time, as object is the wrong data type and date time is easier for calculation in the following steps.\n",
    "#df['PatientId']=df['PatientId'].astype(int)\n",
    "df['ScheduledDate'] = pd.to_datetime(df['ScheduledDate'])\n",
    "df['AppointmentDate'] = pd.to_datetime(df['AppointmentDate'])\n",
    "\n",
    "# Check current data type of each column and show first 5 rows of the dataframe\n",
    "print(df.info())\n",
    "df.head()"
   ]
  },
  {
   "cell_type": "markdown",
   "metadata": {},
   "source": [
    "## 3.1. Target Variable Distribution\n",
    "At first we analyze the distribution of no-show to determine if stratification is necessary."
   ]
  },
  {
   "cell_type": "code",
   "execution_count": 8,
   "metadata": {},
   "outputs": [
    {
     "data": {
      "image/png": "[encoded data removed]",
      "text/plain": [
       "<Figure size 640x480 with 1 Axes>"
      ]
     },
     "metadata": {},
     "output_type": "display_data"
    }
   ],
   "source": [
    "sns.countplot(data=df, x=\"No-show\")\n",
    "plt.title(\"Distribution of No-show\")\n",
    "plt.xlabel(\"No-show\")\n",
    "plt.ylabel(\"Count\")\n",
    "plt.show()"
   ]
  },
  {
   "cell_type": "markdown",
   "metadata": {},
   "source": [
    "## 3.2. Waiting Time Analysis"
   ]
  },
  {
   "cell_type": "code",
   "execution_count": 9,
   "metadata": {},
   "outputs": [
    {
     "data": {
      "text/plain": [
       "<Axes: title={'center': 'Relation between Waiting Time and No Show (Counts)'}, xlabel='No-show', ylabel='Waiting_Time_Categorized'>"
      ]
     },
     "execution_count": 9,
     "metadata": {},
     "output_type": "execute_result"
    },
    {
     "data": {
      "image/png": "[encoded data removed]",
      "text/plain": [
       "<Figure size 1000x600 with 2 Axes>"
      ]
     },
     "metadata": {},
     "output_type": "display_data"
    }
   ],
   "source": [
    "# Showing relation between waiting time (appointment date - scheduled date) and no show with a heatmap. \n",
    "df['ScheduledDate'] = pd.to_datetime(df['ScheduledDate'])\n",
    "df['AppointmentDate'] = pd.to_datetime(df['AppointmentDate'])\n",
    "df['WaitingTime'] = (df['AppointmentDate'] - df['ScheduledDate']).dt.days\n",
    "\n",
    "# Categorize waiting time into bins of 10 days\n",
    "max_waiting_time = df['WaitingTime'].max()\n",
    "min_waiting_time = df['WaitingTime'].min()\n",
    "waiting_time_bins = np.arange(-10, max_waiting_time+10,10)\n",
    "waiting_time_labels = [f\"{i}-{i+9}\" for i in waiting_time_bins[:-1]]\n",
    "df['Waiting_Time_Categorized'] = pd.cut(df['WaitingTime'], bins=waiting_time_bins, labels=waiting_time_labels, right=False)\n",
    "\n",
    "wt_hm_counts = df.pivot_table(index='Waiting_Time_Categorized', columns='No-show', aggfunc='size',fill_value=0)\n",
    "\n",
    "plt.figure(figsize=(10,6))\n",
    "plt.title('Relation between Waiting Time and No Show (Counts)')\n",
    "sns.heatmap(wt_hm_counts, annot=True, cmap = sns.cm.rocket_r, fmt='g')"
   ]
  },
  {
   "cell_type": "markdown",
   "metadata": {},
   "source": [
    "The heatmap shows that the no-show rates is in relation with waiting time. As the different colours visualize the count. As shown in the heatmap, the no-show amount increases drastically once reaching the waiting_Time_category of 70-79. Furthermore we see that there are negative values for waiting time included in the heatmap, which is the case for nearly 30.000 cases in the dataframe."
   ]
  },
  {
   "cell_type": "code",
   "execution_count": 10,
   "metadata": {},
   "outputs": [
    {
     "data": {
      "text/plain": [
       "<Axes: title={'center': 'Relation between Waiting Time and No Show (Percentage)'}, xlabel='No-show', ylabel='Waiting_Time_Categorized'>"
      ]
     },
     "execution_count": 10,
     "metadata": {},
     "output_type": "execute_result"
    },
    {
     "data": {
      "image/png": "[encoded data removed]",
      "text/plain": [
       "<Figure size 1000x600 with 2 Axes>"
      ]
     },
     "metadata": {},
     "output_type": "display_data"
    }
   ],
   "source": [
    "# Convert counts to percentages\n",
    "wt_hm_percentage = wt_hm_counts.div(wt_hm_counts.sum(axis=1), axis=0) * 100\n",
    "\n",
    "plt.figure(figsize=(10, 6))\n",
    "plt.title('Relation between Waiting Time and No Show (Percentage)')\n",
    "sns.heatmap(wt_hm_percentage, annot=True, cmap=sns.cm.rocket_r, fmt='.1f')\n",
    "\n",
    "#This histogram illustrates the differences in patient no-show rates based on whether they received an SMS reminder for their appointment"
   ]
  },
  {
   "cell_type": "markdown",
   "metadata": {},
   "source": [
    "The transition to percentage allows a better understanding of the relations within the heatmap. It shows that the no-show rate is highest for the waiting_time_category between 140 and 159 as 57-60 percent do not attend their appointment."
   ]
  },
  {
   "cell_type": "markdown",
   "metadata": {},
   "source": [
    "## 3.3. Categorical Variable Analysis"
   ]
  },
  {
   "cell_type": "code",
   "execution_count": 11,
   "metadata": {},
   "outputs": [
    {
     "data": {
      "image/png": "[encoded data removed]",
      "text/plain": [
       "<Figure size 800x600 with 1 Axes>"
      ]
     },
     "metadata": {},
     "output_type": "display_data"
    },
    {
     "data": {
      "image/png": "[encoded data removed]",
      "text/plain": [
       "<Figure size 800x600 with 1 Axes>"
      ]
     },
     "metadata": {},
     "output_type": "display_data"
    },
    {
     "data": {
      "image/png": "[encoded data removed]",
      "text/plain": [
       "<Figure size 800x600 with 1 Axes>"
      ]
     },
     "metadata": {},
     "output_type": "display_data"
    },
    {
     "data": {
      "image/png": "[encoded data removed]",
      "text/plain": [
       "<Figure size 800x600 with 1 Axes>"
      ]
     },
     "metadata": {},
     "output_type": "display_data"
    },
    {
     "data": {
      "image/png": "[encoded data removed]",
      "text/plain": [
       "<Figure size 800x600 with 1 Axes>"
      ]
     },
     "metadata": {},
     "output_type": "display_data"
    },
    {
     "data": {
      "image/png": "[encoded data removed]",
      "text/plain": [
       "<Figure size 800x600 with 1 Axes>"
      ]
     },
     "metadata": {},
     "output_type": "display_data"
    },
    {
     "data": {
      "image/png": "[encoded data removed]",
      "text/plain": [
       "<Figure size 800x600 with 1 Axes>"
      ]
     },
     "metadata": {},
     "output_type": "display_data"
    }
   ],
   "source": [
    "categorical_features = ['Sex', 'SocialWelfare', 'Hipertension',\t'Diabetes',\t'Alcoholism', 'Handcap','SMS_received']\n",
    "\n",
    "for i in categorical_features:\n",
    "    plt.figure(figsize=(8, 6))\n",
    "    ax = sns.countplot(x=i, hue='No-show', data=df)\n",
    "\n",
    "    total = float(len(df[i]))\n",
    "\n",
    "    # Adding percentage labels on top of each bar\n",
    "    for p in ax.patches:\n",
    "        height = p.get_height()\n",
    "        ax.text(p.get_x() + p.get_width() / 2.,\n",
    "                height + 3,\n",
    "                f'{(height / total) * 100:.2f}%'\n",
    "        )\n",
    "\n",
    "    plt.title(f'{i} vs No-show')\n",
    "    plt.xlabel(i)\n",
    "    plt.ylabel('Count')\n",
    "    plt.legend(title='No-show', loc='upper right')\n",
    "    plt.show()"
   ]
  },
  {
   "cell_type": "markdown",
   "metadata": {},
   "source": [
    "1) The first bar chart shows the distribution of genders within the categories no-show: yes and no-show:no. While more than 50% of the female patients show up for their appointment, and 13% seem not to, only 28 percent of the male patients show up and 7 seem not to.\n",
    "2) When analyzing the relation between no-shows and social welfare, we can see that those who are not relying on social welfare have a no-show rate of 15,31% while more than 65 % of the patients without social welfare show up for their appointments. In contrast only about 6 % of those patients relying on social welfare show up for appointments and around 2 % have a positive no-show.\n",
    "3) Furthermore we wanted to analyze the relation between different health conditions and their impact on the no-show rate of patients and as shown in the graphs the following observations can be made:\n",
    "Hipertension: more than 57% of those patients without a hipertension show up , while 15,31% do not. In contrast to that, only 14,86% of those patients having a hipertension have a negative no-show rate, while 3,10% have a positive no-show rate.\n",
    "Diabetes: The difference is even higher for diabetes, as nearly 80% of those patients not having diabetes show up for their appointments, while less than 19 % do not. Those patients being affected by diabetes claim to not show up for their apointments in 1,31% percent and seem to show up in 5,87% percent.\n",
    "Alcoholism: ADD\n",
    "4) SMS received: ADD"
   ]
  },
  {
   "cell_type": "code",
   "execution_count": null,
   "metadata": {},
   "outputs": [],
   "source": [
    "#Pie chart portraying the distribution of female and male patients\n",
    "\n",
    "# Counting the occurrences of each sex\n",
    "sex_counts = df['Sex'].value_counts()\n",
    "\n",
    "# Creating a pie chart\n",
    "plt.figure(figsize=(8, 8))\n",
    "plt.pie(sex_counts, labels=sex_counts.index, autopct='%1.1f%%', colors=['red', 'green'], startangle=90, explode=(0, 0.05))\n",
    "plt.title('Distribution of female and male patients')\n",
    "plt.show()"
   ]
  },
  {
   "cell_type": "markdown",
   "metadata": {},
   "source": [
    "The pie chart shows that there are 64,8 %  female patients (red) in the data frame, while there are 35,2 % male (green) patients. "
   ]
  },
  {
   "cell_type": "code",
   "execution_count": null,
   "metadata": {},
   "outputs": [],
   "source": [
    "#Histrogram showing the distribution of the patients age\n",
    "\n",
    "# Histogram for 'Age'\n",
    "plt.hist(df['Age'], bins=20, edgecolor='black', color= 'beige')\n",
    "plt.title('Distribution of Ages')\n",
    "plt.xlabel('Age')\n",
    "plt.ylabel('count')\n",
    "plt.show()"
   ]
  },
  {
   "cell_type": "markdown",
   "metadata": {},
   "source": [
    "The age distribution bar chart shows what age groups are represented in the dataframe. As seen in the bar chart, the data contains patients from less than 20 years old to more than 100 years old."
   ]
  },
  {
   "cell_type": "code",
   "execution_count": null,
   "metadata": {},
   "outputs": [],
   "source": [
    "#Violin plot for male and female patients and their age distribution across different ages\n",
    "\n",
    "# Violin plot of age by sex\n",
    "plt.figure(figsize=(10, 6))\n",
    "sns.violinplot(x='Sex', y='Age', data=df)\n",
    "plt.title('Distribution of age for male and female patients')\n",
    "plt.xlabel('Sex')\n",
    "plt.ylabel('Age')\n",
    "plt.show()"
   ]
  },
  {
   "cell_type": "code",
   "execution_count": null,
   "metadata": {},
   "outputs": [],
   "source": [
    "#Bar chart to visualize the amount of total patients for each community\n",
    "\n",
    "# Count plot for 'Community'\n",
    "plt.figure(figsize=(22, 7))\n",
    "sns.countplot(x='Community', data=df, color= 'navy')\n",
    "plt.title('Amount of patients in each community')\n",
    "plt.xticks(rotation=40, ha='right')\n",
    "plt.show()"
   ]
  },
  {
   "cell_type": "markdown",
   "metadata": {},
   "source": [
    "To show the overall distribution of patients across the communities, we created this bar chart. As seen in the chart, the community with most patients is Jardim Camubri with \n",
    "more than 5000 patients. The second most represented community is Maria Obitz with a little more than 4000 patients originating from this community. "
   ]
  },
  {
   "cell_type": "code",
   "execution_count": null,
   "metadata": {},
   "outputs": [],
   "source": [
    "#Bar plot showing the no-show rate in relation to the social-welfare status of the patients\n",
    "\n",
    "# Bar plot for 'SocialWelfare'\n",
    "#Creating the barplot\n",
    "\n",
    "sns.barplot(x='SocialWelfare', y='No-show', data=df)\n",
    "\n",
    "#Adding labels and litle\n",
    "\n",
    "plt.title('No-Show Rate for Different Social Welfare Status')\n",
    "plt.xlabel('Social Welfare Status')\n",
    "plt.ylabel('No-Show Rate')\n",
    "plt.show()"
   ]
  },
  {
   "cell_type": "code",
   "execution_count": null,
   "metadata": {},
   "outputs": [],
   "source": [
    "# Convert 'No' to 0 and 'Yes' to 1 for the 'No-show' column\n",
    "df['No-show'] = (df['No-show'] == 'Yes').astype(int)\n",
    "\n",
    "# Scatter plot with bubble size based on 'WaitingTime'\n",
    "plt.figure(figsize=(10, 8))\n",
    "sns.scatterplot(x='Age', y='WaitingTime', size='No-show', data=df, sizes=(30, 200), alpha=0.4, hue='No-show')\n",
    "\n",
    "plt.title('Relation of Age, Waiting Time, and No-Show')\n",
    "plt.xlabel('Age')\n",
    "plt.ylabel('Waiting Time')\n",
    "plt.legend(title='No-Show', labels=['No', 'Yes'])\n",
    "plt.show()"
   ]
  },
  {
   "cell_type": "markdown",
   "metadata": {},
   "source": [
    "This scatter plot shows the relation of age, waiting time and no-show. As seen in the plot, the waiting time seems to increase for people of progressed age. Furthermore, this seems to lead to more no-shows for older patients for a waiting time between 50 and around 80 than for younger patients, being less than 45 years old."
   ]
  },
  {
   "cell_type": "markdown",
   "metadata": {},
   "source": [
    "# 4. Data Preparation"
   ]
  },
  {
   "cell_type": "markdown",
   "metadata": {},
   "source": [
    "Handcap column has wrong data values. "
   ]
  },
  {
   "cell_type": "code",
   "execution_count": 12,
   "metadata": {},
   "outputs": [
    {
     "name": "stdout",
     "output_type": "stream",
     "text": [
      "object\n"
     ]
    },
    {
     "data": {
      "text/plain": [
       "array(['no', 'yes', '2', '4', '3'], dtype=object)"
      ]
     },
     "execution_count": 12,
     "metadata": {},
     "output_type": "execute_result"
    }
   ],
   "source": [
    "# Wrong data in Handcap column\n",
    "print(df['Handcap'].dtype)\n",
    "df['Handcap'].unique()"
   ]
  },
  {
   "cell_type": "code",
   "execution_count": 13,
   "metadata": {},
   "outputs": [
    {
     "name": "stdout",
     "output_type": "stream",
     "text": [
      "153\n"
     ]
    }
   ],
   "source": [
    "# Show the rows that contain false values\n",
    "count_handcap_false = df[df['Handcap'].isin(['2','3','4'])].shape[0]\n",
    "print(count_handcap_false)"
   ]
  },
  {
   "cell_type": "code",
   "execution_count": 14,
   "metadata": {},
   "outputs": [
    {
     "data": {
      "text/plain": [
       "array(['no', 'yes'], dtype=object)"
      ]
     },
     "execution_count": 14,
     "metadata": {},
     "output_type": "execute_result"
    }
   ],
   "source": [
    "# Delete the rows that contain false value \n",
    "df = df[~df['Handcap'].isin(['2', '3', '4'])]\n",
    "df['Handcap'].unique()"
   ]
  },
  {
   "cell_type": "code",
   "execution_count": 15,
   "metadata": {},
   "outputs": [
    {
     "name": "stdout",
     "output_type": "stream",
     "text": [
      "<class 'pandas.core.frame.DataFrame'>\n",
      "Index: 88268 entries, 0 to 88420\n",
      "Data columns (total 16 columns):\n",
      " #   Column                    Non-Null Count  Dtype              \n",
      "---  ------                    --------------  -----              \n",
      " 0   PatientId                 88268 non-null  float64            \n",
      " 1   AppointmentID             88268 non-null  int64              \n",
      " 2   Sex                       88268 non-null  object             \n",
      " 3   ScheduledDate             88268 non-null  datetime64[ns, UTC]\n",
      " 4   AppointmentDate           88268 non-null  datetime64[ns, UTC]\n",
      " 5   Age                       79474 non-null  float64            \n",
      " 6   Community                 77573 non-null  object             \n",
      " 7   SocialWelfare             75769 non-null  object             \n",
      " 8   Hipertension              80257 non-null  object             \n",
      " 9   Diabetes                  88268 non-null  object             \n",
      " 10  Alcoholism                73406 non-null  object             \n",
      " 11  Handcap                   88268 non-null  object             \n",
      " 12  SMS_received              88268 non-null  object             \n",
      " 13  No-show                   88268 non-null  object             \n",
      " 14  WaitingTime               88268 non-null  int64              \n",
      " 15  Waiting_Time_Categorized  88268 non-null  category           \n",
      "dtypes: category(1), datetime64[ns, UTC](2), float64(2), int64(2), object(9)\n",
      "memory usage: 10.9+ MB\n"
     ]
    }
   ],
   "source": [
    "df.info()"
   ]
  },
  {
   "cell_type": "markdown",
   "metadata": {},
   "source": [
    "Appointment date timestamp is default to 00:00:00."
   ]
  },
  {
   "cell_type": "markdown",
   "metadata": {},
   "source": [
    "This creates cases where WaitingTime has negative value when the scheduled day is the same as appointment day"
   ]
  },
  {
   "cell_type": "code",
   "execution_count": 16,
   "metadata": {},
   "outputs": [
    {
     "name": "stdout",
     "output_type": "stream",
     "text": [
      "30835\n"
     ]
    }
   ],
   "source": [
    "#Amount of rows where WaitingTime has negative value\n",
    "negative_count_waitingtime = len(df[df['WaitingTime'] < 0])\n",
    "print(negative_count_waitingtime)"
   ]
  },
  {
   "cell_type": "code",
   "execution_count": 17,
   "metadata": {},
   "outputs": [
    {
     "name": "stdout",
     "output_type": "stream",
     "text": [
      "          PatientId  AppointmentID Sex             ScheduledDate  \\\n",
      "2      1.265473e+11        5745855   F 2016-05-30 12:54:18+00:00   \n",
      "3      2.681769e+13        5700247   F 2016-05-16 09:15:51+00:00   \n",
      "4      7.813565e+13        5656211   F 2016-05-04 07:46:23+00:00   \n",
      "7      6.335895e+12        5776570   F 2016-06-06 11:24:48+00:00   \n",
      "9      8.813572e+13        5769624   F 2016-06-03 09:03:20+00:00   \n",
      "...             ...            ...  ..                       ...   \n",
      "88403  5.776642e+12        5661408   M 2016-05-05 07:27:10+00:00   \n",
      "88407  5.545616e+14        5650303   F 2016-05-03 07:36:56+00:00   \n",
      "88408  7.521780e+11        5711540   M 2016-05-18 07:45:01+00:00   \n",
      "88412  3.931576e+13        5705637   F 2016-05-17 07:21:43+00:00   \n",
      "88419  7.854955e+10        5787782   F 2016-06-08 10:35:20+00:00   \n",
      "\n",
      "                AppointmentDate   Age          Community SocialWelfare  \\\n",
      "2     2016-05-30 00:00:00+00:00  19.0    JARDIM DA PENHA            no   \n",
      "3     2016-05-16 00:00:00+00:00  55.0  JESUS DE NAZARETH            no   \n",
      "4     2016-05-04 00:00:00+00:00   0.0            ITARARÉ           NaN   \n",
      "7     2016-06-06 00:00:00+00:00   9.0           NAZARETH            no   \n",
      "9     2016-06-03 00:00:00+00:00   1.0                NaN            no   \n",
      "...                         ...   ...                ...           ...   \n",
      "88403 2016-05-05 00:00:00+00:00  19.0                NaN           NaN   \n",
      "88407 2016-05-03 00:00:00+00:00  11.0  JESUS DE NAZARETH            no   \n",
      "88408 2016-05-18 00:00:00+00:00   0.0           GURIGICA            no   \n",
      "88412 2016-05-17 00:00:00+00:00  61.0      SANTO ANTÔNIO            no   \n",
      "88419 2016-06-08 00:00:00+00:00  39.0       PRAIA DO SUÁ            no   \n",
      "\n",
      "      Hipertension Diabetes Alcoholism Handcap SMS_received No-show  \\\n",
      "2               no       no         no      no           no      No   \n",
      "3              yes       no         no      no           no      No   \n",
      "4               no       no         no      no           no      No   \n",
      "7               no       no         no      no           no      No   \n",
      "9               no       no         no      no           no      No   \n",
      "...            ...      ...        ...     ...          ...     ...   \n",
      "88403           no       no         no      no           no      No   \n",
      "88407           no       no         no      no           no      No   \n",
      "88408          NaN       no         no      no           no      No   \n",
      "88412          yes       no         no      no           no      No   \n",
      "88419           no       no        NaN      no           no      No   \n",
      "\n",
      "       WaitingTime Waiting_Time_Categorized  \n",
      "2               -1                   -10--1  \n",
      "3               -1                   -10--1  \n",
      "4               -1                   -10--1  \n",
      "7               -1                   -10--1  \n",
      "9               -1                   -10--1  \n",
      "...            ...                      ...  \n",
      "88403           -1                   -10--1  \n",
      "88407           -1                   -10--1  \n",
      "88408           -1                   -10--1  \n",
      "88412           -1                   -10--1  \n",
      "88419           -1                   -10--1  \n",
      "\n",
      "[30835 rows x 16 columns]\n"
     ]
    }
   ],
   "source": [
    "#Showing the rows where Waiting Time has negative value. \n",
    "#It is shown that most cases have the same Scheduled Date and Appointment Date. \n",
    "#However, the Scheduled Date includes a specific timestamp while the Appointment Date defaults to 00:00 with no timestamp.\n",
    "negative_waitingtime = df[df['WaitingTime'] < 0]\n",
    "print(negative_waitingtime)"
   ]
  },
  {
   "cell_type": "code",
   "execution_count": 18,
   "metadata": {},
   "outputs": [],
   "source": [
    "mask = (df['WaitingTime'] < 0) & (df['ScheduledDate'].dt.date == df['AppointmentDate'].dt.date)\n",
    "df.loc[mask, 'WaitingTime'] = 0"
   ]
  },
  {
   "cell_type": "code",
   "execution_count": 19,
   "metadata": {},
   "outputs": [
    {
     "data": {
      "text/html": [
       "<div>\n",
       "<style scoped>\n",
       "    .dataframe tbody tr th:only-of-type {\n",
       "        vertical-align: middle;\n",
       "    }\n",
       "\n",
       "    .dataframe tbody tr th {\n",
       "        vertical-align: top;\n",
       "    }\n",
       "\n",
       "    .dataframe thead th {\n",
       "        text-align: right;\n",
       "    }\n",
       "</style>\n",
       "<table border=\"1\" class=\"dataframe\">\n",
       "  <thead>\n",
       "    <tr style=\"text-align: right;\">\n",
       "      <th></th>\n",
       "      <th>PatientId</th>\n",
       "      <th>AppointmentID</th>\n",
       "      <th>Sex</th>\n",
       "      <th>ScheduledDate</th>\n",
       "      <th>AppointmentDate</th>\n",
       "      <th>Age</th>\n",
       "      <th>Community</th>\n",
       "      <th>SocialWelfare</th>\n",
       "      <th>Hipertension</th>\n",
       "      <th>Diabetes</th>\n",
       "      <th>Alcoholism</th>\n",
       "      <th>Handcap</th>\n",
       "      <th>SMS_received</th>\n",
       "      <th>No-show</th>\n",
       "      <th>WaitingTime</th>\n",
       "      <th>Waiting_Time_Categorized</th>\n",
       "    </tr>\n",
       "  </thead>\n",
       "  <tbody>\n",
       "    <tr>\n",
       "      <th>0</th>\n",
       "      <td>4.738527e+13</td>\n",
       "      <td>5387604</td>\n",
       "      <td>F</td>\n",
       "      <td>2016-02-24 07:53:17+00:00</td>\n",
       "      <td>2016-05-13 00:00:00+00:00</td>\n",
       "      <td>NaN</td>\n",
       "      <td>RESISTÊNCIA</td>\n",
       "      <td>no</td>\n",
       "      <td>no</td>\n",
       "      <td>no</td>\n",
       "      <td>no</td>\n",
       "      <td>no</td>\n",
       "      <td>no</td>\n",
       "      <td>No</td>\n",
       "      <td>78</td>\n",
       "      <td>70-79</td>\n",
       "    </tr>\n",
       "    <tr>\n",
       "      <th>1</th>\n",
       "      <td>6.557495e+13</td>\n",
       "      <td>5655266</td>\n",
       "      <td>M</td>\n",
       "      <td>2016-05-03 16:29:14+00:00</td>\n",
       "      <td>2016-05-12 00:00:00+00:00</td>\n",
       "      <td>4.0</td>\n",
       "      <td>NaN</td>\n",
       "      <td>NaN</td>\n",
       "      <td>NaN</td>\n",
       "      <td>no</td>\n",
       "      <td>no</td>\n",
       "      <td>no</td>\n",
       "      <td>no</td>\n",
       "      <td>No</td>\n",
       "      <td>8</td>\n",
       "      <td>0-9</td>\n",
       "    </tr>\n",
       "    <tr>\n",
       "      <th>2</th>\n",
       "      <td>1.265473e+11</td>\n",
       "      <td>5745855</td>\n",
       "      <td>F</td>\n",
       "      <td>2016-05-30 12:54:18+00:00</td>\n",
       "      <td>2016-05-30 00:00:00+00:00</td>\n",
       "      <td>19.0</td>\n",
       "      <td>JARDIM DA PENHA</td>\n",
       "      <td>no</td>\n",
       "      <td>no</td>\n",
       "      <td>no</td>\n",
       "      <td>no</td>\n",
       "      <td>no</td>\n",
       "      <td>no</td>\n",
       "      <td>No</td>\n",
       "      <td>0</td>\n",
       "      <td>-10--1</td>\n",
       "    </tr>\n",
       "    <tr>\n",
       "      <th>3</th>\n",
       "      <td>2.681769e+13</td>\n",
       "      <td>5700247</td>\n",
       "      <td>F</td>\n",
       "      <td>2016-05-16 09:15:51+00:00</td>\n",
       "      <td>2016-05-16 00:00:00+00:00</td>\n",
       "      <td>55.0</td>\n",
       "      <td>JESUS DE NAZARETH</td>\n",
       "      <td>no</td>\n",
       "      <td>yes</td>\n",
       "      <td>no</td>\n",
       "      <td>no</td>\n",
       "      <td>no</td>\n",
       "      <td>no</td>\n",
       "      <td>No</td>\n",
       "      <td>0</td>\n",
       "      <td>-10--1</td>\n",
       "    </tr>\n",
       "    <tr>\n",
       "      <th>4</th>\n",
       "      <td>7.813565e+13</td>\n",
       "      <td>5656211</td>\n",
       "      <td>F</td>\n",
       "      <td>2016-05-04 07:46:23+00:00</td>\n",
       "      <td>2016-05-04 00:00:00+00:00</td>\n",
       "      <td>0.0</td>\n",
       "      <td>ITARARÉ</td>\n",
       "      <td>NaN</td>\n",
       "      <td>no</td>\n",
       "      <td>no</td>\n",
       "      <td>no</td>\n",
       "      <td>no</td>\n",
       "      <td>no</td>\n",
       "      <td>No</td>\n",
       "      <td>0</td>\n",
       "      <td>-10--1</td>\n",
       "    </tr>\n",
       "    <tr>\n",
       "      <th>...</th>\n",
       "      <td>...</td>\n",
       "      <td>...</td>\n",
       "      <td>...</td>\n",
       "      <td>...</td>\n",
       "      <td>...</td>\n",
       "      <td>...</td>\n",
       "      <td>...</td>\n",
       "      <td>...</td>\n",
       "      <td>...</td>\n",
       "      <td>...</td>\n",
       "      <td>...</td>\n",
       "      <td>...</td>\n",
       "      <td>...</td>\n",
       "      <td>...</td>\n",
       "      <td>...</td>\n",
       "      <td>...</td>\n",
       "    </tr>\n",
       "    <tr>\n",
       "      <th>88416</th>\n",
       "      <td>1.454831e+14</td>\n",
       "      <td>5772271</td>\n",
       "      <td>F</td>\n",
       "      <td>2016-06-03 15:01:39+00:00</td>\n",
       "      <td>2016-06-06 00:00:00+00:00</td>\n",
       "      <td>32.0</td>\n",
       "      <td>TABUAZEIRO</td>\n",
       "      <td>no</td>\n",
       "      <td>no</td>\n",
       "      <td>no</td>\n",
       "      <td>no</td>\n",
       "      <td>no</td>\n",
       "      <td>no</td>\n",
       "      <td>No</td>\n",
       "      <td>2</td>\n",
       "      <td>0-9</td>\n",
       "    </tr>\n",
       "    <tr>\n",
       "      <th>88417</th>\n",
       "      <td>3.257342e+13</td>\n",
       "      <td>5636567</td>\n",
       "      <td>M</td>\n",
       "      <td>2016-04-28 15:38:16+00:00</td>\n",
       "      <td>2016-05-05 00:00:00+00:00</td>\n",
       "      <td>7.0</td>\n",
       "      <td>NaN</td>\n",
       "      <td>no</td>\n",
       "      <td>no</td>\n",
       "      <td>no</td>\n",
       "      <td>NaN</td>\n",
       "      <td>no</td>\n",
       "      <td>yes</td>\n",
       "      <td>No</td>\n",
       "      <td>6</td>\n",
       "      <td>0-9</td>\n",
       "    </tr>\n",
       "    <tr>\n",
       "      <th>88418</th>\n",
       "      <td>3.888198e+12</td>\n",
       "      <td>5778538</td>\n",
       "      <td>F</td>\n",
       "      <td>2016-06-06 15:46:02+00:00</td>\n",
       "      <td>2016-06-08 00:00:00+00:00</td>\n",
       "      <td>50.0</td>\n",
       "      <td>MARIA ORTIZ</td>\n",
       "      <td>NaN</td>\n",
       "      <td>no</td>\n",
       "      <td>no</td>\n",
       "      <td>no</td>\n",
       "      <td>no</td>\n",
       "      <td>no</td>\n",
       "      <td>No</td>\n",
       "      <td>1</td>\n",
       "      <td>0-9</td>\n",
       "    </tr>\n",
       "    <tr>\n",
       "      <th>88419</th>\n",
       "      <td>7.854955e+10</td>\n",
       "      <td>5787782</td>\n",
       "      <td>F</td>\n",
       "      <td>2016-06-08 10:35:20+00:00</td>\n",
       "      <td>2016-06-08 00:00:00+00:00</td>\n",
       "      <td>39.0</td>\n",
       "      <td>PRAIA DO SUÁ</td>\n",
       "      <td>no</td>\n",
       "      <td>no</td>\n",
       "      <td>no</td>\n",
       "      <td>NaN</td>\n",
       "      <td>no</td>\n",
       "      <td>no</td>\n",
       "      <td>No</td>\n",
       "      <td>0</td>\n",
       "      <td>-10--1</td>\n",
       "    </tr>\n",
       "    <tr>\n",
       "      <th>88420</th>\n",
       "      <td>6.581160e+13</td>\n",
       "      <td>5666176</td>\n",
       "      <td>F</td>\n",
       "      <td>2016-05-05 16:05:12+00:00</td>\n",
       "      <td>2016-05-10 00:00:00+00:00</td>\n",
       "      <td>48.0</td>\n",
       "      <td>JOANA D´ARC</td>\n",
       "      <td>no</td>\n",
       "      <td>no</td>\n",
       "      <td>no</td>\n",
       "      <td>no</td>\n",
       "      <td>no</td>\n",
       "      <td>no</td>\n",
       "      <td>No</td>\n",
       "      <td>4</td>\n",
       "      <td>0-9</td>\n",
       "    </tr>\n",
       "  </tbody>\n",
       "</table>\n",
       "<p>88268 rows × 16 columns</p>\n",
       "</div>"
      ],
      "text/plain": [
       "          PatientId  AppointmentID Sex             ScheduledDate  \\\n",
       "0      4.738527e+13        5387604   F 2016-02-24 07:53:17+00:00   \n",
       "1      6.557495e+13        5655266   M 2016-05-03 16:29:14+00:00   \n",
       "2      1.265473e+11        5745855   F 2016-05-30 12:54:18+00:00   \n",
       "3      2.681769e+13        5700247   F 2016-05-16 09:15:51+00:00   \n",
       "4      7.813565e+13        5656211   F 2016-05-04 07:46:23+00:00   \n",
       "...             ...            ...  ..                       ...   \n",
       "88416  1.454831e+14        5772271   F 2016-06-03 15:01:39+00:00   \n",
       "88417  3.257342e+13        5636567   M 2016-04-28 15:38:16+00:00   \n",
       "88418  3.888198e+12        5778538   F 2016-06-06 15:46:02+00:00   \n",
       "88419  7.854955e+10        5787782   F 2016-06-08 10:35:20+00:00   \n",
       "88420  6.581160e+13        5666176   F 2016-05-05 16:05:12+00:00   \n",
       "\n",
       "                AppointmentDate   Age          Community SocialWelfare  \\\n",
       "0     2016-05-13 00:00:00+00:00   NaN        RESISTÊNCIA            no   \n",
       "1     2016-05-12 00:00:00+00:00   4.0                NaN           NaN   \n",
       "2     2016-05-30 00:00:00+00:00  19.0    JARDIM DA PENHA            no   \n",
       "3     2016-05-16 00:00:00+00:00  55.0  JESUS DE NAZARETH            no   \n",
       "4     2016-05-04 00:00:00+00:00   0.0            ITARARÉ           NaN   \n",
       "...                         ...   ...                ...           ...   \n",
       "88416 2016-06-06 00:00:00+00:00  32.0         TABUAZEIRO            no   \n",
       "88417 2016-05-05 00:00:00+00:00   7.0                NaN            no   \n",
       "88418 2016-06-08 00:00:00+00:00  50.0        MARIA ORTIZ           NaN   \n",
       "88419 2016-06-08 00:00:00+00:00  39.0       PRAIA DO SUÁ            no   \n",
       "88420 2016-05-10 00:00:00+00:00  48.0        JOANA D´ARC            no   \n",
       "\n",
       "      Hipertension Diabetes Alcoholism Handcap SMS_received No-show  \\\n",
       "0               no       no         no      no           no      No   \n",
       "1              NaN       no         no      no           no      No   \n",
       "2               no       no         no      no           no      No   \n",
       "3              yes       no         no      no           no      No   \n",
       "4               no       no         no      no           no      No   \n",
       "...            ...      ...        ...     ...          ...     ...   \n",
       "88416           no       no         no      no           no      No   \n",
       "88417           no       no        NaN      no          yes      No   \n",
       "88418           no       no         no      no           no      No   \n",
       "88419           no       no        NaN      no           no      No   \n",
       "88420           no       no         no      no           no      No   \n",
       "\n",
       "       WaitingTime Waiting_Time_Categorized  \n",
       "0               78                    70-79  \n",
       "1                8                      0-9  \n",
       "2                0                   -10--1  \n",
       "3                0                   -10--1  \n",
       "4                0                   -10--1  \n",
       "...            ...                      ...  \n",
       "88416            2                      0-9  \n",
       "88417            6                      0-9  \n",
       "88418            1                      0-9  \n",
       "88419            0                   -10--1  \n",
       "88420            4                      0-9  \n",
       "\n",
       "[88268 rows x 16 columns]"
      ]
     },
     "execution_count": 19,
     "metadata": {},
     "output_type": "execute_result"
    }
   ],
   "source": [
    "df"
   ]
  },
  {
   "cell_type": "code",
   "execution_count": 20,
   "metadata": {},
   "outputs": [
    {
     "name": "stdout",
     "output_type": "stream",
     "text": [
      "          PatientId  AppointmentID Sex             ScheduledDate  \\\n",
      "14523  9.982316e+14        5686628   F 2016-05-11 13:49:20+00:00   \n",
      "24371  7.839273e+12        5679978   M 2016-05-10 10:51:53+00:00   \n",
      "48710  3.787482e+12        5655637   M 2016-05-04 06:50:57+00:00   \n",
      "49020  2.425226e+13        5664962   F 2016-05-05 13:43:58+00:00   \n",
      "\n",
      "                AppointmentDate   Age      Community SocialWelfare  \\\n",
      "14523 2016-05-05 00:00:00+00:00  81.0  SANTO ANTÔNIO           NaN   \n",
      "24371 2016-05-09 00:00:00+00:00  38.0    RESISTÊNCIA            no   \n",
      "48710 2016-05-03 00:00:00+00:00   7.0     TABUAZEIRO            no   \n",
      "49020 2016-05-04 00:00:00+00:00   NaN     CONSOLAÇÃO            no   \n",
      "\n",
      "      Hipertension Diabetes Alcoholism Handcap SMS_received No-show  \\\n",
      "14523           no       no         no      no           no     Yes   \n",
      "24371           no       no         no     yes           no     Yes   \n",
      "48710           no       no        NaN      no           no     Yes   \n",
      "49020           no       no         no      no           no     Yes   \n",
      "\n",
      "       WaitingTime Waiting_Time_Categorized  \n",
      "14523           -7                   -10--1  \n",
      "24371           -2                   -10--1  \n",
      "48710           -2                   -10--1  \n",
      "49020           -2                   -10--1  \n"
     ]
    }
   ],
   "source": [
    "# Check if there are still negative waiting time values\n",
    "print(df[df['WaitingTime'] < 0])"
   ]
  },
  {
   "cell_type": "code",
   "execution_count": 21,
   "metadata": {},
   "outputs": [],
   "source": [
    "# remove negative values because these cases are impossible\n",
    "df = df[df['WaitingTime'] >= 0]"
   ]
  },
  {
   "cell_type": "code",
   "execution_count": 22,
   "metadata": {},
   "outputs": [
    {
     "data": {
      "text/html": [
       "<div>\n",
       "<style scoped>\n",
       "    .dataframe tbody tr th:only-of-type {\n",
       "        vertical-align: middle;\n",
       "    }\n",
       "\n",
       "    .dataframe tbody tr th {\n",
       "        vertical-align: top;\n",
       "    }\n",
       "\n",
       "    .dataframe thead th {\n",
       "        text-align: right;\n",
       "    }\n",
       "</style>\n",
       "<table border=\"1\" class=\"dataframe\">\n",
       "  <thead>\n",
       "    <tr style=\"text-align: right;\">\n",
       "      <th></th>\n",
       "      <th>PatientId</th>\n",
       "      <th>AppointmentID</th>\n",
       "      <th>Sex</th>\n",
       "      <th>ScheduledDate</th>\n",
       "      <th>AppointmentDate</th>\n",
       "      <th>Age</th>\n",
       "      <th>Community</th>\n",
       "      <th>SocialWelfare</th>\n",
       "      <th>Hipertension</th>\n",
       "      <th>Diabetes</th>\n",
       "      <th>Alcoholism</th>\n",
       "      <th>Handcap</th>\n",
       "      <th>SMS_received</th>\n",
       "      <th>No-show</th>\n",
       "      <th>WaitingTime</th>\n",
       "      <th>Waiting_Time_Categorized</th>\n",
       "    </tr>\n",
       "  </thead>\n",
       "  <tbody>\n",
       "    <tr>\n",
       "      <th>0</th>\n",
       "      <td>4.738527e+13</td>\n",
       "      <td>5387604</td>\n",
       "      <td>F</td>\n",
       "      <td>2016-02-24 07:53:17+00:00</td>\n",
       "      <td>2016-05-13 00:00:00+00:00</td>\n",
       "      <td>NaN</td>\n",
       "      <td>RESISTÊNCIA</td>\n",
       "      <td>no</td>\n",
       "      <td>no</td>\n",
       "      <td>no</td>\n",
       "      <td>no</td>\n",
       "      <td>no</td>\n",
       "      <td>no</td>\n",
       "      <td>No</td>\n",
       "      <td>78</td>\n",
       "      <td>70-79</td>\n",
       "    </tr>\n",
       "    <tr>\n",
       "      <th>1</th>\n",
       "      <td>6.557495e+13</td>\n",
       "      <td>5655266</td>\n",
       "      <td>M</td>\n",
       "      <td>2016-05-03 16:29:14+00:00</td>\n",
       "      <td>2016-05-12 00:00:00+00:00</td>\n",
       "      <td>4.0</td>\n",
       "      <td>NaN</td>\n",
       "      <td>NaN</td>\n",
       "      <td>NaN</td>\n",
       "      <td>no</td>\n",
       "      <td>no</td>\n",
       "      <td>no</td>\n",
       "      <td>no</td>\n",
       "      <td>No</td>\n",
       "      <td>8</td>\n",
       "      <td>0-9</td>\n",
       "    </tr>\n",
       "    <tr>\n",
       "      <th>2</th>\n",
       "      <td>1.265473e+11</td>\n",
       "      <td>5745855</td>\n",
       "      <td>F</td>\n",
       "      <td>2016-05-30 12:54:18+00:00</td>\n",
       "      <td>2016-05-30 00:00:00+00:00</td>\n",
       "      <td>19.0</td>\n",
       "      <td>JARDIM DA PENHA</td>\n",
       "      <td>no</td>\n",
       "      <td>no</td>\n",
       "      <td>no</td>\n",
       "      <td>no</td>\n",
       "      <td>no</td>\n",
       "      <td>no</td>\n",
       "      <td>No</td>\n",
       "      <td>0</td>\n",
       "      <td>-10--1</td>\n",
       "    </tr>\n",
       "    <tr>\n",
       "      <th>3</th>\n",
       "      <td>2.681769e+13</td>\n",
       "      <td>5700247</td>\n",
       "      <td>F</td>\n",
       "      <td>2016-05-16 09:15:51+00:00</td>\n",
       "      <td>2016-05-16 00:00:00+00:00</td>\n",
       "      <td>55.0</td>\n",
       "      <td>JESUS DE NAZARETH</td>\n",
       "      <td>no</td>\n",
       "      <td>yes</td>\n",
       "      <td>no</td>\n",
       "      <td>no</td>\n",
       "      <td>no</td>\n",
       "      <td>no</td>\n",
       "      <td>No</td>\n",
       "      <td>0</td>\n",
       "      <td>-10--1</td>\n",
       "    </tr>\n",
       "    <tr>\n",
       "      <th>4</th>\n",
       "      <td>7.813565e+13</td>\n",
       "      <td>5656211</td>\n",
       "      <td>F</td>\n",
       "      <td>2016-05-04 07:46:23+00:00</td>\n",
       "      <td>2016-05-04 00:00:00+00:00</td>\n",
       "      <td>0.0</td>\n",
       "      <td>ITARARÉ</td>\n",
       "      <td>NaN</td>\n",
       "      <td>no</td>\n",
       "      <td>no</td>\n",
       "      <td>no</td>\n",
       "      <td>no</td>\n",
       "      <td>no</td>\n",
       "      <td>No</td>\n",
       "      <td>0</td>\n",
       "      <td>-10--1</td>\n",
       "    </tr>\n",
       "    <tr>\n",
       "      <th>...</th>\n",
       "      <td>...</td>\n",
       "      <td>...</td>\n",
       "      <td>...</td>\n",
       "      <td>...</td>\n",
       "      <td>...</td>\n",
       "      <td>...</td>\n",
       "      <td>...</td>\n",
       "      <td>...</td>\n",
       "      <td>...</td>\n",
       "      <td>...</td>\n",
       "      <td>...</td>\n",
       "      <td>...</td>\n",
       "      <td>...</td>\n",
       "      <td>...</td>\n",
       "      <td>...</td>\n",
       "      <td>...</td>\n",
       "    </tr>\n",
       "    <tr>\n",
       "      <th>88416</th>\n",
       "      <td>1.454831e+14</td>\n",
       "      <td>5772271</td>\n",
       "      <td>F</td>\n",
       "      <td>2016-06-03 15:01:39+00:00</td>\n",
       "      <td>2016-06-06 00:00:00+00:00</td>\n",
       "      <td>32.0</td>\n",
       "      <td>TABUAZEIRO</td>\n",
       "      <td>no</td>\n",
       "      <td>no</td>\n",
       "      <td>no</td>\n",
       "      <td>no</td>\n",
       "      <td>no</td>\n",
       "      <td>no</td>\n",
       "      <td>No</td>\n",
       "      <td>2</td>\n",
       "      <td>0-9</td>\n",
       "    </tr>\n",
       "    <tr>\n",
       "      <th>88417</th>\n",
       "      <td>3.257342e+13</td>\n",
       "      <td>5636567</td>\n",
       "      <td>M</td>\n",
       "      <td>2016-04-28 15:38:16+00:00</td>\n",
       "      <td>2016-05-05 00:00:00+00:00</td>\n",
       "      <td>7.0</td>\n",
       "      <td>NaN</td>\n",
       "      <td>no</td>\n",
       "      <td>no</td>\n",
       "      <td>no</td>\n",
       "      <td>NaN</td>\n",
       "      <td>no</td>\n",
       "      <td>yes</td>\n",
       "      <td>No</td>\n",
       "      <td>6</td>\n",
       "      <td>0-9</td>\n",
       "    </tr>\n",
       "    <tr>\n",
       "      <th>88418</th>\n",
       "      <td>3.888198e+12</td>\n",
       "      <td>5778538</td>\n",
       "      <td>F</td>\n",
       "      <td>2016-06-06 15:46:02+00:00</td>\n",
       "      <td>2016-06-08 00:00:00+00:00</td>\n",
       "      <td>50.0</td>\n",
       "      <td>MARIA ORTIZ</td>\n",
       "      <td>NaN</td>\n",
       "      <td>no</td>\n",
       "      <td>no</td>\n",
       "      <td>no</td>\n",
       "      <td>no</td>\n",
       "      <td>no</td>\n",
       "      <td>No</td>\n",
       "      <td>1</td>\n",
       "      <td>0-9</td>\n",
       "    </tr>\n",
       "    <tr>\n",
       "      <th>88419</th>\n",
       "      <td>7.854955e+10</td>\n",
       "      <td>5787782</td>\n",
       "      <td>F</td>\n",
       "      <td>2016-06-08 10:35:20+00:00</td>\n",
       "      <td>2016-06-08 00:00:00+00:00</td>\n",
       "      <td>39.0</td>\n",
       "      <td>PRAIA DO SUÁ</td>\n",
       "      <td>no</td>\n",
       "      <td>no</td>\n",
       "      <td>no</td>\n",
       "      <td>NaN</td>\n",
       "      <td>no</td>\n",
       "      <td>no</td>\n",
       "      <td>No</td>\n",
       "      <td>0</td>\n",
       "      <td>-10--1</td>\n",
       "    </tr>\n",
       "    <tr>\n",
       "      <th>88420</th>\n",
       "      <td>6.581160e+13</td>\n",
       "      <td>5666176</td>\n",
       "      <td>F</td>\n",
       "      <td>2016-05-05 16:05:12+00:00</td>\n",
       "      <td>2016-05-10 00:00:00+00:00</td>\n",
       "      <td>48.0</td>\n",
       "      <td>JOANA D´ARC</td>\n",
       "      <td>no</td>\n",
       "      <td>no</td>\n",
       "      <td>no</td>\n",
       "      <td>no</td>\n",
       "      <td>no</td>\n",
       "      <td>no</td>\n",
       "      <td>No</td>\n",
       "      <td>4</td>\n",
       "      <td>0-9</td>\n",
       "    </tr>\n",
       "  </tbody>\n",
       "</table>\n",
       "<p>88264 rows × 16 columns</p>\n",
       "</div>"
      ],
      "text/plain": [
       "          PatientId  AppointmentID Sex             ScheduledDate  \\\n",
       "0      4.738527e+13        5387604   F 2016-02-24 07:53:17+00:00   \n",
       "1      6.557495e+13        5655266   M 2016-05-03 16:29:14+00:00   \n",
       "2      1.265473e+11        5745855   F 2016-05-30 12:54:18+00:00   \n",
       "3      2.681769e+13        5700247   F 2016-05-16 09:15:51+00:00   \n",
       "4      7.813565e+13        5656211   F 2016-05-04 07:46:23+00:00   \n",
       "...             ...            ...  ..                       ...   \n",
       "88416  1.454831e+14        5772271   F 2016-06-03 15:01:39+00:00   \n",
       "88417  3.257342e+13        5636567   M 2016-04-28 15:38:16+00:00   \n",
       "88418  3.888198e+12        5778538   F 2016-06-06 15:46:02+00:00   \n",
       "88419  7.854955e+10        5787782   F 2016-06-08 10:35:20+00:00   \n",
       "88420  6.581160e+13        5666176   F 2016-05-05 16:05:12+00:00   \n",
       "\n",
       "                AppointmentDate   Age          Community SocialWelfare  \\\n",
       "0     2016-05-13 00:00:00+00:00   NaN        RESISTÊNCIA            no   \n",
       "1     2016-05-12 00:00:00+00:00   4.0                NaN           NaN   \n",
       "2     2016-05-30 00:00:00+00:00  19.0    JARDIM DA PENHA            no   \n",
       "3     2016-05-16 00:00:00+00:00  55.0  JESUS DE NAZARETH            no   \n",
       "4     2016-05-04 00:00:00+00:00   0.0            ITARARÉ           NaN   \n",
       "...                         ...   ...                ...           ...   \n",
       "88416 2016-06-06 00:00:00+00:00  32.0         TABUAZEIRO            no   \n",
       "88417 2016-05-05 00:00:00+00:00   7.0                NaN            no   \n",
       "88418 2016-06-08 00:00:00+00:00  50.0        MARIA ORTIZ           NaN   \n",
       "88419 2016-06-08 00:00:00+00:00  39.0       PRAIA DO SUÁ            no   \n",
       "88420 2016-05-10 00:00:00+00:00  48.0        JOANA D´ARC            no   \n",
       "\n",
       "      Hipertension Diabetes Alcoholism Handcap SMS_received No-show  \\\n",
       "0               no       no         no      no           no      No   \n",
       "1              NaN       no         no      no           no      No   \n",
       "2               no       no         no      no           no      No   \n",
       "3              yes       no         no      no           no      No   \n",
       "4               no       no         no      no           no      No   \n",
       "...            ...      ...        ...     ...          ...     ...   \n",
       "88416           no       no         no      no           no      No   \n",
       "88417           no       no        NaN      no          yes      No   \n",
       "88418           no       no         no      no           no      No   \n",
       "88419           no       no        NaN      no           no      No   \n",
       "88420           no       no         no      no           no      No   \n",
       "\n",
       "       WaitingTime Waiting_Time_Categorized  \n",
       "0               78                    70-79  \n",
       "1                8                      0-9  \n",
       "2                0                   -10--1  \n",
       "3                0                   -10--1  \n",
       "4                0                   -10--1  \n",
       "...            ...                      ...  \n",
       "88416            2                      0-9  \n",
       "88417            6                      0-9  \n",
       "88418            1                      0-9  \n",
       "88419            0                   -10--1  \n",
       "88420            4                      0-9  \n",
       "\n",
       "[88264 rows x 16 columns]"
      ]
     },
     "execution_count": 22,
     "metadata": {},
     "output_type": "execute_result"
    }
   ],
   "source": [
    "df"
   ]
  },
  {
   "cell_type": "code",
   "execution_count": 23,
   "metadata": {},
   "outputs": [
    {
     "name": "stderr",
     "output_type": "stream",
     "text": [
      "/tmp/ipykernel_19432/2933707272.py:2: SettingWithCopyWarning: \n",
      "A value is trying to be set on a copy of a slice from a DataFrame.\n",
      "Try using .loc[row_indexer,col_indexer] = value instead\n",
      "\n",
      "See the caveats in the documentation: https://pandas.pydata.org/pandas-docs/stable/user_guide/indexing.html#returning-a-view-versus-a-copy\n",
      "  df['ScheduledDate'] = df['ScheduledDate'].apply(lambda x: x.timestamp())\n",
      "/tmp/ipykernel_19432/2933707272.py:3: SettingWithCopyWarning: \n",
      "A value is trying to be set on a copy of a slice from a DataFrame.\n",
      "Try using .loc[row_indexer,col_indexer] = value instead\n",
      "\n",
      "See the caveats in the documentation: https://pandas.pydata.org/pandas-docs/stable/user_guide/indexing.html#returning-a-view-versus-a-copy\n",
      "  df['AppointmentDate'] = df['AppointmentDate'].apply(lambda x: x.timestamp())\n"
     ]
    }
   ],
   "source": [
    "# Changing data type of scheduled date and appointment date to float for the following correlation analysis\n",
    "df['ScheduledDate'] = df['ScheduledDate'].apply(lambda x: x.timestamp())\n",
    "df['AppointmentDate'] = df['AppointmentDate'].apply(lambda x: x.timestamp())"
   ]
  },
  {
   "cell_type": "code",
   "execution_count": 24,
   "metadata": {},
   "outputs": [
    {
     "data": {
      "text/html": [
       "<div>\n",
       "<style scoped>\n",
       "    .dataframe tbody tr th:only-of-type {\n",
       "        vertical-align: middle;\n",
       "    }\n",
       "\n",
       "    .dataframe tbody tr th {\n",
       "        vertical-align: top;\n",
       "    }\n",
       "\n",
       "    .dataframe thead th {\n",
       "        text-align: right;\n",
       "    }\n",
       "</style>\n",
       "<table border=\"1\" class=\"dataframe\">\n",
       "  <thead>\n",
       "    <tr style=\"text-align: right;\">\n",
       "      <th></th>\n",
       "      <th>PatientId</th>\n",
       "      <th>AppointmentID</th>\n",
       "      <th>Sex</th>\n",
       "      <th>ScheduledDate</th>\n",
       "      <th>AppointmentDate</th>\n",
       "      <th>Age</th>\n",
       "      <th>Community</th>\n",
       "      <th>SocialWelfare</th>\n",
       "      <th>Hipertension</th>\n",
       "      <th>Diabetes</th>\n",
       "      <th>Alcoholism</th>\n",
       "      <th>Handcap</th>\n",
       "      <th>SMS_received</th>\n",
       "      <th>No-show</th>\n",
       "      <th>WaitingTime</th>\n",
       "      <th>Waiting_Time_Categorized</th>\n",
       "    </tr>\n",
       "  </thead>\n",
       "  <tbody>\n",
       "    <tr>\n",
       "      <th>0</th>\n",
       "      <td>4.738527e+13</td>\n",
       "      <td>5387604</td>\n",
       "      <td>F</td>\n",
       "      <td>1.456300e+09</td>\n",
       "      <td>1.463098e+09</td>\n",
       "      <td>NaN</td>\n",
       "      <td>RESISTÊNCIA</td>\n",
       "      <td>no</td>\n",
       "      <td>no</td>\n",
       "      <td>no</td>\n",
       "      <td>no</td>\n",
       "      <td>no</td>\n",
       "      <td>no</td>\n",
       "      <td>No</td>\n",
       "      <td>78</td>\n",
       "      <td>70-79</td>\n",
       "    </tr>\n",
       "    <tr>\n",
       "      <th>1</th>\n",
       "      <td>6.557495e+13</td>\n",
       "      <td>5655266</td>\n",
       "      <td>M</td>\n",
       "      <td>1.462293e+09</td>\n",
       "      <td>1.463011e+09</td>\n",
       "      <td>4.0</td>\n",
       "      <td>NaN</td>\n",
       "      <td>NaN</td>\n",
       "      <td>NaN</td>\n",
       "      <td>no</td>\n",
       "      <td>no</td>\n",
       "      <td>no</td>\n",
       "      <td>no</td>\n",
       "      <td>No</td>\n",
       "      <td>8</td>\n",
       "      <td>0-9</td>\n",
       "    </tr>\n",
       "    <tr>\n",
       "      <th>2</th>\n",
       "      <td>1.265473e+11</td>\n",
       "      <td>5745855</td>\n",
       "      <td>F</td>\n",
       "      <td>1.464613e+09</td>\n",
       "      <td>1.464566e+09</td>\n",
       "      <td>19.0</td>\n",
       "      <td>JARDIM DA PENHA</td>\n",
       "      <td>no</td>\n",
       "      <td>no</td>\n",
       "      <td>no</td>\n",
       "      <td>no</td>\n",
       "      <td>no</td>\n",
       "      <td>no</td>\n",
       "      <td>No</td>\n",
       "      <td>0</td>\n",
       "      <td>-10--1</td>\n",
       "    </tr>\n",
       "    <tr>\n",
       "      <th>3</th>\n",
       "      <td>2.681769e+13</td>\n",
       "      <td>5700247</td>\n",
       "      <td>F</td>\n",
       "      <td>1.463390e+09</td>\n",
       "      <td>1.463357e+09</td>\n",
       "      <td>55.0</td>\n",
       "      <td>JESUS DE NAZARETH</td>\n",
       "      <td>no</td>\n",
       "      <td>yes</td>\n",
       "      <td>no</td>\n",
       "      <td>no</td>\n",
       "      <td>no</td>\n",
       "      <td>no</td>\n",
       "      <td>No</td>\n",
       "      <td>0</td>\n",
       "      <td>-10--1</td>\n",
       "    </tr>\n",
       "    <tr>\n",
       "      <th>4</th>\n",
       "      <td>7.813565e+13</td>\n",
       "      <td>5656211</td>\n",
       "      <td>F</td>\n",
       "      <td>1.462348e+09</td>\n",
       "      <td>1.462320e+09</td>\n",
       "      <td>0.0</td>\n",
       "      <td>ITARARÉ</td>\n",
       "      <td>NaN</td>\n",
       "      <td>no</td>\n",
       "      <td>no</td>\n",
       "      <td>no</td>\n",
       "      <td>no</td>\n",
       "      <td>no</td>\n",
       "      <td>No</td>\n",
       "      <td>0</td>\n",
       "      <td>-10--1</td>\n",
       "    </tr>\n",
       "    <tr>\n",
       "      <th>...</th>\n",
       "      <td>...</td>\n",
       "      <td>...</td>\n",
       "      <td>...</td>\n",
       "      <td>...</td>\n",
       "      <td>...</td>\n",
       "      <td>...</td>\n",
       "      <td>...</td>\n",
       "      <td>...</td>\n",
       "      <td>...</td>\n",
       "      <td>...</td>\n",
       "      <td>...</td>\n",
       "      <td>...</td>\n",
       "      <td>...</td>\n",
       "      <td>...</td>\n",
       "      <td>...</td>\n",
       "      <td>...</td>\n",
       "    </tr>\n",
       "    <tr>\n",
       "      <th>88416</th>\n",
       "      <td>1.454831e+14</td>\n",
       "      <td>5772271</td>\n",
       "      <td>F</td>\n",
       "      <td>1.464966e+09</td>\n",
       "      <td>1.465171e+09</td>\n",
       "      <td>32.0</td>\n",
       "      <td>TABUAZEIRO</td>\n",
       "      <td>no</td>\n",
       "      <td>no</td>\n",
       "      <td>no</td>\n",
       "      <td>no</td>\n",
       "      <td>no</td>\n",
       "      <td>no</td>\n",
       "      <td>No</td>\n",
       "      <td>2</td>\n",
       "      <td>0-9</td>\n",
       "    </tr>\n",
       "    <tr>\n",
       "      <th>88417</th>\n",
       "      <td>3.257342e+13</td>\n",
       "      <td>5636567</td>\n",
       "      <td>M</td>\n",
       "      <td>1.461858e+09</td>\n",
       "      <td>1.462406e+09</td>\n",
       "      <td>7.0</td>\n",
       "      <td>NaN</td>\n",
       "      <td>no</td>\n",
       "      <td>no</td>\n",
       "      <td>no</td>\n",
       "      <td>NaN</td>\n",
       "      <td>no</td>\n",
       "      <td>yes</td>\n",
       "      <td>No</td>\n",
       "      <td>6</td>\n",
       "      <td>0-9</td>\n",
       "    </tr>\n",
       "    <tr>\n",
       "      <th>88418</th>\n",
       "      <td>3.888198e+12</td>\n",
       "      <td>5778538</td>\n",
       "      <td>F</td>\n",
       "      <td>1.465228e+09</td>\n",
       "      <td>1.465344e+09</td>\n",
       "      <td>50.0</td>\n",
       "      <td>MARIA ORTIZ</td>\n",
       "      <td>NaN</td>\n",
       "      <td>no</td>\n",
       "      <td>no</td>\n",
       "      <td>no</td>\n",
       "      <td>no</td>\n",
       "      <td>no</td>\n",
       "      <td>No</td>\n",
       "      <td>1</td>\n",
       "      <td>0-9</td>\n",
       "    </tr>\n",
       "    <tr>\n",
       "      <th>88419</th>\n",
       "      <td>7.854955e+10</td>\n",
       "      <td>5787782</td>\n",
       "      <td>F</td>\n",
       "      <td>1.465382e+09</td>\n",
       "      <td>1.465344e+09</td>\n",
       "      <td>39.0</td>\n",
       "      <td>PRAIA DO SUÁ</td>\n",
       "      <td>no</td>\n",
       "      <td>no</td>\n",
       "      <td>no</td>\n",
       "      <td>NaN</td>\n",
       "      <td>no</td>\n",
       "      <td>no</td>\n",
       "      <td>No</td>\n",
       "      <td>0</td>\n",
       "      <td>-10--1</td>\n",
       "    </tr>\n",
       "    <tr>\n",
       "      <th>88420</th>\n",
       "      <td>6.581160e+13</td>\n",
       "      <td>5666176</td>\n",
       "      <td>F</td>\n",
       "      <td>1.462464e+09</td>\n",
       "      <td>1.462838e+09</td>\n",
       "      <td>48.0</td>\n",
       "      <td>JOANA D´ARC</td>\n",
       "      <td>no</td>\n",
       "      <td>no</td>\n",
       "      <td>no</td>\n",
       "      <td>no</td>\n",
       "      <td>no</td>\n",
       "      <td>no</td>\n",
       "      <td>No</td>\n",
       "      <td>4</td>\n",
       "      <td>0-9</td>\n",
       "    </tr>\n",
       "  </tbody>\n",
       "</table>\n",
       "<p>88264 rows × 16 columns</p>\n",
       "</div>"
      ],
      "text/plain": [
       "          PatientId  AppointmentID Sex  ScheduledDate  AppointmentDate   Age  \\\n",
       "0      4.738527e+13        5387604   F   1.456300e+09     1.463098e+09   NaN   \n",
       "1      6.557495e+13        5655266   M   1.462293e+09     1.463011e+09   4.0   \n",
       "2      1.265473e+11        5745855   F   1.464613e+09     1.464566e+09  19.0   \n",
       "3      2.681769e+13        5700247   F   1.463390e+09     1.463357e+09  55.0   \n",
       "4      7.813565e+13        5656211   F   1.462348e+09     1.462320e+09   0.0   \n",
       "...             ...            ...  ..            ...              ...   ...   \n",
       "88416  1.454831e+14        5772271   F   1.464966e+09     1.465171e+09  32.0   \n",
       "88417  3.257342e+13        5636567   M   1.461858e+09     1.462406e+09   7.0   \n",
       "88418  3.888198e+12        5778538   F   1.465228e+09     1.465344e+09  50.0   \n",
       "88419  7.854955e+10        5787782   F   1.465382e+09     1.465344e+09  39.0   \n",
       "88420  6.581160e+13        5666176   F   1.462464e+09     1.462838e+09  48.0   \n",
       "\n",
       "               Community SocialWelfare Hipertension Diabetes Alcoholism  \\\n",
       "0            RESISTÊNCIA            no           no       no         no   \n",
       "1                    NaN           NaN          NaN       no         no   \n",
       "2        JARDIM DA PENHA            no           no       no         no   \n",
       "3      JESUS DE NAZARETH            no          yes       no         no   \n",
       "4                ITARARÉ           NaN           no       no         no   \n",
       "...                  ...           ...          ...      ...        ...   \n",
       "88416         TABUAZEIRO            no           no       no         no   \n",
       "88417                NaN            no           no       no        NaN   \n",
       "88418        MARIA ORTIZ           NaN           no       no         no   \n",
       "88419       PRAIA DO SUÁ            no           no       no        NaN   \n",
       "88420        JOANA D´ARC            no           no       no         no   \n",
       "\n",
       "      Handcap SMS_received No-show  WaitingTime Waiting_Time_Categorized  \n",
       "0          no           no      No           78                    70-79  \n",
       "1          no           no      No            8                      0-9  \n",
       "2          no           no      No            0                   -10--1  \n",
       "3          no           no      No            0                   -10--1  \n",
       "4          no           no      No            0                   -10--1  \n",
       "...       ...          ...     ...          ...                      ...  \n",
       "88416      no           no      No            2                      0-9  \n",
       "88417      no          yes      No            6                      0-9  \n",
       "88418      no           no      No            1                      0-9  \n",
       "88419      no           no      No            0                   -10--1  \n",
       "88420      no           no      No            4                      0-9  \n",
       "\n",
       "[88264 rows x 16 columns]"
      ]
     },
     "execution_count": 24,
     "metadata": {},
     "output_type": "execute_result"
    }
   ],
   "source": [
    "# ScheduledDate and AppointmentDate are converted\n",
    "df"
   ]
  },
  {
   "cell_type": "code",
   "execution_count": 25,
   "metadata": {},
   "outputs": [],
   "source": [
    "# Defining all the potential features for the training (left out appointment id, scheduled date)\n",
    "features= ['PatientId','Sex','AppointmentDate','Age','Community','SocialWelfare','Hipertension','Diabetes','Alcoholism','Handcap','SMS_received','WaitingTime']\n",
    "X = df[features]\n",
    "y = df['No-show']\n"
   ]
  },
  {
   "cell_type": "code",
   "execution_count": 26,
   "metadata": {},
   "outputs": [
    {
     "name": "stdout",
     "output_type": "stream",
     "text": [
      "Initial length: 88264 rows\n",
      "PatientId              0\n",
      "Sex                    0\n",
      "AppointmentDate        0\n",
      "Age                 8793\n",
      "Community          10695\n",
      "SocialWelfare      12498\n",
      "Hipertension        8011\n",
      "Diabetes               0\n",
      "Alcoholism         14861\n",
      "Handcap                0\n",
      "SMS_received           0\n",
      "WaitingTime            0\n",
      "dtype: int64\n"
     ]
    }
   ],
   "source": [
    "print(\"Initial length:\", len(X), \"rows\")\n",
    "print(X.isnull().sum())"
   ]
  },
  {
   "cell_type": "code",
   "execution_count": 27,
   "metadata": {},
   "outputs": [
    {
     "data": {
      "text/html": [
       "<div>\n",
       "<style scoped>\n",
       "    .dataframe tbody tr th:only-of-type {\n",
       "        vertical-align: middle;\n",
       "    }\n",
       "\n",
       "    .dataframe tbody tr th {\n",
       "        vertical-align: top;\n",
       "    }\n",
       "\n",
       "    .dataframe thead th {\n",
       "        text-align: right;\n",
       "    }\n",
       "</style>\n",
       "<table border=\"1\" class=\"dataframe\">\n",
       "  <thead>\n",
       "    <tr style=\"text-align: right;\">\n",
       "      <th></th>\n",
       "      <th>PatientId</th>\n",
       "      <th>AppointmentDate</th>\n",
       "      <th>Age</th>\n",
       "      <th>WaitingTime</th>\n",
       "    </tr>\n",
       "  </thead>\n",
       "  <tbody>\n",
       "    <tr>\n",
       "      <th>count</th>\n",
       "      <td>8.826400e+04</td>\n",
       "      <td>8.826400e+04</td>\n",
       "      <td>79471.000000</td>\n",
       "      <td>88264.000000</td>\n",
       "    </tr>\n",
       "    <tr>\n",
       "      <th>mean</th>\n",
       "      <td>1.485501e+14</td>\n",
       "      <td>1.463620e+09</td>\n",
       "      <td>37.048496</td>\n",
       "      <td>9.565633</td>\n",
       "    </tr>\n",
       "    <tr>\n",
       "      <th>std</th>\n",
       "      <td>2.572722e+14</td>\n",
       "      <td>1.052913e+06</td>\n",
       "      <td>23.129413</td>\n",
       "      <td>15.085754</td>\n",
       "    </tr>\n",
       "    <tr>\n",
       "      <th>min</th>\n",
       "      <td>3.921784e+04</td>\n",
       "      <td>1.461888e+09</td>\n",
       "      <td>0.000000</td>\n",
       "      <td>0.000000</td>\n",
       "    </tr>\n",
       "    <tr>\n",
       "      <th>25%</th>\n",
       "      <td>4.195540e+12</td>\n",
       "      <td>1.462752e+09</td>\n",
       "      <td>18.000000</td>\n",
       "      <td>0.000000</td>\n",
       "    </tr>\n",
       "    <tr>\n",
       "      <th>50%</th>\n",
       "      <td>3.192882e+13</td>\n",
       "      <td>1.463530e+09</td>\n",
       "      <td>37.000000</td>\n",
       "      <td>3.000000</td>\n",
       "    </tr>\n",
       "    <tr>\n",
       "      <th>75%</th>\n",
       "      <td>9.465347e+13</td>\n",
       "      <td>1.464653e+09</td>\n",
       "      <td>55.000000</td>\n",
       "      <td>14.000000</td>\n",
       "    </tr>\n",
       "    <tr>\n",
       "      <th>max</th>\n",
       "      <td>9.999816e+14</td>\n",
       "      <td>1.465344e+09</td>\n",
       "      <td>115.000000</td>\n",
       "      <td>178.000000</td>\n",
       "    </tr>\n",
       "  </tbody>\n",
       "</table>\n",
       "</div>"
      ],
      "text/plain": [
       "          PatientId  AppointmentDate           Age   WaitingTime\n",
       "count  8.826400e+04     8.826400e+04  79471.000000  88264.000000\n",
       "mean   1.485501e+14     1.463620e+09     37.048496      9.565633\n",
       "std    2.572722e+14     1.052913e+06     23.129413     15.085754\n",
       "min    3.921784e+04     1.461888e+09      0.000000      0.000000\n",
       "25%    4.195540e+12     1.462752e+09     18.000000      0.000000\n",
       "50%    3.192882e+13     1.463530e+09     37.000000      3.000000\n",
       "75%    9.465347e+13     1.464653e+09     55.000000     14.000000\n",
       "max    9.999816e+14     1.465344e+09    115.000000    178.000000"
      ]
     },
     "execution_count": 27,
     "metadata": {},
     "output_type": "execute_result"
    }
   ],
   "source": [
    "X.describe()\n",
    "# Age median"
   ]
  },
  {
   "cell_type": "code",
   "execution_count": 28,
   "metadata": {},
   "outputs": [],
   "source": [
    "# Changes output of the transformers to Pandas\n",
    "from sklearn import set_config\n",
    "set_config(transform_output=\"pandas\")"
   ]
  },
  {
   "cell_type": "code",
   "execution_count": 29,
   "metadata": {},
   "outputs": [],
   "source": [
    "# Conduct a train-test split with a 30% test ratio and a random state of 42\n",
    "from sklearn.model_selection import train_test_split\n",
    "X_train, X_test, y_train, y_test = train_test_split(X, y, test_size=0.3, stratify=y, random_state=42)"
   ]
  },
  {
   "cell_type": "code",
   "execution_count": 30,
   "metadata": {},
   "outputs": [
    {
     "name": "stdout",
     "output_type": "stream",
     "text": [
      "<class 'pandas.core.frame.DataFrame'>\n",
      "Index: 61784 entries, 6757 to 34154\n",
      "Data columns (total 12 columns):\n",
      " #   Column           Non-Null Count  Dtype  \n",
      "---  ------           --------------  -----  \n",
      " 0   PatientId        61784 non-null  float64\n",
      " 1   Sex              61784 non-null  object \n",
      " 2   AppointmentDate  61784 non-null  float64\n",
      " 3   Age              55655 non-null  float64\n",
      " 4   Community        54267 non-null  object \n",
      " 5   SocialWelfare    53030 non-null  object \n",
      " 6   Hipertension     56170 non-null  object \n",
      " 7   Diabetes         61784 non-null  object \n",
      " 8   Alcoholism       51389 non-null  object \n",
      " 9   Handcap          61784 non-null  object \n",
      " 10  SMS_received     61784 non-null  object \n",
      " 11  WaitingTime      61784 non-null  int64  \n",
      "dtypes: float64(3), int64(1), object(8)\n",
      "memory usage: 6.1+ MB\n"
     ]
    }
   ],
   "source": [
    "X_train.info()"
   ]
  },
  {
   "cell_type": "code",
   "execution_count": 31,
   "metadata": {},
   "outputs": [],
   "source": [
    "# Defining \n",
    "from sklearn.impute import SimpleImputer\n",
    "from sklearn.preprocessing import OneHotEncoder\n",
    "imputer_median = SimpleImputer(strategy=\"median\")\n",
    "imputer_mode = SimpleImputer(strategy=\"most_frequent\")\n",
    "ohe = OneHotEncoder(drop = 'if_binary', sparse_output=False, handle_unknown='ignore')"
   ]
  },
  {
   "cell_type": "code",
   "execution_count": 32,
   "metadata": {},
   "outputs": [
    {
     "data": {
      "text/html": [
       "<div>\n",
       "<style scoped>\n",
       "    .dataframe tbody tr th:only-of-type {\n",
       "        vertical-align: middle;\n",
       "    }\n",
       "\n",
       "    .dataframe tbody tr th {\n",
       "        vertical-align: top;\n",
       "    }\n",
       "\n",
       "    .dataframe thead th {\n",
       "        text-align: right;\n",
       "    }\n",
       "</style>\n",
       "<table border=\"1\" class=\"dataframe\">\n",
       "  <thead>\n",
       "    <tr style=\"text-align: right;\">\n",
       "      <th></th>\n",
       "      <th>categorical__Sex_M</th>\n",
       "      <th>categorical__Community_AEROPORTO</th>\n",
       "      <th>categorical__Community_ANDORINHAS</th>\n",
       "      <th>categorical__Community_ANTÔNIO HONÓRIO</th>\n",
       "      <th>categorical__Community_ARIOVALDO FAVALESSA</th>\n",
       "      <th>categorical__Community_BARRO VERMELHO</th>\n",
       "      <th>categorical__Community_BELA VISTA</th>\n",
       "      <th>categorical__Community_BENTO FERREIRA</th>\n",
       "      <th>categorical__Community_BOA VISTA</th>\n",
       "      <th>categorical__Community_BONFIM</th>\n",
       "      <th>...</th>\n",
       "      <th>categorical__SocialWelfare_yes</th>\n",
       "      <th>categorical__Hipertension_yes</th>\n",
       "      <th>categorical__Diabetes_yes</th>\n",
       "      <th>categorical__Alcoholism_yes</th>\n",
       "      <th>categorical__Handcap_yes</th>\n",
       "      <th>categorical__SMS_received_yes</th>\n",
       "      <th>numerical__Age</th>\n",
       "      <th>remainder__PatientId</th>\n",
       "      <th>remainder__AppointmentDate</th>\n",
       "      <th>remainder__WaitingTime</th>\n",
       "    </tr>\n",
       "  </thead>\n",
       "  <tbody>\n",
       "    <tr>\n",
       "      <th>6757</th>\n",
       "      <td>1.0</td>\n",
       "      <td>0.0</td>\n",
       "      <td>0.0</td>\n",
       "      <td>0.0</td>\n",
       "      <td>0.0</td>\n",
       "      <td>0.0</td>\n",
       "      <td>1.0</td>\n",
       "      <td>0.0</td>\n",
       "      <td>0.0</td>\n",
       "      <td>0.0</td>\n",
       "      <td>...</td>\n",
       "      <td>0.0</td>\n",
       "      <td>1.0</td>\n",
       "      <td>1.0</td>\n",
       "      <td>0.0</td>\n",
       "      <td>0.0</td>\n",
       "      <td>1.0</td>\n",
       "      <td>54.0</td>\n",
       "      <td>7.689994e+13</td>\n",
       "      <td>1.462838e+09</td>\n",
       "      <td>3</td>\n",
       "    </tr>\n",
       "    <tr>\n",
       "      <th>15634</th>\n",
       "      <td>1.0</td>\n",
       "      <td>0.0</td>\n",
       "      <td>0.0</td>\n",
       "      <td>0.0</td>\n",
       "      <td>0.0</td>\n",
       "      <td>0.0</td>\n",
       "      <td>0.0</td>\n",
       "      <td>0.0</td>\n",
       "      <td>0.0</td>\n",
       "      <td>0.0</td>\n",
       "      <td>...</td>\n",
       "      <td>0.0</td>\n",
       "      <td>0.0</td>\n",
       "      <td>0.0</td>\n",
       "      <td>0.0</td>\n",
       "      <td>0.0</td>\n",
       "      <td>0.0</td>\n",
       "      <td>2.0</td>\n",
       "      <td>2.759918e+13</td>\n",
       "      <td>1.462752e+09</td>\n",
       "      <td>0</td>\n",
       "    </tr>\n",
       "    <tr>\n",
       "      <th>34180</th>\n",
       "      <td>0.0</td>\n",
       "      <td>0.0</td>\n",
       "      <td>0.0</td>\n",
       "      <td>0.0</td>\n",
       "      <td>0.0</td>\n",
       "      <td>0.0</td>\n",
       "      <td>0.0</td>\n",
       "      <td>0.0</td>\n",
       "      <td>0.0</td>\n",
       "      <td>0.0</td>\n",
       "      <td>...</td>\n",
       "      <td>0.0</td>\n",
       "      <td>1.0</td>\n",
       "      <td>0.0</td>\n",
       "      <td>0.0</td>\n",
       "      <td>0.0</td>\n",
       "      <td>1.0</td>\n",
       "      <td>70.0</td>\n",
       "      <td>5.313993e+13</td>\n",
       "      <td>1.462234e+09</td>\n",
       "      <td>6</td>\n",
       "    </tr>\n",
       "    <tr>\n",
       "      <th>84496</th>\n",
       "      <td>1.0</td>\n",
       "      <td>0.0</td>\n",
       "      <td>0.0</td>\n",
       "      <td>0.0</td>\n",
       "      <td>0.0</td>\n",
       "      <td>0.0</td>\n",
       "      <td>0.0</td>\n",
       "      <td>0.0</td>\n",
       "      <td>0.0</td>\n",
       "      <td>0.0</td>\n",
       "      <td>...</td>\n",
       "      <td>0.0</td>\n",
       "      <td>0.0</td>\n",
       "      <td>0.0</td>\n",
       "      <td>0.0</td>\n",
       "      <td>0.0</td>\n",
       "      <td>0.0</td>\n",
       "      <td>2.0</td>\n",
       "      <td>1.629827e+13</td>\n",
       "      <td>1.462320e+09</td>\n",
       "      <td>0</td>\n",
       "    </tr>\n",
       "    <tr>\n",
       "      <th>68443</th>\n",
       "      <td>0.0</td>\n",
       "      <td>0.0</td>\n",
       "      <td>0.0</td>\n",
       "      <td>0.0</td>\n",
       "      <td>0.0</td>\n",
       "      <td>0.0</td>\n",
       "      <td>0.0</td>\n",
       "      <td>0.0</td>\n",
       "      <td>0.0</td>\n",
       "      <td>0.0</td>\n",
       "      <td>...</td>\n",
       "      <td>0.0</td>\n",
       "      <td>1.0</td>\n",
       "      <td>1.0</td>\n",
       "      <td>0.0</td>\n",
       "      <td>1.0</td>\n",
       "      <td>0.0</td>\n",
       "      <td>80.0</td>\n",
       "      <td>2.178553e+12</td>\n",
       "      <td>1.463443e+09</td>\n",
       "      <td>0</td>\n",
       "    </tr>\n",
       "    <tr>\n",
       "      <th>...</th>\n",
       "      <td>...</td>\n",
       "      <td>...</td>\n",
       "      <td>...</td>\n",
       "      <td>...</td>\n",
       "      <td>...</td>\n",
       "      <td>...</td>\n",
       "      <td>...</td>\n",
       "      <td>...</td>\n",
       "      <td>...</td>\n",
       "      <td>...</td>\n",
       "      <td>...</td>\n",
       "      <td>...</td>\n",
       "      <td>...</td>\n",
       "      <td>...</td>\n",
       "      <td>...</td>\n",
       "      <td>...</td>\n",
       "      <td>...</td>\n",
       "      <td>...</td>\n",
       "      <td>...</td>\n",
       "      <td>...</td>\n",
       "      <td>...</td>\n",
       "    </tr>\n",
       "    <tr>\n",
       "      <th>74718</th>\n",
       "      <td>1.0</td>\n",
       "      <td>0.0</td>\n",
       "      <td>0.0</td>\n",
       "      <td>0.0</td>\n",
       "      <td>0.0</td>\n",
       "      <td>0.0</td>\n",
       "      <td>0.0</td>\n",
       "      <td>0.0</td>\n",
       "      <td>0.0</td>\n",
       "      <td>0.0</td>\n",
       "      <td>...</td>\n",
       "      <td>0.0</td>\n",
       "      <td>0.0</td>\n",
       "      <td>0.0</td>\n",
       "      <td>0.0</td>\n",
       "      <td>0.0</td>\n",
       "      <td>0.0</td>\n",
       "      <td>5.0</td>\n",
       "      <td>3.757597e+13</td>\n",
       "      <td>1.462838e+09</td>\n",
       "      <td>0</td>\n",
       "    </tr>\n",
       "    <tr>\n",
       "      <th>32747</th>\n",
       "      <td>1.0</td>\n",
       "      <td>0.0</td>\n",
       "      <td>0.0</td>\n",
       "      <td>0.0</td>\n",
       "      <td>0.0</td>\n",
       "      <td>0.0</td>\n",
       "      <td>0.0</td>\n",
       "      <td>0.0</td>\n",
       "      <td>0.0</td>\n",
       "      <td>0.0</td>\n",
       "      <td>...</td>\n",
       "      <td>0.0</td>\n",
       "      <td>0.0</td>\n",
       "      <td>0.0</td>\n",
       "      <td>0.0</td>\n",
       "      <td>0.0</td>\n",
       "      <td>0.0</td>\n",
       "      <td>4.0</td>\n",
       "      <td>6.996995e+14</td>\n",
       "      <td>1.464653e+09</td>\n",
       "      <td>6</td>\n",
       "    </tr>\n",
       "    <tr>\n",
       "      <th>44351</th>\n",
       "      <td>0.0</td>\n",
       "      <td>0.0</td>\n",
       "      <td>0.0</td>\n",
       "      <td>0.0</td>\n",
       "      <td>0.0</td>\n",
       "      <td>0.0</td>\n",
       "      <td>0.0</td>\n",
       "      <td>0.0</td>\n",
       "      <td>0.0</td>\n",
       "      <td>0.0</td>\n",
       "      <td>...</td>\n",
       "      <td>0.0</td>\n",
       "      <td>1.0</td>\n",
       "      <td>0.0</td>\n",
       "      <td>0.0</td>\n",
       "      <td>0.0</td>\n",
       "      <td>0.0</td>\n",
       "      <td>71.0</td>\n",
       "      <td>6.858277e+14</td>\n",
       "      <td>1.464048e+09</td>\n",
       "      <td>0</td>\n",
       "    </tr>\n",
       "    <tr>\n",
       "      <th>58171</th>\n",
       "      <td>0.0</td>\n",
       "      <td>0.0</td>\n",
       "      <td>0.0</td>\n",
       "      <td>0.0</td>\n",
       "      <td>0.0</td>\n",
       "      <td>0.0</td>\n",
       "      <td>0.0</td>\n",
       "      <td>0.0</td>\n",
       "      <td>0.0</td>\n",
       "      <td>0.0</td>\n",
       "      <td>...</td>\n",
       "      <td>0.0</td>\n",
       "      <td>0.0</td>\n",
       "      <td>0.0</td>\n",
       "      <td>0.0</td>\n",
       "      <td>0.0</td>\n",
       "      <td>1.0</td>\n",
       "      <td>17.0</td>\n",
       "      <td>3.278775e+10</td>\n",
       "      <td>1.464739e+09</td>\n",
       "      <td>12</td>\n",
       "    </tr>\n",
       "    <tr>\n",
       "      <th>34154</th>\n",
       "      <td>0.0</td>\n",
       "      <td>0.0</td>\n",
       "      <td>0.0</td>\n",
       "      <td>0.0</td>\n",
       "      <td>0.0</td>\n",
       "      <td>0.0</td>\n",
       "      <td>0.0</td>\n",
       "      <td>0.0</td>\n",
       "      <td>0.0</td>\n",
       "      <td>0.0</td>\n",
       "      <td>...</td>\n",
       "      <td>0.0</td>\n",
       "      <td>0.0</td>\n",
       "      <td>0.0</td>\n",
       "      <td>0.0</td>\n",
       "      <td>0.0</td>\n",
       "      <td>0.0</td>\n",
       "      <td>26.0</td>\n",
       "      <td>9.243581e+13</td>\n",
       "      <td>1.465171e+09</td>\n",
       "      <td>0</td>\n",
       "    </tr>\n",
       "  </tbody>\n",
       "</table>\n",
       "<p>61784 rows × 92 columns</p>\n",
       "</div>"
      ],
      "text/plain": [
       "       categorical__Sex_M  categorical__Community_AEROPORTO  \\\n",
       "6757                  1.0                               0.0   \n",
       "15634                 1.0                               0.0   \n",
       "34180                 0.0                               0.0   \n",
       "84496                 1.0                               0.0   \n",
       "68443                 0.0                               0.0   \n",
       "...                   ...                               ...   \n",
       "74718                 1.0                               0.0   \n",
       "32747                 1.0                               0.0   \n",
       "44351                 0.0                               0.0   \n",
       "58171                 0.0                               0.0   \n",
       "34154                 0.0                               0.0   \n",
       "\n",
       "       categorical__Community_ANDORINHAS  \\\n",
       "6757                                 0.0   \n",
       "15634                                0.0   \n",
       "34180                                0.0   \n",
       "84496                                0.0   \n",
       "68443                                0.0   \n",
       "...                                  ...   \n",
       "74718                                0.0   \n",
       "32747                                0.0   \n",
       "44351                                0.0   \n",
       "58171                                0.0   \n",
       "34154                                0.0   \n",
       "\n",
       "       categorical__Community_ANTÔNIO HONÓRIO  \\\n",
       "6757                                      0.0   \n",
       "15634                                     0.0   \n",
       "34180                                     0.0   \n",
       "84496                                     0.0   \n",
       "68443                                     0.0   \n",
       "...                                       ...   \n",
       "74718                                     0.0   \n",
       "32747                                     0.0   \n",
       "44351                                     0.0   \n",
       "58171                                     0.0   \n",
       "34154                                     0.0   \n",
       "\n",
       "       categorical__Community_ARIOVALDO FAVALESSA  \\\n",
       "6757                                          0.0   \n",
       "15634                                         0.0   \n",
       "34180                                         0.0   \n",
       "84496                                         0.0   \n",
       "68443                                         0.0   \n",
       "...                                           ...   \n",
       "74718                                         0.0   \n",
       "32747                                         0.0   \n",
       "44351                                         0.0   \n",
       "58171                                         0.0   \n",
       "34154                                         0.0   \n",
       "\n",
       "       categorical__Community_BARRO VERMELHO  \\\n",
       "6757                                     0.0   \n",
       "15634                                    0.0   \n",
       "34180                                    0.0   \n",
       "84496                                    0.0   \n",
       "68443                                    0.0   \n",
       "...                                      ...   \n",
       "74718                                    0.0   \n",
       "32747                                    0.0   \n",
       "44351                                    0.0   \n",
       "58171                                    0.0   \n",
       "34154                                    0.0   \n",
       "\n",
       "       categorical__Community_BELA VISTA  \\\n",
       "6757                                 1.0   \n",
       "15634                                0.0   \n",
       "34180                                0.0   \n",
       "84496                                0.0   \n",
       "68443                                0.0   \n",
       "...                                  ...   \n",
       "74718                                0.0   \n",
       "32747                                0.0   \n",
       "44351                                0.0   \n",
       "58171                                0.0   \n",
       "34154                                0.0   \n",
       "\n",
       "       categorical__Community_BENTO FERREIRA  \\\n",
       "6757                                     0.0   \n",
       "15634                                    0.0   \n",
       "34180                                    0.0   \n",
       "84496                                    0.0   \n",
       "68443                                    0.0   \n",
       "...                                      ...   \n",
       "74718                                    0.0   \n",
       "32747                                    0.0   \n",
       "44351                                    0.0   \n",
       "58171                                    0.0   \n",
       "34154                                    0.0   \n",
       "\n",
       "       categorical__Community_BOA VISTA  categorical__Community_BONFIM  ...  \\\n",
       "6757                                0.0                            0.0  ...   \n",
       "15634                               0.0                            0.0  ...   \n",
       "34180                               0.0                            0.0  ...   \n",
       "84496                               0.0                            0.0  ...   \n",
       "68443                               0.0                            0.0  ...   \n",
       "...                                 ...                            ...  ...   \n",
       "74718                               0.0                            0.0  ...   \n",
       "32747                               0.0                            0.0  ...   \n",
       "44351                               0.0                            0.0  ...   \n",
       "58171                               0.0                            0.0  ...   \n",
       "34154                               0.0                            0.0  ...   \n",
       "\n",
       "       categorical__SocialWelfare_yes  categorical__Hipertension_yes  \\\n",
       "6757                              0.0                            1.0   \n",
       "15634                             0.0                            0.0   \n",
       "34180                             0.0                            1.0   \n",
       "84496                             0.0                            0.0   \n",
       "68443                             0.0                            1.0   \n",
       "...                               ...                            ...   \n",
       "74718                             0.0                            0.0   \n",
       "32747                             0.0                            0.0   \n",
       "44351                             0.0                            1.0   \n",
       "58171                             0.0                            0.0   \n",
       "34154                             0.0                            0.0   \n",
       "\n",
       "       categorical__Diabetes_yes  categorical__Alcoholism_yes  \\\n",
       "6757                         1.0                          0.0   \n",
       "15634                        0.0                          0.0   \n",
       "34180                        0.0                          0.0   \n",
       "84496                        0.0                          0.0   \n",
       "68443                        1.0                          0.0   \n",
       "...                          ...                          ...   \n",
       "74718                        0.0                          0.0   \n",
       "32747                        0.0                          0.0   \n",
       "44351                        0.0                          0.0   \n",
       "58171                        0.0                          0.0   \n",
       "34154                        0.0                          0.0   \n",
       "\n",
       "       categorical__Handcap_yes  categorical__SMS_received_yes  \\\n",
       "6757                        0.0                            1.0   \n",
       "15634                       0.0                            0.0   \n",
       "34180                       0.0                            1.0   \n",
       "84496                       0.0                            0.0   \n",
       "68443                       1.0                            0.0   \n",
       "...                         ...                            ...   \n",
       "74718                       0.0                            0.0   \n",
       "32747                       0.0                            0.0   \n",
       "44351                       0.0                            0.0   \n",
       "58171                       0.0                            1.0   \n",
       "34154                       0.0                            0.0   \n",
       "\n",
       "       numerical__Age  remainder__PatientId  remainder__AppointmentDate  \\\n",
       "6757             54.0          7.689994e+13                1.462838e+09   \n",
       "15634             2.0          2.759918e+13                1.462752e+09   \n",
       "34180            70.0          5.313993e+13                1.462234e+09   \n",
       "84496             2.0          1.629827e+13                1.462320e+09   \n",
       "68443            80.0          2.178553e+12                1.463443e+09   \n",
       "...               ...                   ...                         ...   \n",
       "74718             5.0          3.757597e+13                1.462838e+09   \n",
       "32747             4.0          6.996995e+14                1.464653e+09   \n",
       "44351            71.0          6.858277e+14                1.464048e+09   \n",
       "58171            17.0          3.278775e+10                1.464739e+09   \n",
       "34154            26.0          9.243581e+13                1.465171e+09   \n",
       "\n",
       "       remainder__WaitingTime  \n",
       "6757                        3  \n",
       "15634                       0  \n",
       "34180                       6  \n",
       "84496                       0  \n",
       "68443                       0  \n",
       "...                       ...  \n",
       "74718                       0  \n",
       "32747                       6  \n",
       "44351                       0  \n",
       "58171                      12  \n",
       "34154                       0  \n",
       "\n",
       "[61784 rows x 92 columns]"
      ]
     },
     "execution_count": 32,
     "metadata": {},
     "output_type": "execute_result"
    }
   ],
   "source": [
    "categorical_preprocessing = Pipeline(\n",
    "[\n",
    "    ('imputer_mode', imputer_mode),\n",
    "    ('onehot', ohe),\n",
    "])\n",
    "\n",
    "numerical_preprocessing = Pipeline([\n",
    "    ('imputer_median', imputer_median)\n",
    "])\n",
    "\n",
    "preprocessing = ColumnTransformer(\n",
    "                    [\n",
    "                        ('categorical', categorical_preprocessing, ['Sex', 'Community', 'SocialWelfare', 'Hipertension', 'Diabetes', 'Alcoholism', 'Handcap', 'SMS_received']),\n",
    "                        ('numerical', numerical_preprocessing, ['Age']),\n",
    "                    ], remainder= 'passthrough')\n",
    "\n",
    "preprocessing.fit_transform(X_train)"
   ]
  },
  {
   "cell_type": "code",
   "execution_count": 33,
   "metadata": {},
   "outputs": [
    {
     "name": "stdout",
     "output_type": "stream",
     "text": [
      "<class 'pandas.core.frame.DataFrame'>\n",
      "Index: 26480 entries, 66304 to 28100\n",
      "Data columns (total 12 columns):\n",
      " #   Column           Non-Null Count  Dtype  \n",
      "---  ------           --------------  -----  \n",
      " 0   PatientId        26480 non-null  float64\n",
      " 1   Sex              26480 non-null  object \n",
      " 2   AppointmentDate  26480 non-null  float64\n",
      " 3   Age              23816 non-null  float64\n",
      " 4   Community        23302 non-null  object \n",
      " 5   SocialWelfare    22736 non-null  object \n",
      " 6   Hipertension     24083 non-null  object \n",
      " 7   Diabetes         26480 non-null  object \n",
      " 8   Alcoholism       22014 non-null  object \n",
      " 9   Handcap          26480 non-null  object \n",
      " 10  SMS_received     26480 non-null  object \n",
      " 11  WaitingTime      26480 non-null  int64  \n",
      "dtypes: float64(3), int64(1), object(8)\n",
      "memory usage: 2.6+ MB\n"
     ]
    }
   ],
   "source": [
    "# checking X_test for missing values\n",
    "X_test.info()"
   ]
  },
  {
   "cell_type": "code",
   "execution_count": 34,
   "metadata": {},
   "outputs": [
    {
     "data": {
      "text/html": [
       "<div>\n",
       "<style scoped>\n",
       "    .dataframe tbody tr th:only-of-type {\n",
       "        vertical-align: middle;\n",
       "    }\n",
       "\n",
       "    .dataframe tbody tr th {\n",
       "        vertical-align: top;\n",
       "    }\n",
       "\n",
       "    .dataframe thead th {\n",
       "        text-align: right;\n",
       "    }\n",
       "</style>\n",
       "<table border=\"1\" class=\"dataframe\">\n",
       "  <thead>\n",
       "    <tr style=\"text-align: right;\">\n",
       "      <th></th>\n",
       "      <th>categorical__Sex_M</th>\n",
       "      <th>categorical__Community_AEROPORTO</th>\n",
       "      <th>categorical__Community_ANDORINHAS</th>\n",
       "      <th>categorical__Community_ANTÔNIO HONÓRIO</th>\n",
       "      <th>categorical__Community_ARIOVALDO FAVALESSA</th>\n",
       "      <th>categorical__Community_BARRO VERMELHO</th>\n",
       "      <th>categorical__Community_BELA VISTA</th>\n",
       "      <th>categorical__Community_BENTO FERREIRA</th>\n",
       "      <th>categorical__Community_BOA VISTA</th>\n",
       "      <th>categorical__Community_BONFIM</th>\n",
       "      <th>...</th>\n",
       "      <th>categorical__SocialWelfare_yes</th>\n",
       "      <th>categorical__Hipertension_yes</th>\n",
       "      <th>categorical__Diabetes_yes</th>\n",
       "      <th>categorical__Alcoholism_yes</th>\n",
       "      <th>categorical__Handcap_yes</th>\n",
       "      <th>categorical__SMS_received_yes</th>\n",
       "      <th>numerical__Age</th>\n",
       "      <th>remainder__PatientId</th>\n",
       "      <th>remainder__AppointmentDate</th>\n",
       "      <th>remainder__WaitingTime</th>\n",
       "    </tr>\n",
       "  </thead>\n",
       "  <tbody>\n",
       "    <tr>\n",
       "      <th>66304</th>\n",
       "      <td>0.0</td>\n",
       "      <td>0.0</td>\n",
       "      <td>0.0</td>\n",
       "      <td>0.0</td>\n",
       "      <td>0.0</td>\n",
       "      <td>0.0</td>\n",
       "      <td>0.0</td>\n",
       "      <td>0.0</td>\n",
       "      <td>0.0</td>\n",
       "      <td>0.0</td>\n",
       "      <td>...</td>\n",
       "      <td>0.0</td>\n",
       "      <td>0.0</td>\n",
       "      <td>0.0</td>\n",
       "      <td>0.0</td>\n",
       "      <td>0.0</td>\n",
       "      <td>0.0</td>\n",
       "      <td>21.0</td>\n",
       "      <td>5.586969e+12</td>\n",
       "      <td>1.462320e+09</td>\n",
       "      <td>0</td>\n",
       "    </tr>\n",
       "    <tr>\n",
       "      <th>12130</th>\n",
       "      <td>1.0</td>\n",
       "      <td>0.0</td>\n",
       "      <td>0.0</td>\n",
       "      <td>0.0</td>\n",
       "      <td>0.0</td>\n",
       "      <td>0.0</td>\n",
       "      <td>0.0</td>\n",
       "      <td>0.0</td>\n",
       "      <td>0.0</td>\n",
       "      <td>0.0</td>\n",
       "      <td>...</td>\n",
       "      <td>0.0</td>\n",
       "      <td>1.0</td>\n",
       "      <td>0.0</td>\n",
       "      <td>0.0</td>\n",
       "      <td>0.0</td>\n",
       "      <td>0.0</td>\n",
       "      <td>52.0</td>\n",
       "      <td>2.934964e+12</td>\n",
       "      <td>1.463616e+09</td>\n",
       "      <td>132</td>\n",
       "    </tr>\n",
       "    <tr>\n",
       "      <th>81638</th>\n",
       "      <td>0.0</td>\n",
       "      <td>0.0</td>\n",
       "      <td>0.0</td>\n",
       "      <td>0.0</td>\n",
       "      <td>0.0</td>\n",
       "      <td>0.0</td>\n",
       "      <td>1.0</td>\n",
       "      <td>0.0</td>\n",
       "      <td>0.0</td>\n",
       "      <td>0.0</td>\n",
       "      <td>...</td>\n",
       "      <td>0.0</td>\n",
       "      <td>0.0</td>\n",
       "      <td>0.0</td>\n",
       "      <td>0.0</td>\n",
       "      <td>0.0</td>\n",
       "      <td>1.0</td>\n",
       "      <td>21.0</td>\n",
       "      <td>8.633926e+10</td>\n",
       "      <td>1.462320e+09</td>\n",
       "      <td>8</td>\n",
       "    </tr>\n",
       "    <tr>\n",
       "      <th>63254</th>\n",
       "      <td>0.0</td>\n",
       "      <td>0.0</td>\n",
       "      <td>0.0</td>\n",
       "      <td>0.0</td>\n",
       "      <td>0.0</td>\n",
       "      <td>0.0</td>\n",
       "      <td>0.0</td>\n",
       "      <td>0.0</td>\n",
       "      <td>0.0</td>\n",
       "      <td>0.0</td>\n",
       "      <td>...</td>\n",
       "      <td>0.0</td>\n",
       "      <td>0.0</td>\n",
       "      <td>0.0</td>\n",
       "      <td>0.0</td>\n",
       "      <td>0.0</td>\n",
       "      <td>0.0</td>\n",
       "      <td>16.0</td>\n",
       "      <td>4.959993e+12</td>\n",
       "      <td>1.463357e+09</td>\n",
       "      <td>10</td>\n",
       "    </tr>\n",
       "    <tr>\n",
       "      <th>78718</th>\n",
       "      <td>1.0</td>\n",
       "      <td>0.0</td>\n",
       "      <td>0.0</td>\n",
       "      <td>0.0</td>\n",
       "      <td>0.0</td>\n",
       "      <td>0.0</td>\n",
       "      <td>0.0</td>\n",
       "      <td>0.0</td>\n",
       "      <td>0.0</td>\n",
       "      <td>1.0</td>\n",
       "      <td>...</td>\n",
       "      <td>0.0</td>\n",
       "      <td>1.0</td>\n",
       "      <td>0.0</td>\n",
       "      <td>0.0</td>\n",
       "      <td>0.0</td>\n",
       "      <td>0.0</td>\n",
       "      <td>36.0</td>\n",
       "      <td>1.447997e+13</td>\n",
       "      <td>1.463098e+09</td>\n",
       "      <td>0</td>\n",
       "    </tr>\n",
       "    <tr>\n",
       "      <th>...</th>\n",
       "      <td>...</td>\n",
       "      <td>...</td>\n",
       "      <td>...</td>\n",
       "      <td>...</td>\n",
       "      <td>...</td>\n",
       "      <td>...</td>\n",
       "      <td>...</td>\n",
       "      <td>...</td>\n",
       "      <td>...</td>\n",
       "      <td>...</td>\n",
       "      <td>...</td>\n",
       "      <td>...</td>\n",
       "      <td>...</td>\n",
       "      <td>...</td>\n",
       "      <td>...</td>\n",
       "      <td>...</td>\n",
       "      <td>...</td>\n",
       "      <td>...</td>\n",
       "      <td>...</td>\n",
       "      <td>...</td>\n",
       "      <td>...</td>\n",
       "    </tr>\n",
       "    <tr>\n",
       "      <th>88193</th>\n",
       "      <td>0.0</td>\n",
       "      <td>0.0</td>\n",
       "      <td>0.0</td>\n",
       "      <td>0.0</td>\n",
       "      <td>0.0</td>\n",
       "      <td>0.0</td>\n",
       "      <td>0.0</td>\n",
       "      <td>0.0</td>\n",
       "      <td>0.0</td>\n",
       "      <td>0.0</td>\n",
       "      <td>...</td>\n",
       "      <td>0.0</td>\n",
       "      <td>0.0</td>\n",
       "      <td>0.0</td>\n",
       "      <td>0.0</td>\n",
       "      <td>0.0</td>\n",
       "      <td>0.0</td>\n",
       "      <td>7.0</td>\n",
       "      <td>1.233422e+14</td>\n",
       "      <td>1.463011e+09</td>\n",
       "      <td>1</td>\n",
       "    </tr>\n",
       "    <tr>\n",
       "      <th>6083</th>\n",
       "      <td>0.0</td>\n",
       "      <td>0.0</td>\n",
       "      <td>0.0</td>\n",
       "      <td>0.0</td>\n",
       "      <td>0.0</td>\n",
       "      <td>0.0</td>\n",
       "      <td>0.0</td>\n",
       "      <td>0.0</td>\n",
       "      <td>0.0</td>\n",
       "      <td>0.0</td>\n",
       "      <td>...</td>\n",
       "      <td>0.0</td>\n",
       "      <td>0.0</td>\n",
       "      <td>0.0</td>\n",
       "      <td>0.0</td>\n",
       "      <td>0.0</td>\n",
       "      <td>0.0</td>\n",
       "      <td>71.0</td>\n",
       "      <td>2.995543e+13</td>\n",
       "      <td>1.462838e+09</td>\n",
       "      <td>0</td>\n",
       "    </tr>\n",
       "    <tr>\n",
       "      <th>72768</th>\n",
       "      <td>0.0</td>\n",
       "      <td>0.0</td>\n",
       "      <td>0.0</td>\n",
       "      <td>0.0</td>\n",
       "      <td>0.0</td>\n",
       "      <td>0.0</td>\n",
       "      <td>0.0</td>\n",
       "      <td>0.0</td>\n",
       "      <td>0.0</td>\n",
       "      <td>0.0</td>\n",
       "      <td>...</td>\n",
       "      <td>0.0</td>\n",
       "      <td>0.0</td>\n",
       "      <td>0.0</td>\n",
       "      <td>0.0</td>\n",
       "      <td>0.0</td>\n",
       "      <td>0.0</td>\n",
       "      <td>12.0</td>\n",
       "      <td>1.785649e+12</td>\n",
       "      <td>1.462147e+09</td>\n",
       "      <td>5</td>\n",
       "    </tr>\n",
       "    <tr>\n",
       "      <th>28952</th>\n",
       "      <td>1.0</td>\n",
       "      <td>0.0</td>\n",
       "      <td>0.0</td>\n",
       "      <td>0.0</td>\n",
       "      <td>0.0</td>\n",
       "      <td>0.0</td>\n",
       "      <td>0.0</td>\n",
       "      <td>0.0</td>\n",
       "      <td>0.0</td>\n",
       "      <td>0.0</td>\n",
       "      <td>...</td>\n",
       "      <td>0.0</td>\n",
       "      <td>0.0</td>\n",
       "      <td>0.0</td>\n",
       "      <td>0.0</td>\n",
       "      <td>0.0</td>\n",
       "      <td>0.0</td>\n",
       "      <td>37.0</td>\n",
       "      <td>4.275423e+12</td>\n",
       "      <td>1.465258e+09</td>\n",
       "      <td>0</td>\n",
       "    </tr>\n",
       "    <tr>\n",
       "      <th>28100</th>\n",
       "      <td>1.0</td>\n",
       "      <td>0.0</td>\n",
       "      <td>0.0</td>\n",
       "      <td>0.0</td>\n",
       "      <td>0.0</td>\n",
       "      <td>0.0</td>\n",
       "      <td>0.0</td>\n",
       "      <td>0.0</td>\n",
       "      <td>0.0</td>\n",
       "      <td>0.0</td>\n",
       "      <td>...</td>\n",
       "      <td>0.0</td>\n",
       "      <td>0.0</td>\n",
       "      <td>0.0</td>\n",
       "      <td>0.0</td>\n",
       "      <td>0.0</td>\n",
       "      <td>0.0</td>\n",
       "      <td>9.0</td>\n",
       "      <td>7.822532e+13</td>\n",
       "      <td>1.464653e+09</td>\n",
       "      <td>0</td>\n",
       "    </tr>\n",
       "  </tbody>\n",
       "</table>\n",
       "<p>26480 rows × 91 columns</p>\n",
       "</div>"
      ],
      "text/plain": [
       "       categorical__Sex_M  categorical__Community_AEROPORTO  \\\n",
       "66304                 0.0                               0.0   \n",
       "12130                 1.0                               0.0   \n",
       "81638                 0.0                               0.0   \n",
       "63254                 0.0                               0.0   \n",
       "78718                 1.0                               0.0   \n",
       "...                   ...                               ...   \n",
       "88193                 0.0                               0.0   \n",
       "6083                  0.0                               0.0   \n",
       "72768                 0.0                               0.0   \n",
       "28952                 1.0                               0.0   \n",
       "28100                 1.0                               0.0   \n",
       "\n",
       "       categorical__Community_ANDORINHAS  \\\n",
       "66304                                0.0   \n",
       "12130                                0.0   \n",
       "81638                                0.0   \n",
       "63254                                0.0   \n",
       "78718                                0.0   \n",
       "...                                  ...   \n",
       "88193                                0.0   \n",
       "6083                                 0.0   \n",
       "72768                                0.0   \n",
       "28952                                0.0   \n",
       "28100                                0.0   \n",
       "\n",
       "       categorical__Community_ANTÔNIO HONÓRIO  \\\n",
       "66304                                     0.0   \n",
       "12130                                     0.0   \n",
       "81638                                     0.0   \n",
       "63254                                     0.0   \n",
       "78718                                     0.0   \n",
       "...                                       ...   \n",
       "88193                                     0.0   \n",
       "6083                                      0.0   \n",
       "72768                                     0.0   \n",
       "28952                                     0.0   \n",
       "28100                                     0.0   \n",
       "\n",
       "       categorical__Community_ARIOVALDO FAVALESSA  \\\n",
       "66304                                         0.0   \n",
       "12130                                         0.0   \n",
       "81638                                         0.0   \n",
       "63254                                         0.0   \n",
       "78718                                         0.0   \n",
       "...                                           ...   \n",
       "88193                                         0.0   \n",
       "6083                                          0.0   \n",
       "72768                                         0.0   \n",
       "28952                                         0.0   \n",
       "28100                                         0.0   \n",
       "\n",
       "       categorical__Community_BARRO VERMELHO  \\\n",
       "66304                                    0.0   \n",
       "12130                                    0.0   \n",
       "81638                                    0.0   \n",
       "63254                                    0.0   \n",
       "78718                                    0.0   \n",
       "...                                      ...   \n",
       "88193                                    0.0   \n",
       "6083                                     0.0   \n",
       "72768                                    0.0   \n",
       "28952                                    0.0   \n",
       "28100                                    0.0   \n",
       "\n",
       "       categorical__Community_BELA VISTA  \\\n",
       "66304                                0.0   \n",
       "12130                                0.0   \n",
       "81638                                1.0   \n",
       "63254                                0.0   \n",
       "78718                                0.0   \n",
       "...                                  ...   \n",
       "88193                                0.0   \n",
       "6083                                 0.0   \n",
       "72768                                0.0   \n",
       "28952                                0.0   \n",
       "28100                                0.0   \n",
       "\n",
       "       categorical__Community_BENTO FERREIRA  \\\n",
       "66304                                    0.0   \n",
       "12130                                    0.0   \n",
       "81638                                    0.0   \n",
       "63254                                    0.0   \n",
       "78718                                    0.0   \n",
       "...                                      ...   \n",
       "88193                                    0.0   \n",
       "6083                                     0.0   \n",
       "72768                                    0.0   \n",
       "28952                                    0.0   \n",
       "28100                                    0.0   \n",
       "\n",
       "       categorical__Community_BOA VISTA  categorical__Community_BONFIM  ...  \\\n",
       "66304                               0.0                            0.0  ...   \n",
       "12130                               0.0                            0.0  ...   \n",
       "81638                               0.0                            0.0  ...   \n",
       "63254                               0.0                            0.0  ...   \n",
       "78718                               0.0                            1.0  ...   \n",
       "...                                 ...                            ...  ...   \n",
       "88193                               0.0                            0.0  ...   \n",
       "6083                                0.0                            0.0  ...   \n",
       "72768                               0.0                            0.0  ...   \n",
       "28952                               0.0                            0.0  ...   \n",
       "28100                               0.0                            0.0  ...   \n",
       "\n",
       "       categorical__SocialWelfare_yes  categorical__Hipertension_yes  \\\n",
       "66304                             0.0                            0.0   \n",
       "12130                             0.0                            1.0   \n",
       "81638                             0.0                            0.0   \n",
       "63254                             0.0                            0.0   \n",
       "78718                             0.0                            1.0   \n",
       "...                               ...                            ...   \n",
       "88193                             0.0                            0.0   \n",
       "6083                              0.0                            0.0   \n",
       "72768                             0.0                            0.0   \n",
       "28952                             0.0                            0.0   \n",
       "28100                             0.0                            0.0   \n",
       "\n",
       "       categorical__Diabetes_yes  categorical__Alcoholism_yes  \\\n",
       "66304                        0.0                          0.0   \n",
       "12130                        0.0                          0.0   \n",
       "81638                        0.0                          0.0   \n",
       "63254                        0.0                          0.0   \n",
       "78718                        0.0                          0.0   \n",
       "...                          ...                          ...   \n",
       "88193                        0.0                          0.0   \n",
       "6083                         0.0                          0.0   \n",
       "72768                        0.0                          0.0   \n",
       "28952                        0.0                          0.0   \n",
       "28100                        0.0                          0.0   \n",
       "\n",
       "       categorical__Handcap_yes  categorical__SMS_received_yes  \\\n",
       "66304                       0.0                            0.0   \n",
       "12130                       0.0                            0.0   \n",
       "81638                       0.0                            1.0   \n",
       "63254                       0.0                            0.0   \n",
       "78718                       0.0                            0.0   \n",
       "...                         ...                            ...   \n",
       "88193                       0.0                            0.0   \n",
       "6083                        0.0                            0.0   \n",
       "72768                       0.0                            0.0   \n",
       "28952                       0.0                            0.0   \n",
       "28100                       0.0                            0.0   \n",
       "\n",
       "       numerical__Age  remainder__PatientId  remainder__AppointmentDate  \\\n",
       "66304            21.0          5.586969e+12                1.462320e+09   \n",
       "12130            52.0          2.934964e+12                1.463616e+09   \n",
       "81638            21.0          8.633926e+10                1.462320e+09   \n",
       "63254            16.0          4.959993e+12                1.463357e+09   \n",
       "78718            36.0          1.447997e+13                1.463098e+09   \n",
       "...               ...                   ...                         ...   \n",
       "88193             7.0          1.233422e+14                1.463011e+09   \n",
       "6083             71.0          2.995543e+13                1.462838e+09   \n",
       "72768            12.0          1.785649e+12                1.462147e+09   \n",
       "28952            37.0          4.275423e+12                1.465258e+09   \n",
       "28100             9.0          7.822532e+13                1.464653e+09   \n",
       "\n",
       "       remainder__WaitingTime  \n",
       "66304                       0  \n",
       "12130                     132  \n",
       "81638                       8  \n",
       "63254                      10  \n",
       "78718                       0  \n",
       "...                       ...  \n",
       "88193                       1  \n",
       "6083                        0  \n",
       "72768                       5  \n",
       "28952                       0  \n",
       "28100                       0  \n",
       "\n",
       "[26480 rows x 91 columns]"
      ]
     },
     "execution_count": 34,
     "metadata": {},
     "output_type": "execute_result"
    }
   ],
   "source": [
    "preprocessing.fit_transform(X_test)"
   ]
  },
  {
   "cell_type": "code",
   "execution_count": 35,
   "metadata": {},
   "outputs": [],
   "source": [
    "from sklearn.preprocessing import LabelEncoder\n",
    "label_encoder = LabelEncoder()\n",
    "y_train = label_encoder.fit_transform(y_train)\n",
    "y_test = label_encoder.transform(y_test)"
   ]
  },
  {
   "cell_type": "markdown",
   "metadata": {},
   "source": [
    "# 5. Model Building and Optimization"
   ]
  },
  {
   "cell_type": "markdown",
   "metadata": {},
   "source": [
    "## Random Forest"
   ]
  },
  {
   "cell_type": "code",
   "execution_count": 36,
   "metadata": {},
   "outputs": [],
   "source": [
    "rf = RandomForestClassifier(n_estimators=50,\n",
    "                            random_state=42)"
   ]
  },
  {
   "cell_type": "code",
   "execution_count": 37,
   "metadata": {},
   "outputs": [
    {
     "name": "stdout",
     "output_type": "stream",
     "text": [
      "Training Accuracy: 0.9986566101255988\n"
     ]
    }
   ],
   "source": [
    "pipe = Pipeline([\n",
    "    ('preprocessor', preprocessing),\n",
    "    ('classifier', RandomForestClassifier())\n",
    "])\n",
    "\n",
    "pipe.fit(X_train, y_train)\n",
    "\n",
    "train_predictions = pipe.predict(X_train)\n",
    "\n",
    "training_accuracy = metrics.accuracy_score(y_train, train_predictions)\n",
    "print(\"Training Accuracy:\", training_accuracy)\n"
   ]
  },
  {
   "cell_type": "code",
   "execution_count": 38,
   "metadata": {},
   "outputs": [
    {
     "name": "stdout",
     "output_type": "stream",
     "text": [
      "Test Accuracy: 0.7964501510574018\n",
      "R-squared: -0.26344628931168357\n",
      "MAE: 0.2035498489425982\n",
      "RMSE: 0.4511649908210944\n"
     ]
    }
   ],
   "source": [
    "y_pred = pipe.predict(X_test)\n",
    "test_accuracy = metrics.accuracy_score(y_test, y_pred)\n",
    "print(\"Test Accuracy:\", test_accuracy)\n",
    "print(\"R-squared:\", r2_score(y_test, y_pred))\n",
    "print(\"MAE:\", mean_absolute_error(y_test, y_pred))\n",
    "print(\"RMSE:\", mean_squared_error(y_test, y_pred, squared=False))"
   ]
  },
  {
   "cell_type": "code",
   "execution_count": 39,
   "metadata": {},
   "outputs": [],
   "source": [
    "param_grid = {\n",
    "    'classifier__n_estimators': [100, 200],\n",
    "    'classifier__max_depth': [None, 10],\n",
    "    'classifier__min_samples_split': [2, 5, 10],\n",
    "    'classifier__min_samples_leaf': [2, 4]\n",
    "}\n"
   ]
  },
  {
   "cell_type": "code",
   "execution_count": 40,
   "metadata": {},
   "outputs": [
    {
     "name": "stdout",
     "output_type": "stream",
     "text": [
      "Fitting 3 folds for each of 24 candidates, totalling 72 fits\n"
     ]
    },
    {
     "name": "stderr",
     "output_type": "stream",
     "text": [
      "/home/codespace/.local/lib/python3.10/site-packages/sklearn/preprocessing/_encoders.py:228: UserWarning: Found unknown categories in columns [1] during transform. These unknown categories will be encoded as all zeros\n",
      "  warnings.warn(\n",
      "/home/codespace/.local/lib/python3.10/site-packages/sklearn/preprocessing/_encoders.py:228: UserWarning: Found unknown categories in columns [1] during transform. These unknown categories will be encoded as all zeros\n",
      "  warnings.warn(\n"
     ]
    },
    {
     "name": "stdout",
     "output_type": "stream",
     "text": [
      "[CV 1/3] END classifier__max_depth=None, classifier__min_samples_leaf=2, classifier__min_samples_split=2, classifier__n_estimators=100; AUC-ROC: (train=0.974, test=0.724) Accuracy: (train=0.851, test=0.798) F1: (train=0.413, test=0.064) Precision: (train=0.997, test=0.502) Recall: (train=0.260, test=0.034) total time=   7.6s\n"
     ]
    },
    {
     "name": "stderr",
     "output_type": "stream",
     "text": [
      "/home/codespace/.local/lib/python3.10/site-packages/sklearn/preprocessing/_encoders.py:228: UserWarning: Found unknown categories in columns [1] during transform. These unknown categories will be encoded as all zeros\n",
      "  warnings.warn(\n",
      "/home/codespace/.local/lib/python3.10/site-packages/sklearn/preprocessing/_encoders.py:228: UserWarning: Found unknown categories in columns [1] during transform. These unknown categories will be encoded as all zeros\n",
      "  warnings.warn(\n"
     ]
    },
    {
     "name": "stdout",
     "output_type": "stream",
     "text": [
      "[CV 2/3] END classifier__max_depth=None, classifier__min_samples_leaf=2, classifier__min_samples_split=2, classifier__n_estimators=100; AUC-ROC: (train=0.973, test=0.723) Accuracy: (train=0.847, test=0.800) F1: (train=0.390, test=0.061) Precision: (train=1.000, test=0.566) Recall: (train=0.242, test=0.032) total time=   7.9s\n",
      "[CV 3/3] END classifier__max_depth=None, classifier__min_samples_leaf=2, classifier__min_samples_split=2, classifier__n_estimators=100; AUC-ROC: (train=0.973, test=0.718) Accuracy: (train=0.849, test=0.798) F1: (train=0.404, test=0.065) Precision: (train=0.996, test=0.509) Recall: (train=0.253, test=0.035) total time=   6.9s\n"
     ]
    },
    {
     "name": "stderr",
     "output_type": "stream",
     "text": [
      "/home/codespace/.local/lib/python3.10/site-packages/sklearn/preprocessing/_encoders.py:228: UserWarning: Found unknown categories in columns [1] during transform. These unknown categories will be encoded as all zeros\n",
      "  warnings.warn(\n",
      "/home/codespace/.local/lib/python3.10/site-packages/sklearn/preprocessing/_encoders.py:228: UserWarning: Found unknown categories in columns [1] during transform. These unknown categories will be encoded as all zeros\n",
      "  warnings.warn(\n"
     ]
    },
    {
     "name": "stdout",
     "output_type": "stream",
     "text": [
      "[CV 1/3] END classifier__max_depth=None, classifier__min_samples_leaf=2, classifier__min_samples_split=2, classifier__n_estimators=200; AUC-ROC: (train=0.975, test=0.727) Accuracy: (train=0.849, test=0.798) F1: (train=0.403, test=0.055) Precision: (train=0.999, test=0.502) Recall: (train=0.253, test=0.029) total time=  13.9s\n"
     ]
    },
    {
     "name": "stderr",
     "output_type": "stream",
     "text": [
      "/home/codespace/.local/lib/python3.10/site-packages/sklearn/preprocessing/_encoders.py:228: UserWarning: Found unknown categories in columns [1] during transform. These unknown categories will be encoded as all zeros\n",
      "  warnings.warn(\n",
      "/home/codespace/.local/lib/python3.10/site-packages/sklearn/preprocessing/_encoders.py:228: UserWarning: Found unknown categories in columns [1] during transform. These unknown categories will be encoded as all zeros\n",
      "  warnings.warn(\n"
     ]
    },
    {
     "name": "stdout",
     "output_type": "stream",
     "text": [
      "[CV 2/3] END classifier__max_depth=None, classifier__min_samples_leaf=2, classifier__min_samples_split=2, classifier__n_estimators=200; AUC-ROC: (train=0.974, test=0.723) Accuracy: (train=0.848, test=0.800) F1: (train=0.398, test=0.057) Precision: (train=1.000, test=0.568) Recall: (train=0.248, test=0.030) total time=  16.6s\n",
      "[CV 3/3] END classifier__max_depth=None, classifier__min_samples_leaf=2, classifier__min_samples_split=2, classifier__n_estimators=200; AUC-ROC: (train=0.974, test=0.718) Accuracy: (train=0.850, test=0.798) F1: (train=0.409, test=0.062) Precision: (train=1.000, test=0.498) Recall: (train=0.257, test=0.033) total time=  13.9s\n"
     ]
    },
    {
     "name": "stderr",
     "output_type": "stream",
     "text": [
      "/home/codespace/.local/lib/python3.10/site-packages/sklearn/preprocessing/_encoders.py:228: UserWarning: Found unknown categories in columns [1] during transform. These unknown categories will be encoded as all zeros\n",
      "  warnings.warn(\n",
      "/home/codespace/.local/lib/python3.10/site-packages/sklearn/preprocessing/_encoders.py:228: UserWarning: Found unknown categories in columns [1] during transform. These unknown categories will be encoded as all zeros\n",
      "  warnings.warn(\n"
     ]
    },
    {
     "name": "stdout",
     "output_type": "stream",
     "text": [
      "[CV 1/3] END classifier__max_depth=None, classifier__min_samples_leaf=2, classifier__min_samples_split=5, classifier__n_estimators=100; AUC-ROC: (train=0.967, test=0.724) Accuracy: (train=0.849, test=0.799) F1: (train=0.405, test=0.065) Precision: (train=0.996, test=0.518) Recall: (train=0.254, test=0.035) total time=   7.0s\n"
     ]
    },
    {
     "name": "stderr",
     "output_type": "stream",
     "text": [
      "/home/codespace/.local/lib/python3.10/site-packages/sklearn/preprocessing/_encoders.py:228: UserWarning: Found unknown categories in columns [1] during transform. These unknown categories will be encoded as all zeros\n",
      "  warnings.warn(\n",
      "/home/codespace/.local/lib/python3.10/site-packages/sklearn/preprocessing/_encoders.py:228: UserWarning: Found unknown categories in columns [1] during transform. These unknown categories will be encoded as all zeros\n",
      "  warnings.warn(\n"
     ]
    },
    {
     "name": "stdout",
     "output_type": "stream",
     "text": [
      "[CV 2/3] END classifier__max_depth=None, classifier__min_samples_leaf=2, classifier__min_samples_split=5, classifier__n_estimators=100; AUC-ROC: (train=0.967, test=0.721) Accuracy: (train=0.847, test=0.799) F1: (train=0.388, test=0.063) Precision: (train=0.999, test=0.550) Recall: (train=0.241, test=0.033) total time=   7.3s\n",
      "[CV 3/3] END classifier__max_depth=None, classifier__min_samples_leaf=2, classifier__min_samples_split=5, classifier__n_estimators=100; AUC-ROC: (train=0.969, test=0.718) Accuracy: (train=0.846, test=0.798) F1: (train=0.384, test=0.057) Precision: (train=0.998, test=0.475) Recall: (train=0.238, test=0.030) total time=   7.3s\n"
     ]
    },
    {
     "name": "stderr",
     "output_type": "stream",
     "text": [
      "/home/codespace/.local/lib/python3.10/site-packages/sklearn/preprocessing/_encoders.py:228: UserWarning: Found unknown categories in columns [1] during transform. These unknown categories will be encoded as all zeros\n",
      "  warnings.warn(\n",
      "/home/codespace/.local/lib/python3.10/site-packages/sklearn/preprocessing/_encoders.py:228: UserWarning: Found unknown categories in columns [1] during transform. These unknown categories will be encoded as all zeros\n",
      "  warnings.warn(\n"
     ]
    },
    {
     "name": "stdout",
     "output_type": "stream",
     "text": [
      "[CV 1/3] END classifier__max_depth=None, classifier__min_samples_leaf=2, classifier__min_samples_split=5, classifier__n_estimators=200; AUC-ROC: (train=0.968, test=0.726) Accuracy: (train=0.845, test=0.798) F1: (train=0.379, test=0.054) Precision: (train=0.999, test=0.498) Recall: (train=0.234, test=0.029) total time=  16.0s\n"
     ]
    },
    {
     "name": "stderr",
     "output_type": "stream",
     "text": [
      "/home/codespace/.local/lib/python3.10/site-packages/sklearn/preprocessing/_encoders.py:228: UserWarning: Found unknown categories in columns [1] during transform. These unknown categories will be encoded as all zeros\n",
      "  warnings.warn(\n",
      "/home/codespace/.local/lib/python3.10/site-packages/sklearn/preprocessing/_encoders.py:228: UserWarning: Found unknown categories in columns [1] during transform. These unknown categories will be encoded as all zeros\n",
      "  warnings.warn(\n"
     ]
    },
    {
     "name": "stdout",
     "output_type": "stream",
     "text": [
      "[CV 2/3] END classifier__max_depth=None, classifier__min_samples_leaf=2, classifier__min_samples_split=5, classifier__n_estimators=200; AUC-ROC: (train=0.968, test=0.723) Accuracy: (train=0.844, test=0.799) F1: (train=0.370, test=0.057) Precision: (train=1.000, test=0.541) Recall: (train=0.227, test=0.030) total time=  15.5s\n",
      "[CV 3/3] END classifier__max_depth=None, classifier__min_samples_leaf=2, classifier__min_samples_split=5, classifier__n_estimators=200; AUC-ROC: (train=0.969, test=0.719) Accuracy: (train=0.845, test=0.798) F1: (train=0.378, test=0.061) Precision: (train=0.999, test=0.500) Recall: (train=0.233, test=0.032) total time=  14.6s\n"
     ]
    },
    {
     "name": "stderr",
     "output_type": "stream",
     "text": [
      "/home/codespace/.local/lib/python3.10/site-packages/sklearn/preprocessing/_encoders.py:228: UserWarning: Found unknown categories in columns [1] during transform. These unknown categories will be encoded as all zeros\n",
      "  warnings.warn(\n",
      "/home/codespace/.local/lib/python3.10/site-packages/sklearn/preprocessing/_encoders.py:228: UserWarning: Found unknown categories in columns [1] during transform. These unknown categories will be encoded as all zeros\n",
      "  warnings.warn(\n"
     ]
    },
    {
     "name": "stdout",
     "output_type": "stream",
     "text": [
      "[CV 1/3] END classifier__max_depth=None, classifier__min_samples_leaf=2, classifier__min_samples_split=10, classifier__n_estimators=100; AUC-ROC: (train=0.938, test=0.724) Accuracy: (train=0.831, test=0.798) F1: (train=0.279, test=0.048) Precision: (train=0.990, test=0.488) Recall: (train=0.163, test=0.025) total time=   6.8s\n"
     ]
    },
    {
     "name": "stderr",
     "output_type": "stream",
     "text": [
      "/home/codespace/.local/lib/python3.10/site-packages/sklearn/preprocessing/_encoders.py:228: UserWarning: Found unknown categories in columns [1] during transform. These unknown categories will be encoded as all zeros\n",
      "  warnings.warn(\n",
      "/home/codespace/.local/lib/python3.10/site-packages/sklearn/preprocessing/_encoders.py:228: UserWarning: Found unknown categories in columns [1] during transform. These unknown categories will be encoded as all zeros\n",
      "  warnings.warn(\n"
     ]
    },
    {
     "name": "stdout",
     "output_type": "stream",
     "text": [
      "[CV 2/3] END classifier__max_depth=None, classifier__min_samples_leaf=2, classifier__min_samples_split=10, classifier__n_estimators=100; AUC-ROC: (train=0.937, test=0.721) Accuracy: (train=0.828, test=0.799) F1: (train=0.261, test=0.045) Precision: (train=0.997, test=0.524) Recall: (train=0.150, test=0.024) total time=   8.0s\n",
      "[CV 3/3] END classifier__max_depth=None, classifier__min_samples_leaf=2, classifier__min_samples_split=10, classifier__n_estimators=100; AUC-ROC: (train=0.939, test=0.718) Accuracy: (train=0.830, test=0.798) F1: (train=0.271, test=0.048) Precision: (train=0.989, test=0.481) Recall: (train=0.157, test=0.025) total time=   8.3s\n"
     ]
    },
    {
     "name": "stderr",
     "output_type": "stream",
     "text": [
      "/home/codespace/.local/lib/python3.10/site-packages/sklearn/preprocessing/_encoders.py:228: UserWarning: Found unknown categories in columns [1] during transform. These unknown categories will be encoded as all zeros\n",
      "  warnings.warn(\n",
      "/home/codespace/.local/lib/python3.10/site-packages/sklearn/preprocessing/_encoders.py:228: UserWarning: Found unknown categories in columns [1] during transform. These unknown categories will be encoded as all zeros\n",
      "  warnings.warn(\n"
     ]
    },
    {
     "name": "stdout",
     "output_type": "stream",
     "text": [
      "[CV 1/3] END classifier__max_depth=None, classifier__min_samples_leaf=2, classifier__min_samples_split=10, classifier__n_estimators=200; AUC-ROC: (train=0.940, test=0.725) Accuracy: (train=0.829, test=0.798) F1: (train=0.264, test=0.043) Precision: (train=0.991, test=0.482) Recall: (train=0.152, test=0.022) total time=  15.2s\n"
     ]
    },
    {
     "name": "stderr",
     "output_type": "stream",
     "text": [
      "/home/codespace/.local/lib/python3.10/site-packages/sklearn/preprocessing/_encoders.py:228: UserWarning: Found unknown categories in columns [1] during transform. These unknown categories will be encoded as all zeros\n",
      "  warnings.warn(\n",
      "/home/codespace/.local/lib/python3.10/site-packages/sklearn/preprocessing/_encoders.py:228: UserWarning: Found unknown categories in columns [1] during transform. These unknown categories will be encoded as all zeros\n",
      "  warnings.warn(\n"
     ]
    },
    {
     "name": "stdout",
     "output_type": "stream",
     "text": [
      "[CV 2/3] END classifier__max_depth=None, classifier__min_samples_leaf=2, classifier__min_samples_split=10, classifier__n_estimators=200; AUC-ROC: (train=0.939, test=0.723) Accuracy: (train=0.828, test=0.799) F1: (train=0.255, test=0.044) Precision: (train=0.995, test=0.576) Recall: (train=0.146, test=0.023) total time=  14.0s\n",
      "[CV 3/3] END classifier__max_depth=None, classifier__min_samples_leaf=2, classifier__min_samples_split=10, classifier__n_estimators=200; AUC-ROC: (train=0.941, test=0.720) Accuracy: (train=0.827, test=0.799) F1: (train=0.255, test=0.048) Precision: (train=0.993, test=0.520) Recall: (train=0.146, test=0.025) total time=  13.7s\n"
     ]
    },
    {
     "name": "stderr",
     "output_type": "stream",
     "text": [
      "/home/codespace/.local/lib/python3.10/site-packages/sklearn/preprocessing/_encoders.py:228: UserWarning: Found unknown categories in columns [1] during transform. These unknown categories will be encoded as all zeros\n",
      "  warnings.warn(\n",
      "/home/codespace/.local/lib/python3.10/site-packages/sklearn/preprocessing/_encoders.py:228: UserWarning: Found unknown categories in columns [1] during transform. These unknown categories will be encoded as all zeros\n",
      "  warnings.warn(\n"
     ]
    },
    {
     "name": "stdout",
     "output_type": "stream",
     "text": [
      "[CV 1/3] END classifier__max_depth=None, classifier__min_samples_leaf=4, classifier__min_samples_split=2, classifier__n_estimators=100; AUC-ROC: (train=0.878, test=0.727) Accuracy: (train=0.808, test=0.799) F1: (train=0.095, test=0.023) Precision: (train=0.988, test=0.598) Recall: (train=0.050, test=0.012) total time=   6.3s\n"
     ]
    },
    {
     "name": "stderr",
     "output_type": "stream",
     "text": [
      "/home/codespace/.local/lib/python3.10/site-packages/sklearn/preprocessing/_encoders.py:228: UserWarning: Found unknown categories in columns [1] during transform. These unknown categories will be encoded as all zeros\n",
      "  warnings.warn(\n",
      "/home/codespace/.local/lib/python3.10/site-packages/sklearn/preprocessing/_encoders.py:228: UserWarning: Found unknown categories in columns [1] during transform. These unknown categories will be encoded as all zeros\n",
      "  warnings.warn(\n"
     ]
    },
    {
     "name": "stdout",
     "output_type": "stream",
     "text": [
      "[CV 2/3] END classifier__max_depth=None, classifier__min_samples_leaf=4, classifier__min_samples_split=2, classifier__n_estimators=100; AUC-ROC: (train=0.879, test=0.722) Accuracy: (train=0.806, test=0.798) F1: (train=0.076, test=0.011) Precision: (train=0.994, test=0.500) Recall: (train=0.040, test=0.006) total time=   6.3s\n",
      "[CV 3/3] END classifier__max_depth=None, classifier__min_samples_leaf=4, classifier__min_samples_split=2, classifier__n_estimators=100; AUC-ROC: (train=0.882, test=0.719) Accuracy: (train=0.807, test=0.799) F1: (train=0.082, test=0.018) Precision: (train=0.986, test=0.565) Recall: (train=0.043, test=0.009) total time=   6.5s\n"
     ]
    },
    {
     "name": "stderr",
     "output_type": "stream",
     "text": [
      "/home/codespace/.local/lib/python3.10/site-packages/sklearn/preprocessing/_encoders.py:228: UserWarning: Found unknown categories in columns [1] during transform. These unknown categories will be encoded as all zeros\n",
      "  warnings.warn(\n",
      "/home/codespace/.local/lib/python3.10/site-packages/sklearn/preprocessing/_encoders.py:228: UserWarning: Found unknown categories in columns [1] during transform. These unknown categories will be encoded as all zeros\n",
      "  warnings.warn(\n"
     ]
    },
    {
     "name": "stdout",
     "output_type": "stream",
     "text": [
      "[CV 1/3] END classifier__max_depth=None, classifier__min_samples_leaf=4, classifier__min_samples_split=2, classifier__n_estimators=200; AUC-ROC: (train=0.881, test=0.727) Accuracy: (train=0.808, test=0.798) F1: (train=0.095, test=0.021) Precision: (train=0.988, test=0.523) Recall: (train=0.050, test=0.011) total time=  12.2s\n"
     ]
    },
    {
     "name": "stderr",
     "output_type": "stream",
     "text": [
      "/home/codespace/.local/lib/python3.10/site-packages/sklearn/preprocessing/_encoders.py:228: UserWarning: Found unknown categories in columns [1] during transform. These unknown categories will be encoded as all zeros\n",
      "  warnings.warn(\n",
      "/home/codespace/.local/lib/python3.10/site-packages/sklearn/preprocessing/_encoders.py:228: UserWarning: Found unknown categories in columns [1] during transform. These unknown categories will be encoded as all zeros\n",
      "  warnings.warn(\n"
     ]
    },
    {
     "name": "stdout",
     "output_type": "stream",
     "text": [
      "[CV 2/3] END classifier__max_depth=None, classifier__min_samples_leaf=4, classifier__min_samples_split=2, classifier__n_estimators=200; AUC-ROC: (train=0.882, test=0.723) Accuracy: (train=0.806, test=0.798) F1: (train=0.073, test=0.010) Precision: (train=0.994, test=0.512) Recall: (train=0.038, test=0.005) total time=  12.4s\n",
      "[CV 3/3] END classifier__max_depth=None, classifier__min_samples_leaf=4, classifier__min_samples_split=2, classifier__n_estimators=200; AUC-ROC: (train=0.885, test=0.720) Accuracy: (train=0.807, test=0.798) F1: (train=0.082, test=0.016) Precision: (train=0.997, test=0.458) Recall: (train=0.043, test=0.008) total time=  12.4s\n"
     ]
    },
    {
     "name": "stderr",
     "output_type": "stream",
     "text": [
      "/home/codespace/.local/lib/python3.10/site-packages/sklearn/preprocessing/_encoders.py:228: UserWarning: Found unknown categories in columns [1] during transform. These unknown categories will be encoded as all zeros\n",
      "  warnings.warn(\n",
      "/home/codespace/.local/lib/python3.10/site-packages/sklearn/preprocessing/_encoders.py:228: UserWarning: Found unknown categories in columns [1] during transform. These unknown categories will be encoded as all zeros\n",
      "  warnings.warn(\n"
     ]
    },
    {
     "name": "stdout",
     "output_type": "stream",
     "text": [
      "[CV 1/3] END classifier__max_depth=None, classifier__min_samples_leaf=4, classifier__min_samples_split=5, classifier__n_estimators=100; AUC-ROC: (train=0.881, test=0.725) Accuracy: (train=0.808, test=0.799) F1: (train=0.096, test=0.019) Precision: (train=0.988, test=0.577) Recall: (train=0.051, test=0.010) total time=   6.2s\n"
     ]
    },
    {
     "name": "stderr",
     "output_type": "stream",
     "text": [
      "/home/codespace/.local/lib/python3.10/site-packages/sklearn/preprocessing/_encoders.py:228: UserWarning: Found unknown categories in columns [1] during transform. These unknown categories will be encoded as all zeros\n",
      "  warnings.warn(\n",
      "/home/codespace/.local/lib/python3.10/site-packages/sklearn/preprocessing/_encoders.py:228: UserWarning: Found unknown categories in columns [1] during transform. These unknown categories will be encoded as all zeros\n",
      "  warnings.warn(\n"
     ]
    },
    {
     "name": "stdout",
     "output_type": "stream",
     "text": [
      "[CV 2/3] END classifier__max_depth=None, classifier__min_samples_leaf=4, classifier__min_samples_split=5, classifier__n_estimators=100; AUC-ROC: (train=0.880, test=0.721) Accuracy: (train=0.806, test=0.798) F1: (train=0.075, test=0.010) Precision: (train=0.994, test=0.478) Recall: (train=0.039, test=0.005) total time=   6.4s\n",
      "[CV 3/3] END classifier__max_depth=None, classifier__min_samples_leaf=4, classifier__min_samples_split=5, classifier__n_estimators=100; AUC-ROC: (train=0.883, test=0.720) Accuracy: (train=0.807, test=0.798) F1: (train=0.083, test=0.015) Precision: (train=0.992, test=0.443) Recall: (train=0.043, test=0.007) total time=   6.2s\n"
     ]
    },
    {
     "name": "stderr",
     "output_type": "stream",
     "text": [
      "/home/codespace/.local/lib/python3.10/site-packages/sklearn/preprocessing/_encoders.py:228: UserWarning: Found unknown categories in columns [1] during transform. These unknown categories will be encoded as all zeros\n",
      "  warnings.warn(\n",
      "/home/codespace/.local/lib/python3.10/site-packages/sklearn/preprocessing/_encoders.py:228: UserWarning: Found unknown categories in columns [1] during transform. These unknown categories will be encoded as all zeros\n",
      "  warnings.warn(\n"
     ]
    },
    {
     "name": "stdout",
     "output_type": "stream",
     "text": [
      "[CV 1/3] END classifier__max_depth=None, classifier__min_samples_leaf=4, classifier__min_samples_split=5, classifier__n_estimators=200; AUC-ROC: (train=0.880, test=0.727) Accuracy: (train=0.807, test=0.798) F1: (train=0.089, test=0.017) Precision: (train=0.990, test=0.556) Recall: (train=0.046, test=0.008) total time=  11.9s\n"
     ]
    },
    {
     "name": "stderr",
     "output_type": "stream",
     "text": [
      "/home/codespace/.local/lib/python3.10/site-packages/sklearn/preprocessing/_encoders.py:228: UserWarning: Found unknown categories in columns [1] during transform. These unknown categories will be encoded as all zeros\n",
      "  warnings.warn(\n",
      "/home/codespace/.local/lib/python3.10/site-packages/sklearn/preprocessing/_encoders.py:228: UserWarning: Found unknown categories in columns [1] during transform. These unknown categories will be encoded as all zeros\n",
      "  warnings.warn(\n"
     ]
    },
    {
     "name": "stdout",
     "output_type": "stream",
     "text": [
      "[CV 2/3] END classifier__max_depth=None, classifier__min_samples_leaf=4, classifier__min_samples_split=5, classifier__n_estimators=200; AUC-ROC: (train=0.884, test=0.722) Accuracy: (train=0.805, test=0.798) F1: (train=0.066, test=0.009) Precision: (train=0.993, test=0.462) Recall: (train=0.034, test=0.004) total time=  12.6s\n",
      "[CV 3/3] END classifier__max_depth=None, classifier__min_samples_leaf=4, classifier__min_samples_split=5, classifier__n_estimators=200; AUC-ROC: (train=0.883, test=0.722) Accuracy: (train=0.807, test=0.798) F1: (train=0.083, test=0.015) Precision: (train=0.989, test=0.449) Recall: (train=0.043, test=0.007) total time=  12.4s\n"
     ]
    },
    {
     "name": "stderr",
     "output_type": "stream",
     "text": [
      "/home/codespace/.local/lib/python3.10/site-packages/sklearn/preprocessing/_encoders.py:228: UserWarning: Found unknown categories in columns [1] during transform. These unknown categories will be encoded as all zeros\n",
      "  warnings.warn(\n",
      "/home/codespace/.local/lib/python3.10/site-packages/sklearn/preprocessing/_encoders.py:228: UserWarning: Found unknown categories in columns [1] during transform. These unknown categories will be encoded as all zeros\n",
      "  warnings.warn(\n"
     ]
    },
    {
     "name": "stdout",
     "output_type": "stream",
     "text": [
      "[CV 1/3] END classifier__max_depth=None, classifier__min_samples_leaf=4, classifier__min_samples_split=10, classifier__n_estimators=100; AUC-ROC: (train=0.875, test=0.725) Accuracy: (train=0.807, test=0.798) F1: (train=0.084, test=0.012) Precision: (train=0.984, test=0.456) Recall: (train=0.044, test=0.006) total time=   6.2s\n"
     ]
    },
    {
     "name": "stderr",
     "output_type": "stream",
     "text": [
      "/home/codespace/.local/lib/python3.10/site-packages/sklearn/preprocessing/_encoders.py:228: UserWarning: Found unknown categories in columns [1] during transform. These unknown categories will be encoded as all zeros\n",
      "  warnings.warn(\n",
      "/home/codespace/.local/lib/python3.10/site-packages/sklearn/preprocessing/_encoders.py:228: UserWarning: Found unknown categories in columns [1] during transform. These unknown categories will be encoded as all zeros\n",
      "  warnings.warn(\n"
     ]
    },
    {
     "name": "stdout",
     "output_type": "stream",
     "text": [
      "[CV 2/3] END classifier__max_depth=None, classifier__min_samples_leaf=4, classifier__min_samples_split=10, classifier__n_estimators=100; AUC-ROC: (train=0.875, test=0.723) Accuracy: (train=0.805, test=0.798) F1: (train=0.066, test=0.010) Precision: (train=0.996, test=0.512) Recall: (train=0.034, test=0.005) total time=   6.5s\n",
      "[CV 3/3] END classifier__max_depth=None, classifier__min_samples_leaf=4, classifier__min_samples_split=10, classifier__n_estimators=100; AUC-ROC: (train=0.876, test=0.720) Accuracy: (train=0.807, test=0.798) F1: (train=0.088, test=0.021) Precision: (train=0.987, test=0.512) Recall: (train=0.046, test=0.011) total time=   6.3s\n"
     ]
    },
    {
     "name": "stderr",
     "output_type": "stream",
     "text": [
      "/home/codespace/.local/lib/python3.10/site-packages/sklearn/preprocessing/_encoders.py:228: UserWarning: Found unknown categories in columns [1] during transform. These unknown categories will be encoded as all zeros\n",
      "  warnings.warn(\n",
      "/home/codespace/.local/lib/python3.10/site-packages/sklearn/preprocessing/_encoders.py:228: UserWarning: Found unknown categories in columns [1] during transform. These unknown categories will be encoded as all zeros\n",
      "  warnings.warn(\n"
     ]
    },
    {
     "name": "stdout",
     "output_type": "stream",
     "text": [
      "[CV 1/3] END classifier__max_depth=None, classifier__min_samples_leaf=4, classifier__min_samples_split=10, classifier__n_estimators=200; AUC-ROC: (train=0.877, test=0.727) Accuracy: (train=0.806, test=0.799) F1: (train=0.078, test=0.018) Precision: (train=0.991, test=0.597) Recall: (train=0.041, test=0.009) total time=  12.4s\n"
     ]
    },
    {
     "name": "stderr",
     "output_type": "stream",
     "text": [
      "/home/codespace/.local/lib/python3.10/site-packages/sklearn/preprocessing/_encoders.py:228: UserWarning: Found unknown categories in columns [1] during transform. These unknown categories will be encoded as all zeros\n",
      "  warnings.warn(\n",
      "/home/codespace/.local/lib/python3.10/site-packages/sklearn/preprocessing/_encoders.py:228: UserWarning: Found unknown categories in columns [1] during transform. These unknown categories will be encoded as all zeros\n",
      "  warnings.warn(\n"
     ]
    },
    {
     "name": "stdout",
     "output_type": "stream",
     "text": [
      "[CV 2/3] END classifier__max_depth=None, classifier__min_samples_leaf=4, classifier__min_samples_split=10, classifier__n_estimators=200; AUC-ROC: (train=0.878, test=0.722) Accuracy: (train=0.805, test=0.798) F1: (train=0.062, test=0.011) Precision: (train=0.996, test=0.558) Recall: (train=0.032, test=0.006) total time=  12.5s\n",
      "[CV 3/3] END classifier__max_depth=None, classifier__min_samples_leaf=4, classifier__min_samples_split=10, classifier__n_estimators=200; AUC-ROC: (train=0.880, test=0.722) Accuracy: (train=0.806, test=0.798) F1: (train=0.073, test=0.015) Precision: (train=0.994, test=0.508) Recall: (train=0.038, test=0.008) total time=  12.5s\n"
     ]
    },
    {
     "name": "stderr",
     "output_type": "stream",
     "text": [
      "/home/codespace/.local/lib/python3.10/site-packages/sklearn/preprocessing/_encoders.py:228: UserWarning: Found unknown categories in columns [1] during transform. These unknown categories will be encoded as all zeros\n",
      "  warnings.warn(\n",
      "/home/codespace/.local/lib/python3.10/site-packages/sklearn/metrics/_classification.py:1471: UndefinedMetricWarning: Precision is ill-defined and being set to 0.0 due to no predicted samples. Use `zero_division` parameter to control this behavior.\n",
      "  _warn_prf(average, modifier, msg_start, len(result))\n",
      "/home/codespace/.local/lib/python3.10/site-packages/sklearn/preprocessing/_encoders.py:228: UserWarning: Found unknown categories in columns [1] during transform. These unknown categories will be encoded as all zeros\n",
      "  warnings.warn(\n",
      "/home/codespace/.local/lib/python3.10/site-packages/sklearn/metrics/_classification.py:1471: UndefinedMetricWarning: Precision is ill-defined and being set to 0.0 due to no predicted samples. Use `zero_division` parameter to control this behavior.\n",
      "  _warn_prf(average, modifier, msg_start, len(result))\n"
     ]
    },
    {
     "name": "stdout",
     "output_type": "stream",
     "text": [
      "[CV 1/3] END classifier__max_depth=10, classifier__min_samples_leaf=2, classifier__min_samples_split=2, classifier__n_estimators=100; AUC-ROC: (train=0.763, test=0.718) Accuracy: (train=0.798, test=0.798) F1: (train=0.000, test=0.000) Precision: (train=0.000, test=0.000) Recall: (train=0.000, test=0.000) total time=   3.0s\n"
     ]
    },
    {
     "name": "stderr",
     "output_type": "stream",
     "text": [
      "/home/codespace/.local/lib/python3.10/site-packages/sklearn/preprocessing/_encoders.py:228: UserWarning: Found unknown categories in columns [1] during transform. These unknown categories will be encoded as all zeros\n",
      "  warnings.warn(\n",
      "/home/codespace/.local/lib/python3.10/site-packages/sklearn/metrics/_classification.py:1471: UndefinedMetricWarning: Precision is ill-defined and being set to 0.0 due to no predicted samples. Use `zero_division` parameter to control this behavior.\n",
      "  _warn_prf(average, modifier, msg_start, len(result))\n",
      "/home/codespace/.local/lib/python3.10/site-packages/sklearn/preprocessing/_encoders.py:228: UserWarning: Found unknown categories in columns [1] during transform. These unknown categories will be encoded as all zeros\n",
      "  warnings.warn(\n",
      "/home/codespace/.local/lib/python3.10/site-packages/sklearn/metrics/_classification.py:1471: UndefinedMetricWarning: Precision is ill-defined and being set to 0.0 due to no predicted samples. Use `zero_division` parameter to control this behavior.\n",
      "  _warn_prf(average, modifier, msg_start, len(result))\n"
     ]
    },
    {
     "name": "stdout",
     "output_type": "stream",
     "text": [
      "[CV 2/3] END classifier__max_depth=10, classifier__min_samples_leaf=2, classifier__min_samples_split=2, classifier__n_estimators=100; AUC-ROC: (train=0.765, test=0.714) Accuracy: (train=0.798, test=0.798) F1: (train=0.000, test=0.000) Precision: (train=0.000, test=0.000) Recall: (train=0.000, test=0.000) total time=   3.0s\n"
     ]
    },
    {
     "name": "stderr",
     "output_type": "stream",
     "text": [
      "/home/codespace/.local/lib/python3.10/site-packages/sklearn/metrics/_classification.py:1471: UndefinedMetricWarning: Precision is ill-defined and being set to 0.0 due to no predicted samples. Use `zero_division` parameter to control this behavior.\n",
      "  _warn_prf(average, modifier, msg_start, len(result))\n",
      "/home/codespace/.local/lib/python3.10/site-packages/sklearn/metrics/_classification.py:1471: UndefinedMetricWarning: Precision is ill-defined and being set to 0.0 due to no predicted samples. Use `zero_division` parameter to control this behavior.\n",
      "  _warn_prf(average, modifier, msg_start, len(result))\n"
     ]
    },
    {
     "name": "stdout",
     "output_type": "stream",
     "text": [
      "[CV 3/3] END classifier__max_depth=10, classifier__min_samples_leaf=2, classifier__min_samples_split=2, classifier__n_estimators=100; AUC-ROC: (train=0.763, test=0.712) Accuracy: (train=0.798, test=0.798) F1: (train=0.000, test=0.000) Precision: (train=0.000, test=0.000) Recall: (train=0.000, test=0.000) total time=   3.0s\n"
     ]
    },
    {
     "name": "stderr",
     "output_type": "stream",
     "text": [
      "/home/codespace/.local/lib/python3.10/site-packages/sklearn/preprocessing/_encoders.py:228: UserWarning: Found unknown categories in columns [1] during transform. These unknown categories will be encoded as all zeros\n",
      "  warnings.warn(\n",
      "/home/codespace/.local/lib/python3.10/site-packages/sklearn/metrics/_classification.py:1471: UndefinedMetricWarning: Precision is ill-defined and being set to 0.0 due to no predicted samples. Use `zero_division` parameter to control this behavior.\n",
      "  _warn_prf(average, modifier, msg_start, len(result))\n",
      "/home/codespace/.local/lib/python3.10/site-packages/sklearn/preprocessing/_encoders.py:228: UserWarning: Found unknown categories in columns [1] during transform. These unknown categories will be encoded as all zeros\n",
      "  warnings.warn(\n",
      "/home/codespace/.local/lib/python3.10/site-packages/sklearn/metrics/_classification.py:1471: UndefinedMetricWarning: Precision is ill-defined and being set to 0.0 due to no predicted samples. Use `zero_division` parameter to control this behavior.\n",
      "  _warn_prf(average, modifier, msg_start, len(result))\n"
     ]
    },
    {
     "name": "stdout",
     "output_type": "stream",
     "text": [
      "[CV 1/3] END classifier__max_depth=10, classifier__min_samples_leaf=2, classifier__min_samples_split=2, classifier__n_estimators=200; AUC-ROC: (train=0.763, test=0.717) Accuracy: (train=0.798, test=0.798) F1: (train=0.000, test=0.000) Precision: (train=0.000, test=0.000) Recall: (train=0.000, test=0.000) total time=   5.6s\n"
     ]
    },
    {
     "name": "stderr",
     "output_type": "stream",
     "text": [
      "/home/codespace/.local/lib/python3.10/site-packages/sklearn/preprocessing/_encoders.py:228: UserWarning: Found unknown categories in columns [1] during transform. These unknown categories will be encoded as all zeros\n",
      "  warnings.warn(\n",
      "/home/codespace/.local/lib/python3.10/site-packages/sklearn/metrics/_classification.py:1471: UndefinedMetricWarning: Precision is ill-defined and being set to 0.0 due to no predicted samples. Use `zero_division` parameter to control this behavior.\n",
      "  _warn_prf(average, modifier, msg_start, len(result))\n",
      "/home/codespace/.local/lib/python3.10/site-packages/sklearn/preprocessing/_encoders.py:228: UserWarning: Found unknown categories in columns [1] during transform. These unknown categories will be encoded as all zeros\n",
      "  warnings.warn(\n",
      "/home/codespace/.local/lib/python3.10/site-packages/sklearn/metrics/_classification.py:1471: UndefinedMetricWarning: Precision is ill-defined and being set to 0.0 due to no predicted samples. Use `zero_division` parameter to control this behavior.\n",
      "  _warn_prf(average, modifier, msg_start, len(result))\n"
     ]
    },
    {
     "name": "stdout",
     "output_type": "stream",
     "text": [
      "[CV 2/3] END classifier__max_depth=10, classifier__min_samples_leaf=2, classifier__min_samples_split=2, classifier__n_estimators=200; AUC-ROC: (train=0.765, test=0.714) Accuracy: (train=0.798, test=0.798) F1: (train=0.000, test=0.000) Precision: (train=0.000, test=0.000) Recall: (train=0.000, test=0.000) total time=   5.9s\n"
     ]
    },
    {
     "name": "stderr",
     "output_type": "stream",
     "text": [
      "/home/codespace/.local/lib/python3.10/site-packages/sklearn/metrics/_classification.py:1471: UndefinedMetricWarning: Precision is ill-defined and being set to 0.0 due to no predicted samples. Use `zero_division` parameter to control this behavior.\n",
      "  _warn_prf(average, modifier, msg_start, len(result))\n",
      "/home/codespace/.local/lib/python3.10/site-packages/sklearn/metrics/_classification.py:1471: UndefinedMetricWarning: Precision is ill-defined and being set to 0.0 due to no predicted samples. Use `zero_division` parameter to control this behavior.\n",
      "  _warn_prf(average, modifier, msg_start, len(result))\n"
     ]
    },
    {
     "name": "stdout",
     "output_type": "stream",
     "text": [
      "[CV 3/3] END classifier__max_depth=10, classifier__min_samples_leaf=2, classifier__min_samples_split=2, classifier__n_estimators=200; AUC-ROC: (train=0.765, test=0.714) Accuracy: (train=0.798, test=0.798) F1: (train=0.000, test=0.000) Precision: (train=0.000, test=0.000) Recall: (train=0.000, test=0.000) total time=   5.5s\n"
     ]
    },
    {
     "name": "stderr",
     "output_type": "stream",
     "text": [
      "/home/codespace/.local/lib/python3.10/site-packages/sklearn/preprocessing/_encoders.py:228: UserWarning: Found unknown categories in columns [1] during transform. These unknown categories will be encoded as all zeros\n",
      "  warnings.warn(\n",
      "/home/codespace/.local/lib/python3.10/site-packages/sklearn/metrics/_classification.py:1471: UndefinedMetricWarning: Precision is ill-defined and being set to 0.0 due to no predicted samples. Use `zero_division` parameter to control this behavior.\n",
      "  _warn_prf(average, modifier, msg_start, len(result))\n",
      "/home/codespace/.local/lib/python3.10/site-packages/sklearn/preprocessing/_encoders.py:228: UserWarning: Found unknown categories in columns [1] during transform. These unknown categories will be encoded as all zeros\n",
      "  warnings.warn(\n",
      "/home/codespace/.local/lib/python3.10/site-packages/sklearn/metrics/_classification.py:1471: UndefinedMetricWarning: Precision is ill-defined and being set to 0.0 due to no predicted samples. Use `zero_division` parameter to control this behavior.\n",
      "  _warn_prf(average, modifier, msg_start, len(result))\n"
     ]
    },
    {
     "name": "stdout",
     "output_type": "stream",
     "text": [
      "[CV 1/3] END classifier__max_depth=10, classifier__min_samples_leaf=2, classifier__min_samples_split=5, classifier__n_estimators=100; AUC-ROC: (train=0.762, test=0.715) Accuracy: (train=0.798, test=0.798) F1: (train=0.000, test=0.000) Precision: (train=0.000, test=0.000) Recall: (train=0.000, test=0.000) total time=   3.1s\n"
     ]
    },
    {
     "name": "stderr",
     "output_type": "stream",
     "text": [
      "/home/codespace/.local/lib/python3.10/site-packages/sklearn/preprocessing/_encoders.py:228: UserWarning: Found unknown categories in columns [1] during transform. These unknown categories will be encoded as all zeros\n",
      "  warnings.warn(\n",
      "/home/codespace/.local/lib/python3.10/site-packages/sklearn/metrics/_classification.py:1471: UndefinedMetricWarning: Precision is ill-defined and being set to 0.0 due to no predicted samples. Use `zero_division` parameter to control this behavior.\n",
      "  _warn_prf(average, modifier, msg_start, len(result))\n",
      "/home/codespace/.local/lib/python3.10/site-packages/sklearn/preprocessing/_encoders.py:228: UserWarning: Found unknown categories in columns [1] during transform. These unknown categories will be encoded as all zeros\n",
      "  warnings.warn(\n",
      "/home/codespace/.local/lib/python3.10/site-packages/sklearn/metrics/_classification.py:1471: UndefinedMetricWarning: Precision is ill-defined and being set to 0.0 due to no predicted samples. Use `zero_division` parameter to control this behavior.\n",
      "  _warn_prf(average, modifier, msg_start, len(result))\n"
     ]
    },
    {
     "name": "stdout",
     "output_type": "stream",
     "text": [
      "[CV 2/3] END classifier__max_depth=10, classifier__min_samples_leaf=2, classifier__min_samples_split=5, classifier__n_estimators=100; AUC-ROC: (train=0.765, test=0.715) Accuracy: (train=0.798, test=0.798) F1: (train=0.000, test=0.000) Precision: (train=0.000, test=0.000) Recall: (train=0.000, test=0.000) total time=   3.0s\n"
     ]
    },
    {
     "name": "stderr",
     "output_type": "stream",
     "text": [
      "/home/codespace/.local/lib/python3.10/site-packages/sklearn/metrics/_classification.py:1471: UndefinedMetricWarning: Precision is ill-defined and being set to 0.0 due to no predicted samples. Use `zero_division` parameter to control this behavior.\n",
      "  _warn_prf(average, modifier, msg_start, len(result))\n",
      "/home/codespace/.local/lib/python3.10/site-packages/sklearn/metrics/_classification.py:1471: UndefinedMetricWarning: Precision is ill-defined and being set to 0.0 due to no predicted samples. Use `zero_division` parameter to control this behavior.\n",
      "  _warn_prf(average, modifier, msg_start, len(result))\n"
     ]
    },
    {
     "name": "stdout",
     "output_type": "stream",
     "text": [
      "[CV 3/3] END classifier__max_depth=10, classifier__min_samples_leaf=2, classifier__min_samples_split=5, classifier__n_estimators=100; AUC-ROC: (train=0.764, test=0.712) Accuracy: (train=0.798, test=0.798) F1: (train=0.000, test=0.000) Precision: (train=0.000, test=0.000) Recall: (train=0.000, test=0.000) total time=   3.0s\n"
     ]
    },
    {
     "name": "stderr",
     "output_type": "stream",
     "text": [
      "/home/codespace/.local/lib/python3.10/site-packages/sklearn/preprocessing/_encoders.py:228: UserWarning: Found unknown categories in columns [1] during transform. These unknown categories will be encoded as all zeros\n",
      "  warnings.warn(\n",
      "/home/codespace/.local/lib/python3.10/site-packages/sklearn/metrics/_classification.py:1471: UndefinedMetricWarning: Precision is ill-defined and being set to 0.0 due to no predicted samples. Use `zero_division` parameter to control this behavior.\n",
      "  _warn_prf(average, modifier, msg_start, len(result))\n",
      "/home/codespace/.local/lib/python3.10/site-packages/sklearn/preprocessing/_encoders.py:228: UserWarning: Found unknown categories in columns [1] during transform. These unknown categories will be encoded as all zeros\n",
      "  warnings.warn(\n",
      "/home/codespace/.local/lib/python3.10/site-packages/sklearn/metrics/_classification.py:1471: UndefinedMetricWarning: Precision is ill-defined and being set to 0.0 due to no predicted samples. Use `zero_division` parameter to control this behavior.\n",
      "  _warn_prf(average, modifier, msg_start, len(result))\n"
     ]
    },
    {
     "name": "stdout",
     "output_type": "stream",
     "text": [
      "[CV 1/3] END classifier__max_depth=10, classifier__min_samples_leaf=2, classifier__min_samples_split=5, classifier__n_estimators=200; AUC-ROC: (train=0.763, test=0.715) Accuracy: (train=0.798, test=0.798) F1: (train=0.000, test=0.000) Precision: (train=0.000, test=0.000) Recall: (train=0.000, test=0.000) total time=   5.5s\n"
     ]
    },
    {
     "name": "stderr",
     "output_type": "stream",
     "text": [
      "/home/codespace/.local/lib/python3.10/site-packages/sklearn/preprocessing/_encoders.py:228: UserWarning: Found unknown categories in columns [1] during transform. These unknown categories will be encoded as all zeros\n",
      "  warnings.warn(\n",
      "/home/codespace/.local/lib/python3.10/site-packages/sklearn/metrics/_classification.py:1471: UndefinedMetricWarning: Precision is ill-defined and being set to 0.0 due to no predicted samples. Use `zero_division` parameter to control this behavior.\n",
      "  _warn_prf(average, modifier, msg_start, len(result))\n",
      "/home/codespace/.local/lib/python3.10/site-packages/sklearn/preprocessing/_encoders.py:228: UserWarning: Found unknown categories in columns [1] during transform. These unknown categories will be encoded as all zeros\n",
      "  warnings.warn(\n",
      "/home/codespace/.local/lib/python3.10/site-packages/sklearn/metrics/_classification.py:1471: UndefinedMetricWarning: Precision is ill-defined and being set to 0.0 due to no predicted samples. Use `zero_division` parameter to control this behavior.\n",
      "  _warn_prf(average, modifier, msg_start, len(result))\n"
     ]
    },
    {
     "name": "stdout",
     "output_type": "stream",
     "text": [
      "[CV 2/3] END classifier__max_depth=10, classifier__min_samples_leaf=2, classifier__min_samples_split=5, classifier__n_estimators=200; AUC-ROC: (train=0.766, test=0.715) Accuracy: (train=0.798, test=0.798) F1: (train=0.000, test=0.000) Precision: (train=0.000, test=0.000) Recall: (train=0.000, test=0.000) total time=   5.8s\n"
     ]
    },
    {
     "name": "stderr",
     "output_type": "stream",
     "text": [
      "/home/codespace/.local/lib/python3.10/site-packages/sklearn/metrics/_classification.py:1471: UndefinedMetricWarning: Precision is ill-defined and being set to 0.0 due to no predicted samples. Use `zero_division` parameter to control this behavior.\n",
      "  _warn_prf(average, modifier, msg_start, len(result))\n",
      "/home/codespace/.local/lib/python3.10/site-packages/sklearn/metrics/_classification.py:1471: UndefinedMetricWarning: Precision is ill-defined and being set to 0.0 due to no predicted samples. Use `zero_division` parameter to control this behavior.\n",
      "  _warn_prf(average, modifier, msg_start, len(result))\n"
     ]
    },
    {
     "name": "stdout",
     "output_type": "stream",
     "text": [
      "[CV 3/3] END classifier__max_depth=10, classifier__min_samples_leaf=2, classifier__min_samples_split=5, classifier__n_estimators=200; AUC-ROC: (train=0.767, test=0.715) Accuracy: (train=0.798, test=0.798) F1: (train=0.000, test=0.000) Precision: (train=0.000, test=0.000) Recall: (train=0.000, test=0.000) total time=   5.6s\n"
     ]
    },
    {
     "name": "stderr",
     "output_type": "stream",
     "text": [
      "/home/codespace/.local/lib/python3.10/site-packages/sklearn/preprocessing/_encoders.py:228: UserWarning: Found unknown categories in columns [1] during transform. These unknown categories will be encoded as all zeros\n",
      "  warnings.warn(\n",
      "/home/codespace/.local/lib/python3.10/site-packages/sklearn/metrics/_classification.py:1471: UndefinedMetricWarning: Precision is ill-defined and being set to 0.0 due to no predicted samples. Use `zero_division` parameter to control this behavior.\n",
      "  _warn_prf(average, modifier, msg_start, len(result))\n",
      "/home/codespace/.local/lib/python3.10/site-packages/sklearn/preprocessing/_encoders.py:228: UserWarning: Found unknown categories in columns [1] during transform. These unknown categories will be encoded as all zeros\n",
      "  warnings.warn(\n",
      "/home/codespace/.local/lib/python3.10/site-packages/sklearn/metrics/_classification.py:1471: UndefinedMetricWarning: Precision is ill-defined and being set to 0.0 due to no predicted samples. Use `zero_division` parameter to control this behavior.\n",
      "  _warn_prf(average, modifier, msg_start, len(result))\n"
     ]
    },
    {
     "name": "stdout",
     "output_type": "stream",
     "text": [
      "[CV 1/3] END classifier__max_depth=10, classifier__min_samples_leaf=2, classifier__min_samples_split=10, classifier__n_estimators=100; AUC-ROC: (train=0.757, test=0.717) Accuracy: (train=0.798, test=0.798) F1: (train=0.000, test=0.000) Precision: (train=0.000, test=0.000) Recall: (train=0.000, test=0.000) total time=   3.1s\n"
     ]
    },
    {
     "name": "stderr",
     "output_type": "stream",
     "text": [
      "/home/codespace/.local/lib/python3.10/site-packages/sklearn/preprocessing/_encoders.py:228: UserWarning: Found unknown categories in columns [1] during transform. These unknown categories will be encoded as all zeros\n",
      "  warnings.warn(\n",
      "/home/codespace/.local/lib/python3.10/site-packages/sklearn/metrics/_classification.py:1471: UndefinedMetricWarning: Precision is ill-defined and being set to 0.0 due to no predicted samples. Use `zero_division` parameter to control this behavior.\n",
      "  _warn_prf(average, modifier, msg_start, len(result))\n",
      "/home/codespace/.local/lib/python3.10/site-packages/sklearn/preprocessing/_encoders.py:228: UserWarning: Found unknown categories in columns [1] during transform. These unknown categories will be encoded as all zeros\n",
      "  warnings.warn(\n",
      "/home/codespace/.local/lib/python3.10/site-packages/sklearn/metrics/_classification.py:1471: UndefinedMetricWarning: Precision is ill-defined and being set to 0.0 due to no predicted samples. Use `zero_division` parameter to control this behavior.\n",
      "  _warn_prf(average, modifier, msg_start, len(result))\n"
     ]
    },
    {
     "name": "stdout",
     "output_type": "stream",
     "text": [
      "[CV 2/3] END classifier__max_depth=10, classifier__min_samples_leaf=2, classifier__min_samples_split=10, classifier__n_estimators=100; AUC-ROC: (train=0.759, test=0.716) Accuracy: (train=0.798, test=0.798) F1: (train=0.000, test=0.000) Precision: (train=0.000, test=0.000) Recall: (train=0.000, test=0.000) total time=   5.2s\n"
     ]
    },
    {
     "name": "stderr",
     "output_type": "stream",
     "text": [
      "/home/codespace/.local/lib/python3.10/site-packages/sklearn/metrics/_classification.py:1471: UndefinedMetricWarning: Precision is ill-defined and being set to 0.0 due to no predicted samples. Use `zero_division` parameter to control this behavior.\n",
      "  _warn_prf(average, modifier, msg_start, len(result))\n",
      "/home/codespace/.local/lib/python3.10/site-packages/sklearn/metrics/_classification.py:1471: UndefinedMetricWarning: Precision is ill-defined and being set to 0.0 due to no predicted samples. Use `zero_division` parameter to control this behavior.\n",
      "  _warn_prf(average, modifier, msg_start, len(result))\n"
     ]
    },
    {
     "name": "stdout",
     "output_type": "stream",
     "text": [
      "[CV 3/3] END classifier__max_depth=10, classifier__min_samples_leaf=2, classifier__min_samples_split=10, classifier__n_estimators=100; AUC-ROC: (train=0.761, test=0.715) Accuracy: (train=0.798, test=0.798) F1: (train=0.000, test=0.000) Precision: (train=0.000, test=0.000) Recall: (train=0.000, test=0.000) total time=   3.2s\n"
     ]
    },
    {
     "name": "stderr",
     "output_type": "stream",
     "text": [
      "/home/codespace/.local/lib/python3.10/site-packages/sklearn/preprocessing/_encoders.py:228: UserWarning: Found unknown categories in columns [1] during transform. These unknown categories will be encoded as all zeros\n",
      "  warnings.warn(\n",
      "/home/codespace/.local/lib/python3.10/site-packages/sklearn/metrics/_classification.py:1471: UndefinedMetricWarning: Precision is ill-defined and being set to 0.0 due to no predicted samples. Use `zero_division` parameter to control this behavior.\n",
      "  _warn_prf(average, modifier, msg_start, len(result))\n",
      "/home/codespace/.local/lib/python3.10/site-packages/sklearn/preprocessing/_encoders.py:228: UserWarning: Found unknown categories in columns [1] during transform. These unknown categories will be encoded as all zeros\n",
      "  warnings.warn(\n",
      "/home/codespace/.local/lib/python3.10/site-packages/sklearn/metrics/_classification.py:1471: UndefinedMetricWarning: Precision is ill-defined and being set to 0.0 due to no predicted samples. Use `zero_division` parameter to control this behavior.\n",
      "  _warn_prf(average, modifier, msg_start, len(result))\n"
     ]
    },
    {
     "name": "stdout",
     "output_type": "stream",
     "text": [
      "[CV 1/3] END classifier__max_depth=10, classifier__min_samples_leaf=2, classifier__min_samples_split=10, classifier__n_estimators=200; AUC-ROC: (train=0.755, test=0.714) Accuracy: (train=0.798, test=0.798) F1: (train=0.000, test=0.000) Precision: (train=0.000, test=0.000) Recall: (train=0.000, test=0.000) total time=   5.9s\n"
     ]
    },
    {
     "name": "stderr",
     "output_type": "stream",
     "text": [
      "/home/codespace/.local/lib/python3.10/site-packages/sklearn/preprocessing/_encoders.py:228: UserWarning: Found unknown categories in columns [1] during transform. These unknown categories will be encoded as all zeros\n",
      "  warnings.warn(\n",
      "/home/codespace/.local/lib/python3.10/site-packages/sklearn/metrics/_classification.py:1471: UndefinedMetricWarning: Precision is ill-defined and being set to 0.0 due to no predicted samples. Use `zero_division` parameter to control this behavior.\n",
      "  _warn_prf(average, modifier, msg_start, len(result))\n",
      "/home/codespace/.local/lib/python3.10/site-packages/sklearn/preprocessing/_encoders.py:228: UserWarning: Found unknown categories in columns [1] during transform. These unknown categories will be encoded as all zeros\n",
      "  warnings.warn(\n",
      "/home/codespace/.local/lib/python3.10/site-packages/sklearn/metrics/_classification.py:1471: UndefinedMetricWarning: Precision is ill-defined and being set to 0.0 due to no predicted samples. Use `zero_division` parameter to control this behavior.\n",
      "  _warn_prf(average, modifier, msg_start, len(result))\n"
     ]
    },
    {
     "name": "stdout",
     "output_type": "stream",
     "text": [
      "[CV 2/3] END classifier__max_depth=10, classifier__min_samples_leaf=2, classifier__min_samples_split=10, classifier__n_estimators=200; AUC-ROC: (train=0.761, test=0.715) Accuracy: (train=0.798, test=0.798) F1: (train=0.000, test=0.000) Precision: (train=0.000, test=0.000) Recall: (train=0.000, test=0.000) total time=   5.7s\n"
     ]
    },
    {
     "name": "stderr",
     "output_type": "stream",
     "text": [
      "/home/codespace/.local/lib/python3.10/site-packages/sklearn/metrics/_classification.py:1471: UndefinedMetricWarning: Precision is ill-defined and being set to 0.0 due to no predicted samples. Use `zero_division` parameter to control this behavior.\n",
      "  _warn_prf(average, modifier, msg_start, len(result))\n",
      "/home/codespace/.local/lib/python3.10/site-packages/sklearn/metrics/_classification.py:1471: UndefinedMetricWarning: Precision is ill-defined and being set to 0.0 due to no predicted samples. Use `zero_division` parameter to control this behavior.\n",
      "  _warn_prf(average, modifier, msg_start, len(result))\n"
     ]
    },
    {
     "name": "stdout",
     "output_type": "stream",
     "text": [
      "[CV 3/3] END classifier__max_depth=10, classifier__min_samples_leaf=2, classifier__min_samples_split=10, classifier__n_estimators=200; AUC-ROC: (train=0.759, test=0.714) Accuracy: (train=0.798, test=0.798) F1: (train=0.000, test=0.000) Precision: (train=0.000, test=0.000) Recall: (train=0.000, test=0.000) total time=   5.8s\n"
     ]
    },
    {
     "name": "stderr",
     "output_type": "stream",
     "text": [
      "/home/codespace/.local/lib/python3.10/site-packages/sklearn/preprocessing/_encoders.py:228: UserWarning: Found unknown categories in columns [1] during transform. These unknown categories will be encoded as all zeros\n",
      "  warnings.warn(\n",
      "/home/codespace/.local/lib/python3.10/site-packages/sklearn/metrics/_classification.py:1471: UndefinedMetricWarning: Precision is ill-defined and being set to 0.0 due to no predicted samples. Use `zero_division` parameter to control this behavior.\n",
      "  _warn_prf(average, modifier, msg_start, len(result))\n",
      "/home/codespace/.local/lib/python3.10/site-packages/sklearn/preprocessing/_encoders.py:228: UserWarning: Found unknown categories in columns [1] during transform. These unknown categories will be encoded as all zeros\n",
      "  warnings.warn(\n",
      "/home/codespace/.local/lib/python3.10/site-packages/sklearn/metrics/_classification.py:1471: UndefinedMetricWarning: Precision is ill-defined and being set to 0.0 due to no predicted samples. Use `zero_division` parameter to control this behavior.\n",
      "  _warn_prf(average, modifier, msg_start, len(result))\n"
     ]
    },
    {
     "name": "stdout",
     "output_type": "stream",
     "text": [
      "[CV 1/3] END classifier__max_depth=10, classifier__min_samples_leaf=4, classifier__min_samples_split=2, classifier__n_estimators=100; AUC-ROC: (train=0.748, test=0.714) Accuracy: (train=0.798, test=0.798) F1: (train=0.000, test=0.000) Precision: (train=0.000, test=0.000) Recall: (train=0.000, test=0.000) total time=   3.4s\n"
     ]
    },
    {
     "name": "stderr",
     "output_type": "stream",
     "text": [
      "/home/codespace/.local/lib/python3.10/site-packages/sklearn/preprocessing/_encoders.py:228: UserWarning: Found unknown categories in columns [1] during transform. These unknown categories will be encoded as all zeros\n",
      "  warnings.warn(\n",
      "/home/codespace/.local/lib/python3.10/site-packages/sklearn/metrics/_classification.py:1471: UndefinedMetricWarning: Precision is ill-defined and being set to 0.0 due to no predicted samples. Use `zero_division` parameter to control this behavior.\n",
      "  _warn_prf(average, modifier, msg_start, len(result))\n",
      "/home/codespace/.local/lib/python3.10/site-packages/sklearn/preprocessing/_encoders.py:228: UserWarning: Found unknown categories in columns [1] during transform. These unknown categories will be encoded as all zeros\n",
      "  warnings.warn(\n",
      "/home/codespace/.local/lib/python3.10/site-packages/sklearn/metrics/_classification.py:1471: UndefinedMetricWarning: Precision is ill-defined and being set to 0.0 due to no predicted samples. Use `zero_division` parameter to control this behavior.\n",
      "  _warn_prf(average, modifier, msg_start, len(result))\n"
     ]
    },
    {
     "name": "stdout",
     "output_type": "stream",
     "text": [
      "[CV 2/3] END classifier__max_depth=10, classifier__min_samples_leaf=4, classifier__min_samples_split=2, classifier__n_estimators=100; AUC-ROC: (train=0.752, test=0.715) Accuracy: (train=0.798, test=0.798) F1: (train=0.000, test=0.000) Precision: (train=0.000, test=0.000) Recall: (train=0.000, test=0.000) total time=   4.0s\n"
     ]
    },
    {
     "name": "stderr",
     "output_type": "stream",
     "text": [
      "/home/codespace/.local/lib/python3.10/site-packages/sklearn/metrics/_classification.py:1471: UndefinedMetricWarning: Precision is ill-defined and being set to 0.0 due to no predicted samples. Use `zero_division` parameter to control this behavior.\n",
      "  _warn_prf(average, modifier, msg_start, len(result))\n",
      "/home/codespace/.local/lib/python3.10/site-packages/sklearn/metrics/_classification.py:1471: UndefinedMetricWarning: Precision is ill-defined and being set to 0.0 due to no predicted samples. Use `zero_division` parameter to control this behavior.\n",
      "  _warn_prf(average, modifier, msg_start, len(result))\n"
     ]
    },
    {
     "name": "stdout",
     "output_type": "stream",
     "text": [
      "[CV 3/3] END classifier__max_depth=10, classifier__min_samples_leaf=4, classifier__min_samples_split=2, classifier__n_estimators=100; AUC-ROC: (train=0.753, test=0.714) Accuracy: (train=0.798, test=0.798) F1: (train=0.000, test=0.000) Precision: (train=0.000, test=0.000) Recall: (train=0.000, test=0.000) total time=   2.9s\n"
     ]
    },
    {
     "name": "stderr",
     "output_type": "stream",
     "text": [
      "/home/codespace/.local/lib/python3.10/site-packages/sklearn/preprocessing/_encoders.py:228: UserWarning: Found unknown categories in columns [1] during transform. These unknown categories will be encoded as all zeros\n",
      "  warnings.warn(\n",
      "/home/codespace/.local/lib/python3.10/site-packages/sklearn/metrics/_classification.py:1471: UndefinedMetricWarning: Precision is ill-defined and being set to 0.0 due to no predicted samples. Use `zero_division` parameter to control this behavior.\n",
      "  _warn_prf(average, modifier, msg_start, len(result))\n",
      "/home/codespace/.local/lib/python3.10/site-packages/sklearn/preprocessing/_encoders.py:228: UserWarning: Found unknown categories in columns [1] during transform. These unknown categories will be encoded as all zeros\n",
      "  warnings.warn(\n",
      "/home/codespace/.local/lib/python3.10/site-packages/sklearn/metrics/_classification.py:1471: UndefinedMetricWarning: Precision is ill-defined and being set to 0.0 due to no predicted samples. Use `zero_division` parameter to control this behavior.\n",
      "  _warn_prf(average, modifier, msg_start, len(result))\n"
     ]
    },
    {
     "name": "stdout",
     "output_type": "stream",
     "text": [
      "[CV 1/3] END classifier__max_depth=10, classifier__min_samples_leaf=4, classifier__min_samples_split=2, classifier__n_estimators=200; AUC-ROC: (train=0.753, test=0.715) Accuracy: (train=0.798, test=0.798) F1: (train=0.000, test=0.000) Precision: (train=0.000, test=0.000) Recall: (train=0.000, test=0.000) total time=   5.7s\n"
     ]
    },
    {
     "name": "stderr",
     "output_type": "stream",
     "text": [
      "/home/codespace/.local/lib/python3.10/site-packages/sklearn/preprocessing/_encoders.py:228: UserWarning: Found unknown categories in columns [1] during transform. These unknown categories will be encoded as all zeros\n",
      "  warnings.warn(\n",
      "/home/codespace/.local/lib/python3.10/site-packages/sklearn/metrics/_classification.py:1471: UndefinedMetricWarning: Precision is ill-defined and being set to 0.0 due to no predicted samples. Use `zero_division` parameter to control this behavior.\n",
      "  _warn_prf(average, modifier, msg_start, len(result))\n",
      "/home/codespace/.local/lib/python3.10/site-packages/sklearn/preprocessing/_encoders.py:228: UserWarning: Found unknown categories in columns [1] during transform. These unknown categories will be encoded as all zeros\n",
      "  warnings.warn(\n",
      "/home/codespace/.local/lib/python3.10/site-packages/sklearn/metrics/_classification.py:1471: UndefinedMetricWarning: Precision is ill-defined and being set to 0.0 due to no predicted samples. Use `zero_division` parameter to control this behavior.\n",
      "  _warn_prf(average, modifier, msg_start, len(result))\n"
     ]
    },
    {
     "name": "stdout",
     "output_type": "stream",
     "text": [
      "[CV 2/3] END classifier__max_depth=10, classifier__min_samples_leaf=4, classifier__min_samples_split=2, classifier__n_estimators=200; AUC-ROC: (train=0.755, test=0.715) Accuracy: (train=0.798, test=0.798) F1: (train=0.000, test=0.000) Precision: (train=0.000, test=0.000) Recall: (train=0.000, test=0.000) total time=   5.7s\n"
     ]
    },
    {
     "name": "stderr",
     "output_type": "stream",
     "text": [
      "/home/codespace/.local/lib/python3.10/site-packages/sklearn/metrics/_classification.py:1471: UndefinedMetricWarning: Precision is ill-defined and being set to 0.0 due to no predicted samples. Use `zero_division` parameter to control this behavior.\n",
      "  _warn_prf(average, modifier, msg_start, len(result))\n",
      "/home/codespace/.local/lib/python3.10/site-packages/sklearn/metrics/_classification.py:1471: UndefinedMetricWarning: Precision is ill-defined and being set to 0.0 due to no predicted samples. Use `zero_division` parameter to control this behavior.\n",
      "  _warn_prf(average, modifier, msg_start, len(result))\n"
     ]
    },
    {
     "name": "stdout",
     "output_type": "stream",
     "text": [
      "[CV 3/3] END classifier__max_depth=10, classifier__min_samples_leaf=4, classifier__min_samples_split=2, classifier__n_estimators=200; AUC-ROC: (train=0.757, test=0.715) Accuracy: (train=0.798, test=0.798) F1: (train=0.000, test=0.000) Precision: (train=0.000, test=0.000) Recall: (train=0.000, test=0.000) total time=   5.8s\n"
     ]
    },
    {
     "name": "stderr",
     "output_type": "stream",
     "text": [
      "/home/codespace/.local/lib/python3.10/site-packages/sklearn/preprocessing/_encoders.py:228: UserWarning: Found unknown categories in columns [1] during transform. These unknown categories will be encoded as all zeros\n",
      "  warnings.warn(\n",
      "/home/codespace/.local/lib/python3.10/site-packages/sklearn/metrics/_classification.py:1471: UndefinedMetricWarning: Precision is ill-defined and being set to 0.0 due to no predicted samples. Use `zero_division` parameter to control this behavior.\n",
      "  _warn_prf(average, modifier, msg_start, len(result))\n",
      "/home/codespace/.local/lib/python3.10/site-packages/sklearn/preprocessing/_encoders.py:228: UserWarning: Found unknown categories in columns [1] during transform. These unknown categories will be encoded as all zeros\n",
      "  warnings.warn(\n",
      "/home/codespace/.local/lib/python3.10/site-packages/sklearn/metrics/_classification.py:1471: UndefinedMetricWarning: Precision is ill-defined and being set to 0.0 due to no predicted samples. Use `zero_division` parameter to control this behavior.\n",
      "  _warn_prf(average, modifier, msg_start, len(result))\n"
     ]
    },
    {
     "name": "stdout",
     "output_type": "stream",
     "text": [
      "[CV 1/3] END classifier__max_depth=10, classifier__min_samples_leaf=4, classifier__min_samples_split=5, classifier__n_estimators=100; AUC-ROC: (train=0.752, test=0.717) Accuracy: (train=0.798, test=0.798) F1: (train=0.000, test=0.000) Precision: (train=0.000, test=0.000) Recall: (train=0.000, test=0.000) total time=   3.4s\n"
     ]
    },
    {
     "name": "stderr",
     "output_type": "stream",
     "text": [
      "/home/codespace/.local/lib/python3.10/site-packages/sklearn/preprocessing/_encoders.py:228: UserWarning: Found unknown categories in columns [1] during transform. These unknown categories will be encoded as all zeros\n",
      "  warnings.warn(\n",
      "/home/codespace/.local/lib/python3.10/site-packages/sklearn/metrics/_classification.py:1471: UndefinedMetricWarning: Precision is ill-defined and being set to 0.0 due to no predicted samples. Use `zero_division` parameter to control this behavior.\n",
      "  _warn_prf(average, modifier, msg_start, len(result))\n",
      "/home/codespace/.local/lib/python3.10/site-packages/sklearn/preprocessing/_encoders.py:228: UserWarning: Found unknown categories in columns [1] during transform. These unknown categories will be encoded as all zeros\n",
      "  warnings.warn(\n",
      "/home/codespace/.local/lib/python3.10/site-packages/sklearn/metrics/_classification.py:1471: UndefinedMetricWarning: Precision is ill-defined and being set to 0.0 due to no predicted samples. Use `zero_division` parameter to control this behavior.\n",
      "  _warn_prf(average, modifier, msg_start, len(result))\n"
     ]
    },
    {
     "name": "stdout",
     "output_type": "stream",
     "text": [
      "[CV 2/3] END classifier__max_depth=10, classifier__min_samples_leaf=4, classifier__min_samples_split=5, classifier__n_estimators=100; AUC-ROC: (train=0.750, test=0.712) Accuracy: (train=0.798, test=0.798) F1: (train=0.000, test=0.000) Precision: (train=0.000, test=0.000) Recall: (train=0.000, test=0.000) total time=   3.0s\n"
     ]
    },
    {
     "name": "stderr",
     "output_type": "stream",
     "text": [
      "/home/codespace/.local/lib/python3.10/site-packages/sklearn/metrics/_classification.py:1471: UndefinedMetricWarning: Precision is ill-defined and being set to 0.0 due to no predicted samples. Use `zero_division` parameter to control this behavior.\n",
      "  _warn_prf(average, modifier, msg_start, len(result))\n",
      "/home/codespace/.local/lib/python3.10/site-packages/sklearn/metrics/_classification.py:1471: UndefinedMetricWarning: Precision is ill-defined and being set to 0.0 due to no predicted samples. Use `zero_division` parameter to control this behavior.\n",
      "  _warn_prf(average, modifier, msg_start, len(result))\n"
     ]
    },
    {
     "name": "stdout",
     "output_type": "stream",
     "text": [
      "[CV 3/3] END classifier__max_depth=10, classifier__min_samples_leaf=4, classifier__min_samples_split=5, classifier__n_estimators=100; AUC-ROC: (train=0.756, test=0.715) Accuracy: (train=0.798, test=0.798) F1: (train=0.000, test=0.000) Precision: (train=0.000, test=0.000) Recall: (train=0.000, test=0.000) total time=   3.1s\n"
     ]
    },
    {
     "name": "stderr",
     "output_type": "stream",
     "text": [
      "/home/codespace/.local/lib/python3.10/site-packages/sklearn/preprocessing/_encoders.py:228: UserWarning: Found unknown categories in columns [1] during transform. These unknown categories will be encoded as all zeros\n",
      "  warnings.warn(\n",
      "/home/codespace/.local/lib/python3.10/site-packages/sklearn/metrics/_classification.py:1471: UndefinedMetricWarning: Precision is ill-defined and being set to 0.0 due to no predicted samples. Use `zero_division` parameter to control this behavior.\n",
      "  _warn_prf(average, modifier, msg_start, len(result))\n",
      "/home/codespace/.local/lib/python3.10/site-packages/sklearn/preprocessing/_encoders.py:228: UserWarning: Found unknown categories in columns [1] during transform. These unknown categories will be encoded as all zeros\n",
      "  warnings.warn(\n",
      "/home/codespace/.local/lib/python3.10/site-packages/sklearn/metrics/_classification.py:1471: UndefinedMetricWarning: Precision is ill-defined and being set to 0.0 due to no predicted samples. Use `zero_division` parameter to control this behavior.\n",
      "  _warn_prf(average, modifier, msg_start, len(result))\n"
     ]
    },
    {
     "name": "stdout",
     "output_type": "stream",
     "text": [
      "[CV 1/3] END classifier__max_depth=10, classifier__min_samples_leaf=4, classifier__min_samples_split=5, classifier__n_estimators=200; AUC-ROC: (train=0.751, test=0.715) Accuracy: (train=0.798, test=0.798) F1: (train=0.000, test=0.000) Precision: (train=0.000, test=0.000) Recall: (train=0.000, test=0.000) total time=   5.6s\n"
     ]
    },
    {
     "name": "stderr",
     "output_type": "stream",
     "text": [
      "/home/codespace/.local/lib/python3.10/site-packages/sklearn/preprocessing/_encoders.py:228: UserWarning: Found unknown categories in columns [1] during transform. These unknown categories will be encoded as all zeros\n",
      "  warnings.warn(\n",
      "/home/codespace/.local/lib/python3.10/site-packages/sklearn/metrics/_classification.py:1471: UndefinedMetricWarning: Precision is ill-defined and being set to 0.0 due to no predicted samples. Use `zero_division` parameter to control this behavior.\n",
      "  _warn_prf(average, modifier, msg_start, len(result))\n",
      "/home/codespace/.local/lib/python3.10/site-packages/sklearn/preprocessing/_encoders.py:228: UserWarning: Found unknown categories in columns [1] during transform. These unknown categories will be encoded as all zeros\n",
      "  warnings.warn(\n",
      "/home/codespace/.local/lib/python3.10/site-packages/sklearn/metrics/_classification.py:1471: UndefinedMetricWarning: Precision is ill-defined and being set to 0.0 due to no predicted samples. Use `zero_division` parameter to control this behavior.\n",
      "  _warn_prf(average, modifier, msg_start, len(result))\n"
     ]
    },
    {
     "name": "stdout",
     "output_type": "stream",
     "text": [
      "[CV 2/3] END classifier__max_depth=10, classifier__min_samples_leaf=4, classifier__min_samples_split=5, classifier__n_estimators=200; AUC-ROC: (train=0.755, test=0.716) Accuracy: (train=0.798, test=0.798) F1: (train=0.000, test=0.000) Precision: (train=0.000, test=0.000) Recall: (train=0.000, test=0.000) total time=   5.6s\n"
     ]
    },
    {
     "name": "stderr",
     "output_type": "stream",
     "text": [
      "/home/codespace/.local/lib/python3.10/site-packages/sklearn/metrics/_classification.py:1471: UndefinedMetricWarning: Precision is ill-defined and being set to 0.0 due to no predicted samples. Use `zero_division` parameter to control this behavior.\n",
      "  _warn_prf(average, modifier, msg_start, len(result))\n",
      "/home/codespace/.local/lib/python3.10/site-packages/sklearn/metrics/_classification.py:1471: UndefinedMetricWarning: Precision is ill-defined and being set to 0.0 due to no predicted samples. Use `zero_division` parameter to control this behavior.\n",
      "  _warn_prf(average, modifier, msg_start, len(result))\n"
     ]
    },
    {
     "name": "stdout",
     "output_type": "stream",
     "text": [
      "[CV 3/3] END classifier__max_depth=10, classifier__min_samples_leaf=4, classifier__min_samples_split=5, classifier__n_estimators=200; AUC-ROC: (train=0.754, test=0.715) Accuracy: (train=0.798, test=0.798) F1: (train=0.000, test=0.000) Precision: (train=0.000, test=0.000) Recall: (train=0.000, test=0.000) total time=   5.7s\n"
     ]
    },
    {
     "name": "stderr",
     "output_type": "stream",
     "text": [
      "/home/codespace/.local/lib/python3.10/site-packages/sklearn/preprocessing/_encoders.py:228: UserWarning: Found unknown categories in columns [1] during transform. These unknown categories will be encoded as all zeros\n",
      "  warnings.warn(\n",
      "/home/codespace/.local/lib/python3.10/site-packages/sklearn/metrics/_classification.py:1471: UndefinedMetricWarning: Precision is ill-defined and being set to 0.0 due to no predicted samples. Use `zero_division` parameter to control this behavior.\n",
      "  _warn_prf(average, modifier, msg_start, len(result))\n",
      "/home/codespace/.local/lib/python3.10/site-packages/sklearn/preprocessing/_encoders.py:228: UserWarning: Found unknown categories in columns [1] during transform. These unknown categories will be encoded as all zeros\n",
      "  warnings.warn(\n",
      "/home/codespace/.local/lib/python3.10/site-packages/sklearn/metrics/_classification.py:1471: UndefinedMetricWarning: Precision is ill-defined and being set to 0.0 due to no predicted samples. Use `zero_division` parameter to control this behavior.\n",
      "  _warn_prf(average, modifier, msg_start, len(result))\n"
     ]
    },
    {
     "name": "stdout",
     "output_type": "stream",
     "text": [
      "[CV 1/3] END classifier__max_depth=10, classifier__min_samples_leaf=4, classifier__min_samples_split=10, classifier__n_estimators=100; AUC-ROC: (train=0.753, test=0.716) Accuracy: (train=0.798, test=0.798) F1: (train=0.000, test=0.000) Precision: (train=0.000, test=0.000) Recall: (train=0.000, test=0.000) total time=   3.0s\n"
     ]
    },
    {
     "name": "stderr",
     "output_type": "stream",
     "text": [
      "/home/codespace/.local/lib/python3.10/site-packages/sklearn/preprocessing/_encoders.py:228: UserWarning: Found unknown categories in columns [1] during transform. These unknown categories will be encoded as all zeros\n",
      "  warnings.warn(\n",
      "/home/codespace/.local/lib/python3.10/site-packages/sklearn/metrics/_classification.py:1471: UndefinedMetricWarning: Precision is ill-defined and being set to 0.0 due to no predicted samples. Use `zero_division` parameter to control this behavior.\n",
      "  _warn_prf(average, modifier, msg_start, len(result))\n",
      "/home/codespace/.local/lib/python3.10/site-packages/sklearn/preprocessing/_encoders.py:228: UserWarning: Found unknown categories in columns [1] during transform. These unknown categories will be encoded as all zeros\n",
      "  warnings.warn(\n",
      "/home/codespace/.local/lib/python3.10/site-packages/sklearn/metrics/_classification.py:1471: UndefinedMetricWarning: Precision is ill-defined and being set to 0.0 due to no predicted samples. Use `zero_division` parameter to control this behavior.\n",
      "  _warn_prf(average, modifier, msg_start, len(result))\n"
     ]
    },
    {
     "name": "stdout",
     "output_type": "stream",
     "text": [
      "[CV 2/3] END classifier__max_depth=10, classifier__min_samples_leaf=4, classifier__min_samples_split=10, classifier__n_estimators=100; AUC-ROC: (train=0.754, test=0.715) Accuracy: (train=0.798, test=0.798) F1: (train=0.000, test=0.000) Precision: (train=0.000, test=0.000) Recall: (train=0.000, test=0.000) total time=   3.2s\n"
     ]
    },
    {
     "name": "stderr",
     "output_type": "stream",
     "text": [
      "/home/codespace/.local/lib/python3.10/site-packages/sklearn/metrics/_classification.py:1471: UndefinedMetricWarning: Precision is ill-defined and being set to 0.0 due to no predicted samples. Use `zero_division` parameter to control this behavior.\n",
      "  _warn_prf(average, modifier, msg_start, len(result))\n",
      "/home/codespace/.local/lib/python3.10/site-packages/sklearn/metrics/_classification.py:1471: UndefinedMetricWarning: Precision is ill-defined and being set to 0.0 due to no predicted samples. Use `zero_division` parameter to control this behavior.\n",
      "  _warn_prf(average, modifier, msg_start, len(result))\n"
     ]
    },
    {
     "name": "stdout",
     "output_type": "stream",
     "text": [
      "[CV 3/3] END classifier__max_depth=10, classifier__min_samples_leaf=4, classifier__min_samples_split=10, classifier__n_estimators=100; AUC-ROC: (train=0.747, test=0.711) Accuracy: (train=0.798, test=0.798) F1: (train=0.000, test=0.000) Precision: (train=0.000, test=0.000) Recall: (train=0.000, test=0.000) total time=   2.9s\n"
     ]
    },
    {
     "name": "stderr",
     "output_type": "stream",
     "text": [
      "/home/codespace/.local/lib/python3.10/site-packages/sklearn/preprocessing/_encoders.py:228: UserWarning: Found unknown categories in columns [1] during transform. These unknown categories will be encoded as all zeros\n",
      "  warnings.warn(\n",
      "/home/codespace/.local/lib/python3.10/site-packages/sklearn/metrics/_classification.py:1471: UndefinedMetricWarning: Precision is ill-defined and being set to 0.0 due to no predicted samples. Use `zero_division` parameter to control this behavior.\n",
      "  _warn_prf(average, modifier, msg_start, len(result))\n",
      "/home/codespace/.local/lib/python3.10/site-packages/sklearn/preprocessing/_encoders.py:228: UserWarning: Found unknown categories in columns [1] during transform. These unknown categories will be encoded as all zeros\n",
      "  warnings.warn(\n",
      "/home/codespace/.local/lib/python3.10/site-packages/sklearn/metrics/_classification.py:1471: UndefinedMetricWarning: Precision is ill-defined and being set to 0.0 due to no predicted samples. Use `zero_division` parameter to control this behavior.\n",
      "  _warn_prf(average, modifier, msg_start, len(result))\n"
     ]
    },
    {
     "name": "stdout",
     "output_type": "stream",
     "text": [
      "[CV 1/3] END classifier__max_depth=10, classifier__min_samples_leaf=4, classifier__min_samples_split=10, classifier__n_estimators=200; AUC-ROC: (train=0.748, test=0.713) Accuracy: (train=0.798, test=0.798) F1: (train=0.000, test=0.000) Precision: (train=0.000, test=0.000) Recall: (train=0.000, test=0.000) total time=   5.8s\n"
     ]
    },
    {
     "name": "stderr",
     "output_type": "stream",
     "text": [
      "/home/codespace/.local/lib/python3.10/site-packages/sklearn/preprocessing/_encoders.py:228: UserWarning: Found unknown categories in columns [1] during transform. These unknown categories will be encoded as all zeros\n",
      "  warnings.warn(\n",
      "/home/codespace/.local/lib/python3.10/site-packages/sklearn/metrics/_classification.py:1471: UndefinedMetricWarning: Precision is ill-defined and being set to 0.0 due to no predicted samples. Use `zero_division` parameter to control this behavior.\n",
      "  _warn_prf(average, modifier, msg_start, len(result))\n",
      "/home/codespace/.local/lib/python3.10/site-packages/sklearn/preprocessing/_encoders.py:228: UserWarning: Found unknown categories in columns [1] during transform. These unknown categories will be encoded as all zeros\n",
      "  warnings.warn(\n",
      "/home/codespace/.local/lib/python3.10/site-packages/sklearn/metrics/_classification.py:1471: UndefinedMetricWarning: Precision is ill-defined and being set to 0.0 due to no predicted samples. Use `zero_division` parameter to control this behavior.\n",
      "  _warn_prf(average, modifier, msg_start, len(result))\n"
     ]
    },
    {
     "name": "stdout",
     "output_type": "stream",
     "text": [
      "[CV 2/3] END classifier__max_depth=10, classifier__min_samples_leaf=4, classifier__min_samples_split=10, classifier__n_estimators=200; AUC-ROC: (train=0.756, test=0.716) Accuracy: (train=0.798, test=0.798) F1: (train=0.000, test=0.000) Precision: (train=0.000, test=0.000) Recall: (train=0.000, test=0.000) total time=   5.5s\n"
     ]
    },
    {
     "name": "stderr",
     "output_type": "stream",
     "text": [
      "/home/codespace/.local/lib/python3.10/site-packages/sklearn/metrics/_classification.py:1471: UndefinedMetricWarning: Precision is ill-defined and being set to 0.0 due to no predicted samples. Use `zero_division` parameter to control this behavior.\n",
      "  _warn_prf(average, modifier, msg_start, len(result))\n",
      "/home/codespace/.local/lib/python3.10/site-packages/sklearn/metrics/_classification.py:1471: UndefinedMetricWarning: Precision is ill-defined and being set to 0.0 due to no predicted samples. Use `zero_division` parameter to control this behavior.\n",
      "  _warn_prf(average, modifier, msg_start, len(result))\n"
     ]
    },
    {
     "name": "stdout",
     "output_type": "stream",
     "text": [
      "[CV 3/3] END classifier__max_depth=10, classifier__min_samples_leaf=4, classifier__min_samples_split=10, classifier__n_estimators=200; AUC-ROC: (train=0.755, test=0.716) Accuracy: (train=0.798, test=0.798) F1: (train=0.000, test=0.000) Precision: (train=0.000, test=0.000) Recall: (train=0.000, test=0.000) total time=   5.7s\n"
     ]
    },
    {
     "data": {
      "text/html": [
       "<style>#sk-container-id-1 {color: black;}#sk-container-id-1 pre{padding: 0;}#sk-container-id-1 div.sk-toggleable {background-color: white;}#sk-container-id-1 label.sk-toggleable__label {cursor: pointer;display: block;width: 100%;margin-bottom: 0;padding: 0.3em;box-sizing: border-box;text-align: center;}#sk-container-id-1 label.sk-toggleable__label-arrow:before {content: \"▸\";float: left;margin-right: 0.25em;color: #696969;}#sk-container-id-1 label.sk-toggleable__label-arrow:hover:before {color: black;}#sk-container-id-1 div.sk-estimator:hover label.sk-toggleable__label-arrow:before {color: black;}#sk-container-id-1 div.sk-toggleable__content {max-height: 0;max-width: 0;overflow: hidden;text-align: left;background-color: #f0f8ff;}#sk-container-id-1 div.sk-toggleable__content pre {margin: 0.2em;color: black;border-radius: 0.25em;background-color: #f0f8ff;}#sk-container-id-1 input.sk-toggleable__control:checked~div.sk-toggleable__content {max-height: 200px;max-width: 100%;overflow: auto;}#sk-container-id-1 input.sk-toggleable__control:checked~label.sk-toggleable__label-arrow:before {content: \"▾\";}#sk-container-id-1 div.sk-estimator input.sk-toggleable__control:checked~label.sk-toggleable__label {background-color: #d4ebff;}#sk-container-id-1 div.sk-label input.sk-toggleable__control:checked~label.sk-toggleable__label {background-color: #d4ebff;}#sk-container-id-1 input.sk-hidden--visually {border: 0;clip: rect(1px 1px 1px 1px);clip: rect(1px, 1px, 1px, 1px);height: 1px;margin: -1px;overflow: hidden;padding: 0;position: absolute;width: 1px;}#sk-container-id-1 div.sk-estimator {font-family: monospace;background-color: #f0f8ff;border: 1px dotted black;border-radius: 0.25em;box-sizing: border-box;margin-bottom: 0.5em;}#sk-container-id-1 div.sk-estimator:hover {background-color: #d4ebff;}#sk-container-id-1 div.sk-parallel-item::after {content: \"\";width: 100%;border-bottom: 1px solid gray;flex-grow: 1;}#sk-container-id-1 div.sk-label:hover label.sk-toggleable__label {background-color: #d4ebff;}#sk-container-id-1 div.sk-serial::before {content: \"\";position: absolute;border-left: 1px solid gray;box-sizing: border-box;top: 0;bottom: 0;left: 50%;z-index: 0;}#sk-container-id-1 div.sk-serial {display: flex;flex-direction: column;align-items: center;background-color: white;padding-right: 0.2em;padding-left: 0.2em;position: relative;}#sk-container-id-1 div.sk-item {position: relative;z-index: 1;}#sk-container-id-1 div.sk-parallel {display: flex;align-items: stretch;justify-content: center;background-color: white;position: relative;}#sk-container-id-1 div.sk-item::before, #sk-container-id-1 div.sk-parallel-item::before {content: \"\";position: absolute;border-left: 1px solid gray;box-sizing: border-box;top: 0;bottom: 0;left: 50%;z-index: -1;}#sk-container-id-1 div.sk-parallel-item {display: flex;flex-direction: column;z-index: 1;position: relative;background-color: white;}#sk-container-id-1 div.sk-parallel-item:first-child::after {align-self: flex-end;width: 50%;}#sk-container-id-1 div.sk-parallel-item:last-child::after {align-self: flex-start;width: 50%;}#sk-container-id-1 div.sk-parallel-item:only-child::after {width: 0;}#sk-container-id-1 div.sk-dashed-wrapped {border: 1px dashed gray;margin: 0 0.4em 0.5em 0.4em;box-sizing: border-box;padding-bottom: 0.4em;background-color: white;}#sk-container-id-1 div.sk-label label {font-family: monospace;font-weight: bold;display: inline-block;line-height: 1.2em;}#sk-container-id-1 div.sk-label-container {text-align: center;}#sk-container-id-1 div.sk-container {/* jupyter's `normalize.less` sets `[hidden] { display: none; }` but bootstrap.min.css set `[hidden] { display: none !important; }` so we also need the `!important` here to be able to override the default hidden behavior on the sphinx rendered scikit-learn.org. See: https://github.com/scikit-learn/scikit-learn/issues/21755 */display: inline-block !important;position: relative;}#sk-container-id-1 div.sk-text-repr-fallback {display: none;}</style><div id=\"sk-container-id-1\" class=\"sk-top-container\"><div class=\"sk-text-repr-fallback\"><pre>GridSearchCV(cv=3,\n",
       "             estimator=Pipeline(steps=[(&#x27;preprocessor&#x27;,\n",
       "                                        ColumnTransformer(remainder=&#x27;passthrough&#x27;,\n",
       "                                                          transformers=[(&#x27;categorical&#x27;,\n",
       "                                                                         Pipeline(steps=[(&#x27;imputer_mode&#x27;,\n",
       "                                                                                          SimpleImputer(strategy=&#x27;most_frequent&#x27;)),\n",
       "                                                                                         (&#x27;onehot&#x27;,\n",
       "                                                                                          OneHotEncoder(drop=&#x27;if_binary&#x27;,\n",
       "                                                                                                        handle_unknown=&#x27;ignore&#x27;,\n",
       "                                                                                                        sparse_output=False))]),\n",
       "                                                                         [&#x27;Sex&#x27;,\n",
       "                                                                          &#x27;Community&#x27;,\n",
       "                                                                          &#x27;SocialWelfare&#x27;,\n",
       "                                                                          &#x27;Hipertension&#x27;,\n",
       "                                                                          &#x27;Diabet...\n",
       "                                        RandomForestClassifier())]),\n",
       "             param_grid={&#x27;classifier__max_depth&#x27;: [None, 10],\n",
       "                         &#x27;classifier__min_samples_leaf&#x27;: [2, 4],\n",
       "                         &#x27;classifier__min_samples_split&#x27;: [2, 5, 10],\n",
       "                         &#x27;classifier__n_estimators&#x27;: [100, 200]},\n",
       "             refit=False, return_train_score=True,\n",
       "             scoring={&#x27;AUC-ROC&#x27;: &#x27;roc_auc&#x27;,\n",
       "                      &#x27;Accuracy&#x27;: make_scorer(accuracy_score), &#x27;F1&#x27;: &#x27;f1&#x27;,\n",
       "                      &#x27;Precision&#x27;: &#x27;precision&#x27;, &#x27;Recall&#x27;: &#x27;recall&#x27;},\n",
       "             verbose=3)</pre><b>In a Jupyter environment, please rerun this cell to show the HTML representation or trust the notebook. <br />On GitHub, the HTML representation is unable to render, please try loading this page with nbviewer.org.</b></div><div class=\"sk-container\" hidden><div class=\"sk-item sk-dashed-wrapped\"><div class=\"sk-label-container\"><div class=\"sk-label sk-toggleable\"><input class=\"sk-toggleable__control sk-hidden--visually\" id=\"sk-estimator-id-1\" type=\"checkbox\" ><label for=\"sk-estimator-id-1\" class=\"sk-toggleable__label sk-toggleable__label-arrow\">GridSearchCV</label><div class=\"sk-toggleable__content\"><pre>GridSearchCV(cv=3,\n",
       "             estimator=Pipeline(steps=[(&#x27;preprocessor&#x27;,\n",
       "                                        ColumnTransformer(remainder=&#x27;passthrough&#x27;,\n",
       "                                                          transformers=[(&#x27;categorical&#x27;,\n",
       "                                                                         Pipeline(steps=[(&#x27;imputer_mode&#x27;,\n",
       "                                                                                          SimpleImputer(strategy=&#x27;most_frequent&#x27;)),\n",
       "                                                                                         (&#x27;onehot&#x27;,\n",
       "                                                                                          OneHotEncoder(drop=&#x27;if_binary&#x27;,\n",
       "                                                                                                        handle_unknown=&#x27;ignore&#x27;,\n",
       "                                                                                                        sparse_output=False))]),\n",
       "                                                                         [&#x27;Sex&#x27;,\n",
       "                                                                          &#x27;Community&#x27;,\n",
       "                                                                          &#x27;SocialWelfare&#x27;,\n",
       "                                                                          &#x27;Hipertension&#x27;,\n",
       "                                                                          &#x27;Diabet...\n",
       "                                        RandomForestClassifier())]),\n",
       "             param_grid={&#x27;classifier__max_depth&#x27;: [None, 10],\n",
       "                         &#x27;classifier__min_samples_leaf&#x27;: [2, 4],\n",
       "                         &#x27;classifier__min_samples_split&#x27;: [2, 5, 10],\n",
       "                         &#x27;classifier__n_estimators&#x27;: [100, 200]},\n",
       "             refit=False, return_train_score=True,\n",
       "             scoring={&#x27;AUC-ROC&#x27;: &#x27;roc_auc&#x27;,\n",
       "                      &#x27;Accuracy&#x27;: make_scorer(accuracy_score), &#x27;F1&#x27;: &#x27;f1&#x27;,\n",
       "                      &#x27;Precision&#x27;: &#x27;precision&#x27;, &#x27;Recall&#x27;: &#x27;recall&#x27;},\n",
       "             verbose=3)</pre></div></div></div><div class=\"sk-parallel\"><div class=\"sk-parallel-item\"><div class=\"sk-item\"><div class=\"sk-label-container\"><div class=\"sk-label sk-toggleable\"><input class=\"sk-toggleable__control sk-hidden--visually\" id=\"sk-estimator-id-2\" type=\"checkbox\" ><label for=\"sk-estimator-id-2\" class=\"sk-toggleable__label sk-toggleable__label-arrow\">estimator: Pipeline</label><div class=\"sk-toggleable__content\"><pre>Pipeline(steps=[(&#x27;preprocessor&#x27;,\n",
       "                 ColumnTransformer(remainder=&#x27;passthrough&#x27;,\n",
       "                                   transformers=[(&#x27;categorical&#x27;,\n",
       "                                                  Pipeline(steps=[(&#x27;imputer_mode&#x27;,\n",
       "                                                                   SimpleImputer(strategy=&#x27;most_frequent&#x27;)),\n",
       "                                                                  (&#x27;onehot&#x27;,\n",
       "                                                                   OneHotEncoder(drop=&#x27;if_binary&#x27;,\n",
       "                                                                                 handle_unknown=&#x27;ignore&#x27;,\n",
       "                                                                                 sparse_output=False))]),\n",
       "                                                  [&#x27;Sex&#x27;, &#x27;Community&#x27;,\n",
       "                                                   &#x27;SocialWelfare&#x27;,\n",
       "                                                   &#x27;Hipertension&#x27;, &#x27;Diabetes&#x27;,\n",
       "                                                   &#x27;Alcoholism&#x27;, &#x27;Handcap&#x27;,\n",
       "                                                   &#x27;SMS_received&#x27;]),\n",
       "                                                 (&#x27;numerical&#x27;,\n",
       "                                                  Pipeline(steps=[(&#x27;imputer_median&#x27;,\n",
       "                                                                   SimpleImputer(strategy=&#x27;median&#x27;))]),\n",
       "                                                  [&#x27;Age&#x27;])])),\n",
       "                (&#x27;classifier&#x27;, RandomForestClassifier())])</pre></div></div></div><div class=\"sk-serial\"><div class=\"sk-item\"><div class=\"sk-serial\"><div class=\"sk-item sk-dashed-wrapped\"><div class=\"sk-label-container\"><div class=\"sk-label sk-toggleable\"><input class=\"sk-toggleable__control sk-hidden--visually\" id=\"sk-estimator-id-3\" type=\"checkbox\" ><label for=\"sk-estimator-id-3\" class=\"sk-toggleable__label sk-toggleable__label-arrow\">preprocessor: ColumnTransformer</label><div class=\"sk-toggleable__content\"><pre>ColumnTransformer(remainder=&#x27;passthrough&#x27;,\n",
       "                  transformers=[(&#x27;categorical&#x27;,\n",
       "                                 Pipeline(steps=[(&#x27;imputer_mode&#x27;,\n",
       "                                                  SimpleImputer(strategy=&#x27;most_frequent&#x27;)),\n",
       "                                                 (&#x27;onehot&#x27;,\n",
       "                                                  OneHotEncoder(drop=&#x27;if_binary&#x27;,\n",
       "                                                                handle_unknown=&#x27;ignore&#x27;,\n",
       "                                                                sparse_output=False))]),\n",
       "                                 [&#x27;Sex&#x27;, &#x27;Community&#x27;, &#x27;SocialWelfare&#x27;,\n",
       "                                  &#x27;Hipertension&#x27;, &#x27;Diabetes&#x27;, &#x27;Alcoholism&#x27;,\n",
       "                                  &#x27;Handcap&#x27;, &#x27;SMS_received&#x27;]),\n",
       "                                (&#x27;numerical&#x27;,\n",
       "                                 Pipeline(steps=[(&#x27;imputer_median&#x27;,\n",
       "                                                  SimpleImputer(strategy=&#x27;median&#x27;))]),\n",
       "                                 [&#x27;Age&#x27;])])</pre></div></div></div><div class=\"sk-parallel\"><div class=\"sk-parallel-item\"><div class=\"sk-item\"><div class=\"sk-label-container\"><div class=\"sk-label sk-toggleable\"><input class=\"sk-toggleable__control sk-hidden--visually\" id=\"sk-estimator-id-4\" type=\"checkbox\" ><label for=\"sk-estimator-id-4\" class=\"sk-toggleable__label sk-toggleable__label-arrow\">categorical</label><div class=\"sk-toggleable__content\"><pre>[&#x27;Sex&#x27;, &#x27;Community&#x27;, &#x27;SocialWelfare&#x27;, &#x27;Hipertension&#x27;, &#x27;Diabetes&#x27;, &#x27;Alcoholism&#x27;, &#x27;Handcap&#x27;, &#x27;SMS_received&#x27;]</pre></div></div></div><div class=\"sk-serial\"><div class=\"sk-item\"><div class=\"sk-serial\"><div class=\"sk-item\"><div class=\"sk-estimator sk-toggleable\"><input class=\"sk-toggleable__control sk-hidden--visually\" id=\"sk-estimator-id-5\" type=\"checkbox\" ><label for=\"sk-estimator-id-5\" class=\"sk-toggleable__label sk-toggleable__label-arrow\">SimpleImputer</label><div class=\"sk-toggleable__content\"><pre>SimpleImputer(strategy=&#x27;most_frequent&#x27;)</pre></div></div></div><div class=\"sk-item\"><div class=\"sk-estimator sk-toggleable\"><input class=\"sk-toggleable__control sk-hidden--visually\" id=\"sk-estimator-id-6\" type=\"checkbox\" ><label for=\"sk-estimator-id-6\" class=\"sk-toggleable__label sk-toggleable__label-arrow\">OneHotEncoder</label><div class=\"sk-toggleable__content\"><pre>OneHotEncoder(drop=&#x27;if_binary&#x27;, handle_unknown=&#x27;ignore&#x27;, sparse_output=False)</pre></div></div></div></div></div></div></div></div><div class=\"sk-parallel-item\"><div class=\"sk-item\"><div class=\"sk-label-container\"><div class=\"sk-label sk-toggleable\"><input class=\"sk-toggleable__control sk-hidden--visually\" id=\"sk-estimator-id-7\" type=\"checkbox\" ><label for=\"sk-estimator-id-7\" class=\"sk-toggleable__label sk-toggleable__label-arrow\">numerical</label><div class=\"sk-toggleable__content\"><pre>[&#x27;Age&#x27;]</pre></div></div></div><div class=\"sk-serial\"><div class=\"sk-item\"><div class=\"sk-serial\"><div class=\"sk-item\"><div class=\"sk-estimator sk-toggleable\"><input class=\"sk-toggleable__control sk-hidden--visually\" id=\"sk-estimator-id-8\" type=\"checkbox\" ><label for=\"sk-estimator-id-8\" class=\"sk-toggleable__label sk-toggleable__label-arrow\">SimpleImputer</label><div class=\"sk-toggleable__content\"><pre>SimpleImputer(strategy=&#x27;median&#x27;)</pre></div></div></div></div></div></div></div></div><div class=\"sk-parallel-item\"><div class=\"sk-item\"><div class=\"sk-label-container\"><div class=\"sk-label sk-toggleable\"><input class=\"sk-toggleable__control sk-hidden--visually\" id=\"sk-estimator-id-9\" type=\"checkbox\" ><label for=\"sk-estimator-id-9\" class=\"sk-toggleable__label sk-toggleable__label-arrow\">remainder</label><div class=\"sk-toggleable__content\"><pre>[&#x27;PatientId&#x27;, &#x27;AppointmentDate&#x27;, &#x27;WaitingTime&#x27;]</pre></div></div></div><div class=\"sk-serial\"><div class=\"sk-item\"><div class=\"sk-estimator sk-toggleable\"><input class=\"sk-toggleable__control sk-hidden--visually\" id=\"sk-estimator-id-10\" type=\"checkbox\" ><label for=\"sk-estimator-id-10\" class=\"sk-toggleable__label sk-toggleable__label-arrow\">passthrough</label><div class=\"sk-toggleable__content\"><pre>passthrough</pre></div></div></div></div></div></div></div></div><div class=\"sk-item\"><div class=\"sk-estimator sk-toggleable\"><input class=\"sk-toggleable__control sk-hidden--visually\" id=\"sk-estimator-id-11\" type=\"checkbox\" ><label for=\"sk-estimator-id-11\" class=\"sk-toggleable__label sk-toggleable__label-arrow\">RandomForestClassifier</label><div class=\"sk-toggleable__content\"><pre>RandomForestClassifier()</pre></div></div></div></div></div></div></div></div></div></div></div></div>"
      ],
      "text/plain": [
       "GridSearchCV(cv=3,\n",
       "             estimator=Pipeline(steps=[('preprocessor',\n",
       "                                        ColumnTransformer(remainder='passthrough',\n",
       "                                                          transformers=[('categorical',\n",
       "                                                                         Pipeline(steps=[('imputer_mode',\n",
       "                                                                                          SimpleImputer(strategy='most_frequent')),\n",
       "                                                                                         ('onehot',\n",
       "                                                                                          OneHotEncoder(drop='if_binary',\n",
       "                                                                                                        handle_unknown='ignore',\n",
       "                                                                                                        sparse_output=False))]),\n",
       "                                                                         ['Sex',\n",
       "                                                                          'Community',\n",
       "                                                                          'SocialWelfare',\n",
       "                                                                          'Hipertension',\n",
       "                                                                          'Diabet...\n",
       "                                        RandomForestClassifier())]),\n",
       "             param_grid={'classifier__max_depth': [None, 10],\n",
       "                         'classifier__min_samples_leaf': [2, 4],\n",
       "                         'classifier__min_samples_split': [2, 5, 10],\n",
       "                         'classifier__n_estimators': [100, 200]},\n",
       "             refit=False, return_train_score=True,\n",
       "             scoring={'AUC-ROC': 'roc_auc',\n",
       "                      'Accuracy': make_scorer(accuracy_score), 'F1': 'f1',\n",
       "                      'Precision': 'precision', 'Recall': 'recall'},\n",
       "             verbose=3)"
      ]
     },
     "execution_count": 40,
     "metadata": {},
     "output_type": "execute_result"
    }
   ],
   "source": [
    "from sklearn.metrics import accuracy_score, make_scorer\n",
    "from sklearn.model_selection import GridSearchCV\n",
    "\n",
    "accuracy_scorer = make_scorer(accuracy_score)\n",
    "g_search = GridSearchCV(pipe, param_grid, verbose=3, cv=3, return_train_score=True, scoring={'Accuracy': accuracy_scorer, 'Precision': 'precision', 'Recall': 'recall', 'F1': 'f1', 'AUC-ROC': 'roc_auc'}, refit= False)\n",
    "g_search.fit(X_train, y_train)"
   ]
  },
  {
   "cell_type": "markdown",
   "metadata": {},
   "source": [
    "## XGBOOST"
   ]
  },
  {
   "cell_type": "code",
   "execution_count": 41,
   "metadata": {},
   "outputs": [
    {
     "ename": "ModuleNotFoundError",
     "evalue": "No module named 'xgboost'",
     "output_type": "error",
     "traceback": [
      "\u001b[0;31m---------------------------------------------------------------------------\u001b[0m",
      "\u001b[0;31mModuleNotFoundError\u001b[0m                       Traceback (most recent call last)",
      "Cell \u001b[0;32mIn[41], line 1\u001b[0m\n\u001b[0;32m----> 1\u001b[0m \u001b[38;5;28;01mimport\u001b[39;00m \u001b[38;5;21;01mxgboost\u001b[39;00m \u001b[38;5;28;01mas\u001b[39;00m \u001b[38;5;21;01mxgb\u001b[39;00m\n\u001b[1;32m      2\u001b[0m xgb_model \u001b[38;5;241m=\u001b[39m xgb\u001b[38;5;241m.\u001b[39mXGBClassifier(objective\u001b[38;5;241m=\u001b[39m\u001b[38;5;124m\"\u001b[39m\u001b[38;5;124mbinary:logistic\u001b[39m\u001b[38;5;124m\"\u001b[39m, random_state\u001b[38;5;241m=\u001b[39m\u001b[38;5;241m42\u001b[39m)\n\u001b[1;32m      3\u001b[0m pipe_xgb\u001b[38;5;241m=\u001b[39m Pipeline([\n\u001b[1;32m      4\u001b[0m     (\u001b[38;5;124m'\u001b[39m\u001b[38;5;124mpreprocessor\u001b[39m\u001b[38;5;124m'\u001b[39m, preprocessing),\n\u001b[1;32m      5\u001b[0m     (\u001b[38;5;124m'\u001b[39m\u001b[38;5;124mclassifier\u001b[39m\u001b[38;5;124m'\u001b[39m, xgb_model)]\n\u001b[1;32m      6\u001b[0m )\n",
      "\u001b[0;31mModuleNotFoundError\u001b[0m: No module named 'xgboost'"
     ]
    }
   ],
   "source": [
    "import xgboost as xgb\n",
    "xgb_model = xgb.XGBClassifier(objective=\"binary:logistic\", random_state=42)\n",
    "pipe_xgb= Pipeline([\n",
    "    ('preprocessor', preprocessing),\n",
    "    ('classifier', xgb_model)]\n",
    ")\n",
    "pipe_xgb.fit(X_train,y_train)\n",
    "y_pred = pipe_xgb.predict(X_test)\n",
    "print(\"R-squared:\", r2_score(y_test, y_pred))\n",
    "print(\"MAE:\", mean_absolute_error(y_test, y_pred))\n",
    "print(\"RMSE:\", mean_squared_error(y_test, y_pred, squared=False))"
   ]
  },
  {
   "cell_type": "markdown",
   "metadata": {},
   "source": [
    "# 6. Model Evaluation"
   ]
  },
  {
   "cell_type": "markdown",
   "metadata": {},
   "source": [
    "ROC plots"
   ]
  }
 ],
 "metadata": {
  "kernelspec": {
   "display_name": "Python 3",
   "language": "python",
   "name": "python3"
  },
  "language_info": {
   "codemirror_mode": {
    "name": "ipython",
    "version": 3
   },
   "file_extension": ".py",
   "mimetype": "text/x-python",
   "name": "python",
   "nbconvert_exporter": "python",
   "pygments_lexer": "ipython3",
   "version": "3.10.13"
  }
 },
 "nbformat": 4,
 "nbformat_minor": 2
}
